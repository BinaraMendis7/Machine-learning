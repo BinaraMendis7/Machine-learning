{
 "cells": [
  {
   "cell_type": "code",
   "metadata": {
    "executionInfo": {
     "elapsed": 437,
     "status": "ok",
     "timestamp": 1734838497880,
     "user": {
      "displayName": "Binara mendis Dinuwara",
      "userId": "02094149013337095763"
     },
     "user_tz": -330
    },
    "id": "7GQIA_4hqQ2-",
    "ExecuteTime": {
     "end_time": "2024-12-23T06:52:30.322948Z",
     "start_time": "2024-12-23T06:52:30.316218Z"
    }
   },
   "source": [
    "import pandas as pd\n",
    "import numpy as np\n",
    "import matplotlib.pyplot as plt\n",
    "import seaborn as sns"
   ],
   "outputs": [],
   "execution_count": 311
  },
  {
   "cell_type": "code",
   "metadata": {
    "executionInfo": {
     "elapsed": 377,
     "status": "ok",
     "timestamp": 1734838503376,
     "user": {
      "displayName": "Binara mendis Dinuwara",
      "userId": "02094149013337095763"
     },
     "user_tz": -330
    },
    "id": "v1hWSKCYqfH0",
    "ExecuteTime": {
     "end_time": "2024-12-23T06:52:30.511841Z",
     "start_time": "2024-12-23T06:52:30.409678Z"
    }
   },
   "source": [
    "df=pd.read_csv(\"bank-full.csv\", delimiter=\";\")"
   ],
   "outputs": [],
   "execution_count": 312
  },
  {
   "cell_type": "code",
   "metadata": {
    "colab": {
     "base_uri": "https://localhost:8080/",
     "height": 226
    },
    "executionInfo": {
     "elapsed": 350,
     "status": "ok",
     "timestamp": 1734788422534,
     "user": {
      "displayName": "Binara mendis Dinuwara",
      "userId": "02094149013337095763"
     },
     "user_tz": -330
    },
    "id": "I-yykf6VqsUL",
    "outputId": "156513ba-2977-426b-feee-373df9adc3eb",
    "ExecuteTime": {
     "end_time": "2024-12-23T06:52:30.542104Z",
     "start_time": "2024-12-23T06:52:30.511841Z"
    }
   },
   "source": [
    "df.head()"
   ],
   "outputs": [
    {
     "data": {
      "text/plain": [
       "   age           job  marital  education default  balance housing loan  \\\n",
       "0   58    management  married   tertiary      no     2143     yes   no   \n",
       "1   44    technician   single  secondary      no       29     yes   no   \n",
       "2   33  entrepreneur  married  secondary      no        2     yes  yes   \n",
       "3   47   blue-collar  married    unknown      no     1506     yes   no   \n",
       "4   33       unknown   single    unknown      no        1      no   no   \n",
       "\n",
       "   contact  day month  duration  campaign  pdays  previous poutcome   y  \n",
       "0  unknown    5   may       261         1     -1         0  unknown  no  \n",
       "1  unknown    5   may       151         1     -1         0  unknown  no  \n",
       "2  unknown    5   may        76         1     -1         0  unknown  no  \n",
       "3  unknown    5   may        92         1     -1         0  unknown  no  \n",
       "4  unknown    5   may       198         1     -1         0  unknown  no  "
      ],
      "text/html": [
       "<div>\n",
       "<style scoped>\n",
       "    .dataframe tbody tr th:only-of-type {\n",
       "        vertical-align: middle;\n",
       "    }\n",
       "\n",
       "    .dataframe tbody tr th {\n",
       "        vertical-align: top;\n",
       "    }\n",
       "\n",
       "    .dataframe thead th {\n",
       "        text-align: right;\n",
       "    }\n",
       "</style>\n",
       "<table border=\"1\" class=\"dataframe\">\n",
       "  <thead>\n",
       "    <tr style=\"text-align: right;\">\n",
       "      <th></th>\n",
       "      <th>age</th>\n",
       "      <th>job</th>\n",
       "      <th>marital</th>\n",
       "      <th>education</th>\n",
       "      <th>default</th>\n",
       "      <th>balance</th>\n",
       "      <th>housing</th>\n",
       "      <th>loan</th>\n",
       "      <th>contact</th>\n",
       "      <th>day</th>\n",
       "      <th>month</th>\n",
       "      <th>duration</th>\n",
       "      <th>campaign</th>\n",
       "      <th>pdays</th>\n",
       "      <th>previous</th>\n",
       "      <th>poutcome</th>\n",
       "      <th>y</th>\n",
       "    </tr>\n",
       "  </thead>\n",
       "  <tbody>\n",
       "    <tr>\n",
       "      <th>0</th>\n",
       "      <td>58</td>\n",
       "      <td>management</td>\n",
       "      <td>married</td>\n",
       "      <td>tertiary</td>\n",
       "      <td>no</td>\n",
       "      <td>2143</td>\n",
       "      <td>yes</td>\n",
       "      <td>no</td>\n",
       "      <td>unknown</td>\n",
       "      <td>5</td>\n",
       "      <td>may</td>\n",
       "      <td>261</td>\n",
       "      <td>1</td>\n",
       "      <td>-1</td>\n",
       "      <td>0</td>\n",
       "      <td>unknown</td>\n",
       "      <td>no</td>\n",
       "    </tr>\n",
       "    <tr>\n",
       "      <th>1</th>\n",
       "      <td>44</td>\n",
       "      <td>technician</td>\n",
       "      <td>single</td>\n",
       "      <td>secondary</td>\n",
       "      <td>no</td>\n",
       "      <td>29</td>\n",
       "      <td>yes</td>\n",
       "      <td>no</td>\n",
       "      <td>unknown</td>\n",
       "      <td>5</td>\n",
       "      <td>may</td>\n",
       "      <td>151</td>\n",
       "      <td>1</td>\n",
       "      <td>-1</td>\n",
       "      <td>0</td>\n",
       "      <td>unknown</td>\n",
       "      <td>no</td>\n",
       "    </tr>\n",
       "    <tr>\n",
       "      <th>2</th>\n",
       "      <td>33</td>\n",
       "      <td>entrepreneur</td>\n",
       "      <td>married</td>\n",
       "      <td>secondary</td>\n",
       "      <td>no</td>\n",
       "      <td>2</td>\n",
       "      <td>yes</td>\n",
       "      <td>yes</td>\n",
       "      <td>unknown</td>\n",
       "      <td>5</td>\n",
       "      <td>may</td>\n",
       "      <td>76</td>\n",
       "      <td>1</td>\n",
       "      <td>-1</td>\n",
       "      <td>0</td>\n",
       "      <td>unknown</td>\n",
       "      <td>no</td>\n",
       "    </tr>\n",
       "    <tr>\n",
       "      <th>3</th>\n",
       "      <td>47</td>\n",
       "      <td>blue-collar</td>\n",
       "      <td>married</td>\n",
       "      <td>unknown</td>\n",
       "      <td>no</td>\n",
       "      <td>1506</td>\n",
       "      <td>yes</td>\n",
       "      <td>no</td>\n",
       "      <td>unknown</td>\n",
       "      <td>5</td>\n",
       "      <td>may</td>\n",
       "      <td>92</td>\n",
       "      <td>1</td>\n",
       "      <td>-1</td>\n",
       "      <td>0</td>\n",
       "      <td>unknown</td>\n",
       "      <td>no</td>\n",
       "    </tr>\n",
       "    <tr>\n",
       "      <th>4</th>\n",
       "      <td>33</td>\n",
       "      <td>unknown</td>\n",
       "      <td>single</td>\n",
       "      <td>unknown</td>\n",
       "      <td>no</td>\n",
       "      <td>1</td>\n",
       "      <td>no</td>\n",
       "      <td>no</td>\n",
       "      <td>unknown</td>\n",
       "      <td>5</td>\n",
       "      <td>may</td>\n",
       "      <td>198</td>\n",
       "      <td>1</td>\n",
       "      <td>-1</td>\n",
       "      <td>0</td>\n",
       "      <td>unknown</td>\n",
       "      <td>no</td>\n",
       "    </tr>\n",
       "  </tbody>\n",
       "</table>\n",
       "</div>"
      ]
     },
     "execution_count": 313,
     "metadata": {},
     "output_type": "execute_result"
    }
   ],
   "execution_count": 313
  },
  {
   "cell_type": "code",
   "metadata": {
    "colab": {
     "base_uri": "https://localhost:8080/",
     "height": 617
    },
    "executionInfo": {
     "elapsed": 382,
     "status": "ok",
     "timestamp": 1734788427238,
     "user": {
      "displayName": "Binara mendis Dinuwara",
      "userId": "02094149013337095763"
     },
     "user_tz": -330
    },
    "id": "mK98DAN2q7Dx",
    "outputId": "c8bbf175-b7c0-45f2-ff4e-c0a882d8201e",
    "ExecuteTime": {
     "end_time": "2024-12-23T06:52:30.681538Z",
     "start_time": "2024-12-23T06:52:30.647520Z"
    }
   },
   "source": [
    "df.isnull().sum()"
   ],
   "outputs": [
    {
     "data": {
      "text/plain": [
       "age          0\n",
       "job          0\n",
       "marital      0\n",
       "education    0\n",
       "default      0\n",
       "balance      0\n",
       "housing      0\n",
       "loan         0\n",
       "contact      0\n",
       "day          0\n",
       "month        0\n",
       "duration     0\n",
       "campaign     0\n",
       "pdays        0\n",
       "previous     0\n",
       "poutcome     0\n",
       "y            0\n",
       "dtype: int64"
      ]
     },
     "execution_count": 314,
     "metadata": {},
     "output_type": "execute_result"
    }
   ],
   "execution_count": 314
  },
  {
   "cell_type": "code",
   "metadata": {
    "colab": {
     "base_uri": "https://localhost:8080/"
    },
    "executionInfo": {
     "elapsed": 33,
     "status": "ok",
     "timestamp": 1734772775165,
     "user": {
      "displayName": "Binara mendis Dinuwara",
      "userId": "02094149013337095763"
     },
     "user_tz": -330
    },
    "id": "8QSM7xrOteK2",
    "outputId": "87a04e03-a9c4-48e7-9ff2-2b6c40a7c49b",
    "ExecuteTime": {
     "end_time": "2024-12-23T06:52:30.876249Z",
     "start_time": "2024-12-23T06:52:30.822286Z"
    }
   },
   "source": [
    "for col in df.columns:\n",
    "    print(col, df[col].unique())"
   ],
   "outputs": [
    {
     "name": "stdout",
     "output_type": "stream",
     "text": [
      "age [58 44 33 47 35 28 42 43 41 29 53 57 51 45 60 56 32 25 40 39 52 46 36 49\n",
      " 59 37 50 54 55 48 24 38 31 30 27 34 23 26 61 22 21 20 66 62 83 75 67 70\n",
      " 65 68 64 69 72 71 19 76 85 63 90 82 73 74 78 80 94 79 77 86 95 81 18 89\n",
      " 84 87 92 93 88]\n",
      "job ['management' 'technician' 'entrepreneur' 'blue-collar' 'unknown'\n",
      " 'retired' 'admin.' 'services' 'self-employed' 'unemployed' 'housemaid'\n",
      " 'student']\n",
      "marital ['married' 'single' 'divorced']\n",
      "education ['tertiary' 'secondary' 'unknown' 'primary']\n",
      "default ['no' 'yes']\n",
      "balance [ 2143    29     2 ...  8205 14204 16353]\n",
      "housing ['yes' 'no']\n",
      "loan ['no' 'yes']\n",
      "contact ['unknown' 'cellular' 'telephone']\n",
      "day [ 5  6  7  8  9 12 13 14 15 16 19 20 21 23 26 27 28 29 30  2  3  4 11 17\n",
      " 18 24 25  1 10 22 31]\n",
      "month ['may' 'jun' 'jul' 'aug' 'oct' 'nov' 'dec' 'jan' 'feb' 'mar' 'apr' 'sep']\n",
      "duration [ 261  151   76 ... 1298 1246 1556]\n",
      "campaign [ 1  2  3  5  4  6  7  8  9 10 11 12 13 19 14 24 16 32 18 22 15 17 25 21\n",
      " 43 51 63 41 26 28 55 50 38 23 20 29 31 37 30 46 27 58 33 35 34 36 39 44]\n",
      "pdays [ -1 151 166  91  86 143 147  89 140 176 101 174 170 167 195 165 129 188\n",
      " 196 172 118 119 104 171 117 164 132 131 123 159 186 111 115 116 173 178\n",
      " 110 152  96 103 150 175 193 181 185 154 145 138 126 180 109 158 168  97\n",
      " 182 127 130 194 125 105 102  26 179  28 183 155 112 120 137 124 187 190\n",
      " 113 162 134 169 189   8 144 191 184 177   5  99 133  93  92  10 100 156\n",
      " 198 106 153 146 128   7 121 160 107  90  27 197 136 139 122 157 149 135\n",
      "  30 114  98 192 163  34  95 141  31 199  94 108  29 268 247 253 226 244\n",
      " 239 245 204 231 238 258 230 254 265  71 223 246 250 266 240 205 261 259\n",
      " 241 260 234 251 225 161 237 262 248 255 220 227 206 224 249 235 228 263\n",
      "   2 270 232 252 207 200 269 233 256 273 272 242 264 208 214 222 271 203\n",
      " 221 202 216 201 257 229 210 217  75 213  73  76 267 211 215  77 236  82\n",
      "   6 209 274   1 243 212 275  80 276   9 279  12 280  88 277  85  84 219\n",
      "  24  21 282  41 294  49 329 307 303 331 308 300  64 314 287 330 332 302\n",
      " 323 318 333  60 326 335 313 312 305 325 327 336 309 328 322  39 316 292\n",
      " 295 310 306 320 317 289  57 321 142 339 301 315 337 334 340 319  17  74\n",
      " 148 341 299 344 342 324 345 346 304 281 343 338  14 347  15 291 348 349\n",
      " 285 350 284  25 283 278  81   4  87  83  79  70  13 293  37  78  63  22\n",
      " 296 355  66  19  35 360 357 354 351 362 358 365 298 286 364 363  47 361\n",
      " 288 366 356 352 359 297 367 353 368  42 290  67 371 370 369  50  36 373\n",
      " 374 372 311 375 378  59 379  40  18  43  20  69  38 385  56  55  44 391\n",
      "  72 390  32  62 399 393  65 377 395 388 389 386  61 412 405 434 394 382\n",
      " 459 440 397 383  68 461 462 463 422  51 457 430 442 403 454 428 392 410\n",
      " 401 474 475 477 478  54 476 380 479  45  46 495  58  48 518  52 515 520\n",
      " 511 536 387 218  33 544 435 436 555 433 446 558 469 616 561 553 384 592\n",
      " 467 585 480 421 667 626 426 595 381 376 648 521 452 449 633 398  53 460\n",
      " 670 551 414 557 687 404 651 686 425 504 578 674 416 586 411 756 450 745\n",
      " 514 417 424 776 396 683 529 439 415 456 407 458 532 481 791 701 531 792\n",
      " 413 445 535 784 419 455 491 431 542 470 472 717 437   3 782 728 828 524\n",
      " 562 761 492 775 579 493 464 760 466 465 656 831 490 432 655 427 749 838\n",
      " 769 587 778 854 779 850 771 594 842 589 603 484 489 486 409 444 680 808\n",
      " 485 503 690 772 774 526 420 528 500 826 804 508 547 805 541 543 871 550\n",
      " 530]\n",
      "previous [  0   3   1   4   2  11  16   6   5  10  12   7  18   9  21   8  14  15\n",
      "  26  37  13  25  20  27  17  23  38  29  24  51 275  22  19  30  58  28\n",
      "  32  40  55  35  41]\n",
      "poutcome ['unknown' 'failure' 'other' 'success']\n",
      "y ['no' 'yes']\n"
     ]
    }
   ],
   "execution_count": 315
  },
  {
   "cell_type": "code",
   "metadata": {
    "colab": {
     "base_uri": "https://localhost:8080/"
    },
    "executionInfo": {
     "elapsed": 370,
     "status": "ok",
     "timestamp": 1734838513377,
     "user": {
      "displayName": "Binara mendis Dinuwara",
      "userId": "02094149013337095763"
     },
     "user_tz": -330
    },
    "id": "khFjFTk2uiM9",
    "outputId": "1806fb59-4c68-4cf5-a53f-9676e452629a",
    "ExecuteTime": {
     "end_time": "2024-12-23T06:52:31.087770Z",
     "start_time": "2024-12-23T06:52:31.076830Z"
    }
   },
   "source": [
    "df[\"job\"].replace({\"admin.\": \"admin\"}, inplace=True)\n"
   ],
   "outputs": [
    {
     "name": "stderr",
     "output_type": "stream",
     "text": [
      "C:\\Users\\binar\\AppData\\Local\\Temp\\ipykernel_32896\\1340768125.py:1: FutureWarning: A value is trying to be set on a copy of a DataFrame or Series through chained assignment using an inplace method.\n",
      "The behavior will change in pandas 3.0. This inplace method will never work because the intermediate object on which we are setting values always behaves as a copy.\n",
      "\n",
      "For example, when doing 'df[col].method(value, inplace=True)', try using 'df.method({col: value}, inplace=True)' or df[col] = df[col].method(value) instead, to perform the operation inplace on the original object.\n",
      "\n",
      "\n",
      "  df[\"job\"].replace({\"admin.\": \"admin\"}, inplace=True)\n"
     ]
    }
   ],
   "execution_count": 316
  },
  {
   "cell_type": "code",
   "metadata": {
    "colab": {
     "base_uri": "https://localhost:8080/"
    },
    "executionInfo": {
     "elapsed": 395,
     "status": "ok",
     "timestamp": 1734838533803,
     "user": {
      "displayName": "Binara mendis Dinuwara",
      "userId": "02094149013337095763"
     },
     "user_tz": -330
    },
    "id": "CRuAgb_3zHzv",
    "outputId": "2cdb27a4-7125-4390-8664-cf3a5d6c320a",
    "ExecuteTime": {
     "end_time": "2024-12-23T06:52:31.238146Z",
     "start_time": "2024-12-23T06:52:31.214625Z"
    }
   },
   "source": [
    "df[\"job\"].unique()"
   ],
   "outputs": [
    {
     "data": {
      "text/plain": [
       "array(['management', 'technician', 'entrepreneur', 'blue-collar',\n",
       "       'unknown', 'retired', 'admin', 'services', 'self-employed',\n",
       "       'unemployed', 'housemaid', 'student'], dtype=object)"
      ]
     },
     "execution_count": 317,
     "metadata": {},
     "output_type": "execute_result"
    }
   ],
   "execution_count": 317
  },
  {
   "cell_type": "code",
   "metadata": {
    "colab": {
     "base_uri": "https://localhost:8080/",
     "height": 458
    },
    "executionInfo": {
     "elapsed": 456,
     "status": "ok",
     "timestamp": 1734838538719,
     "user": {
      "displayName": "Binara mendis Dinuwara",
      "userId": "02094149013337095763"
     },
     "user_tz": -330
    },
    "id": "dfVLx2BM0DFQ",
    "outputId": "855adeb3-c874-4831-b56a-e1a20e2fc7ba",
    "ExecuteTime": {
     "end_time": "2024-12-23T06:52:31.466831Z",
     "start_time": "2024-12-23T06:52:31.405707Z"
    }
   },
   "source": [
    "df.duplicated()"
   ],
   "outputs": [
    {
     "data": {
      "text/plain": [
       "0        False\n",
       "1        False\n",
       "2        False\n",
       "3        False\n",
       "4        False\n",
       "         ...  \n",
       "45206    False\n",
       "45207    False\n",
       "45208    False\n",
       "45209    False\n",
       "45210    False\n",
       "Length: 45211, dtype: bool"
      ]
     },
     "execution_count": 318,
     "metadata": {},
     "output_type": "execute_result"
    }
   ],
   "execution_count": 318
  },
  {
   "cell_type": "code",
   "metadata": {
    "executionInfo": {
     "elapsed": 347,
     "status": "ok",
     "timestamp": 1734788453789,
     "user": {
      "displayName": "Binara mendis Dinuwara",
      "userId": "02094149013337095763"
     },
     "user_tz": -330
    },
    "id": "elAPlbkQ4afF",
    "ExecuteTime": {
     "end_time": "2024-12-23T06:52:31.580956Z",
     "start_time": "2024-12-23T06:52:31.527060Z"
    }
   },
   "source": [
    "for data in df.duplicated():\n",
    "  if data==True:\n",
    "    print(data)\n",
    "    df.drop_duplicates(inplace=True)"
   ],
   "outputs": [],
   "execution_count": 319
  },
  {
   "cell_type": "code",
   "metadata": {
    "colab": {
     "base_uri": "https://localhost:8080/",
     "height": 452
    },
    "executionInfo": {
     "elapsed": 3121,
     "status": "ok",
     "timestamp": 1734788461250,
     "user": {
      "displayName": "Binara mendis Dinuwara",
      "userId": "02094149013337095763"
     },
     "user_tz": -330
    },
    "id": "24LK1wtS4qun",
    "outputId": "7e220fcb-f8d1-4ddd-a622-2dc6fb037902",
    "ExecuteTime": {
     "end_time": "2024-12-23T06:52:32.954841Z",
     "start_time": "2024-12-23T06:52:31.694611Z"
    }
   },
   "source": [
    "sns.boxplot(df)\n",
    "plt.title(\"Before removing outliers\")\n",
    "plt.show()"
   ],
   "outputs": [
    {
     "data": {
      "text/plain": [
       "<Figure size 640x480 with 1 Axes>"
      ],
      "image/png": "[encoded data removed]"
     },
     "metadata": {},
     "output_type": "display_data"
    }
   ],
   "execution_count": 320
  },
  {
   "cell_type": "markdown",
   "metadata": {
    "id": "j1J_N_NAM4bf"
   },
   "source": [
    "Transferting categorical variables using one hot encoding and label encoding"
   ]
  },
  {
   "cell_type": "code",
   "metadata": {
    "colab": {
     "base_uri": "https://localhost:8080/"
    },
    "executionInfo": {
     "elapsed": 360,
     "status": "ok",
     "timestamp": 1734788465614,
     "user": {
      "displayName": "Binara mendis Dinuwara",
      "userId": "02094149013337095763"
     },
     "user_tz": -330
    },
    "id": "ewZLTIdNNG_s",
    "outputId": "41578de4-0b5a-4365-81f0-ea2ed3ee4eea",
    "ExecuteTime": {
     "end_time": "2024-12-23T06:52:32.976058Z",
     "start_time": "2024-12-23T06:52:32.968684Z"
    }
   },
   "source": [
    "df.columns"
   ],
   "outputs": [
    {
     "data": {
      "text/plain": [
       "Index(['age', 'job', 'marital', 'education', 'default', 'balance', 'housing',\n",
       "       'loan', 'contact', 'day', 'month', 'duration', 'campaign', 'pdays',\n",
       "       'previous', 'poutcome', 'y'],\n",
       "      dtype='object')"
      ]
     },
     "execution_count": 321,
     "metadata": {},
     "output_type": "execute_result"
    }
   ],
   "execution_count": 321
  },
  {
   "cell_type": "code",
   "metadata": {
    "colab": {
     "base_uri": "https://localhost:8080/"
    },
    "executionInfo": {
     "elapsed": 359,
     "status": "ok",
     "timestamp": 1734788469468,
     "user": {
      "displayName": "Binara mendis Dinuwara",
      "userId": "02094149013337095763"
     },
     "user_tz": -330
    },
    "id": "NZFFjh90HEU7",
    "outputId": "35239a33-3c91-4a51-dee6-6f000550a833",
    "ExecuteTime": {
     "end_time": "2024-12-23T06:52:33.132418Z",
     "start_time": "2024-12-23T06:52:33.093187Z"
    }
   },
   "source": [
    "df.info()"
   ],
   "outputs": [
    {
     "name": "stdout",
     "output_type": "stream",
     "text": [
      "<class 'pandas.core.frame.DataFrame'>\n",
      "RangeIndex: 45211 entries, 0 to 45210\n",
      "Data columns (total 17 columns):\n",
      " #   Column     Non-Null Count  Dtype \n",
      "---  ------     --------------  ----- \n",
      " 0   age        45211 non-null  int64 \n",
      " 1   job        45211 non-null  object\n",
      " 2   marital    45211 non-null  object\n",
      " 3   education  45211 non-null  object\n",
      " 4   default    45211 non-null  object\n",
      " 5   balance    45211 non-null  int64 \n",
      " 6   housing    45211 non-null  object\n",
      " 7   loan       45211 non-null  object\n",
      " 8   contact    45211 non-null  object\n",
      " 9   day        45211 non-null  int64 \n",
      " 10  month      45211 non-null  object\n",
      " 11  duration   45211 non-null  int64 \n",
      " 12  campaign   45211 non-null  int64 \n",
      " 13  pdays      45211 non-null  int64 \n",
      " 14  previous   45211 non-null  int64 \n",
      " 15  poutcome   45211 non-null  object\n",
      " 16  y          45211 non-null  object\n",
      "dtypes: int64(7), object(10)\n",
      "memory usage: 5.9+ MB\n"
     ]
    }
   ],
   "execution_count": 322
  },
  {
   "cell_type": "code",
   "metadata": {
    "executionInfo": {
     "elapsed": 26,
     "status": "ok",
     "timestamp": 1734772778221,
     "user": {
      "displayName": "Binara mendis Dinuwara",
      "userId": "02094149013337095763"
     },
     "user_tz": -330
    },
    "id": "_GCKUWk5HZ9C",
    "ExecuteTime": {
     "end_time": "2024-12-23T06:52:33.355564Z",
     "start_time": "2024-12-23T06:52:33.148316Z"
    }
   },
   "source": [
    "df.to_csv(\"Delimeted_Dataset.csv\")"
   ],
   "outputs": [],
   "execution_count": 323
  },
  {
   "cell_type": "code",
   "metadata": {
    "executionInfo": {
     "elapsed": 30,
     "status": "aborted",
     "timestamp": 1734772778827,
     "user": {
      "displayName": "Binara mendis Dinuwara",
      "userId": "02094149013337095763"
     },
     "user_tz": -330
    },
    "id": "rDA5HOnIKazj",
    "ExecuteTime": {
     "end_time": "2024-12-23T06:52:33.431117Z",
     "start_time": "2024-12-23T06:52:33.421487Z"
    }
   },
   "source": [
    "df.columns"
   ],
   "outputs": [
    {
     "data": {
      "text/plain": [
       "Index(['age', 'job', 'marital', 'education', 'default', 'balance', 'housing',\n",
       "       'loan', 'contact', 'day', 'month', 'duration', 'campaign', 'pdays',\n",
       "       'previous', 'poutcome', 'y'],\n",
       "      dtype='object')"
      ]
     },
     "execution_count": 324,
     "metadata": {},
     "output_type": "execute_result"
    }
   ],
   "execution_count": 324
  },
  {
   "metadata": {
    "ExecuteTime": {
     "end_time": "2024-12-23T06:52:33.584672Z",
     "start_time": "2024-12-23T06:52:33.489710Z"
    }
   },
   "cell_type": "code",
   "source": [
    "from sklearn.preprocessing import LabelEncoder\n",
    "import pandas as pd\n",
    "\n",
    "\n",
    "label_encoder = LabelEncoder()\n",
    "\n",
    "month_mapping = {\n",
    "    \"jan\": 1, \"feb\": 2, \"mar\": 3, \"apr\": 4, \"may\": 5, \"jun\": 6,\n",
    "    \"jul\": 7, \"aug\": 8, \"sep\": 9, \"oct\": 10, \"nov\": 11, \"dec\": 12\n",
    "}\n",
    "\n",
    "df['month'] = df['month'].str.lower().map(month_mapping)\n",
    "\n",
    "df['education'] = label_encoder.fit_transform(df['education'])\n",
    "\n",
    "\n",
    "\n",
    "df['y'] = df['y'].map({'yes': 1, 'no': 0})\n",
    "\n",
    "\n",
    "nominal_features = ['job', 'marital', 'default', 'housing', 'loan', 'contact', 'poutcome']\n",
    "df = pd.get_dummies(df, columns=nominal_features)\n",
    "df=df.astype(int)\n",
    "df.head()"
   ],
   "outputs": [
    {
     "data": {
      "text/plain": [
       "   age  education  balance  day  month  duration  campaign  pdays  previous  \\\n",
       "0   58          2     2143    5      5       261         1     -1         0   \n",
       "1   44          1       29    5      5       151         1     -1         0   \n",
       "2   33          1        2    5      5        76         1     -1         0   \n",
       "3   47          3     1506    5      5        92         1     -1         0   \n",
       "4   33          3        1    5      5       198         1     -1         0   \n",
       "\n",
       "   y  ...  housing_yes  loan_no  loan_yes  contact_cellular  \\\n",
       "0  0  ...            1        1         0                 0   \n",
       "1  0  ...            1        1         0                 0   \n",
       "2  0  ...            1        0         1                 0   \n",
       "3  0  ...            1        1         0                 0   \n",
       "4  0  ...            0        1         0                 0   \n",
       "\n",
       "   contact_telephone  contact_unknown  poutcome_failure  poutcome_other  \\\n",
       "0                  0                1                 0               0   \n",
       "1                  0                1                 0               0   \n",
       "2                  0                1                 0               0   \n",
       "3                  0                1                 0               0   \n",
       "4                  0                1                 0               0   \n",
       "\n",
       "   poutcome_success  poutcome_unknown  \n",
       "0                 0                 1  \n",
       "1                 0                 1  \n",
       "2                 0                 1  \n",
       "3                 0                 1  \n",
       "4                 0                 1  \n",
       "\n",
       "[5 rows x 38 columns]"
      ],
      "text/html": [
       "<div>\n",
       "<style scoped>\n",
       "    .dataframe tbody tr th:only-of-type {\n",
       "        vertical-align: middle;\n",
       "    }\n",
       "\n",
       "    .dataframe tbody tr th {\n",
       "        vertical-align: top;\n",
       "    }\n",
       "\n",
       "    .dataframe thead th {\n",
       "        text-align: right;\n",
       "    }\n",
       "</style>\n",
       "<table border=\"1\" class=\"dataframe\">\n",
       "  <thead>\n",
       "    <tr style=\"text-align: right;\">\n",
       "      <th></th>\n",
       "      <th>age</th>\n",
       "      <th>education</th>\n",
       "      <th>balance</th>\n",
       "      <th>day</th>\n",
       "      <th>month</th>\n",
       "      <th>duration</th>\n",
       "      <th>campaign</th>\n",
       "      <th>pdays</th>\n",
       "      <th>previous</th>\n",
       "      <th>y</th>\n",
       "      <th>...</th>\n",
       "      <th>housing_yes</th>\n",
       "      <th>loan_no</th>\n",
       "      <th>loan_yes</th>\n",
       "      <th>contact_cellular</th>\n",
       "      <th>contact_telephone</th>\n",
       "      <th>contact_unknown</th>\n",
       "      <th>poutcome_failure</th>\n",
       "      <th>poutcome_other</th>\n",
       "      <th>poutcome_success</th>\n",
       "      <th>poutcome_unknown</th>\n",
       "    </tr>\n",
       "  </thead>\n",
       "  <tbody>\n",
       "    <tr>\n",
       "      <th>0</th>\n",
       "      <td>58</td>\n",
       "      <td>2</td>\n",
       "      <td>2143</td>\n",
       "      <td>5</td>\n",
       "      <td>5</td>\n",
       "      <td>261</td>\n",
       "      <td>1</td>\n",
       "      <td>-1</td>\n",
       "      <td>0</td>\n",
       "      <td>0</td>\n",
       "      <td>...</td>\n",
       "      <td>1</td>\n",
       "      <td>1</td>\n",
       "      <td>0</td>\n",
       "      <td>0</td>\n",
       "      <td>0</td>\n",
       "      <td>1</td>\n",
       "      <td>0</td>\n",
       "      <td>0</td>\n",
       "      <td>0</td>\n",
       "      <td>1</td>\n",
       "    </tr>\n",
       "    <tr>\n",
       "      <th>1</th>\n",
       "      <td>44</td>\n",
       "      <td>1</td>\n",
       "      <td>29</td>\n",
       "      <td>5</td>\n",
       "      <td>5</td>\n",
       "      <td>151</td>\n",
       "      <td>1</td>\n",
       "      <td>-1</td>\n",
       "      <td>0</td>\n",
       "      <td>0</td>\n",
       "      <td>...</td>\n",
       "      <td>1</td>\n",
       "      <td>1</td>\n",
       "      <td>0</td>\n",
       "      <td>0</td>\n",
       "      <td>0</td>\n",
       "      <td>1</td>\n",
       "      <td>0</td>\n",
       "      <td>0</td>\n",
       "      <td>0</td>\n",
       "      <td>1</td>\n",
       "    </tr>\n",
       "    <tr>\n",
       "      <th>2</th>\n",
       "      <td>33</td>\n",
       "      <td>1</td>\n",
       "      <td>2</td>\n",
       "      <td>5</td>\n",
       "      <td>5</td>\n",
       "      <td>76</td>\n",
       "      <td>1</td>\n",
       "      <td>-1</td>\n",
       "      <td>0</td>\n",
       "      <td>0</td>\n",
       "      <td>...</td>\n",
       "      <td>1</td>\n",
       "      <td>0</td>\n",
       "      <td>1</td>\n",
       "      <td>0</td>\n",
       "      <td>0</td>\n",
       "      <td>1</td>\n",
       "      <td>0</td>\n",
       "      <td>0</td>\n",
       "      <td>0</td>\n",
       "      <td>1</td>\n",
       "    </tr>\n",
       "    <tr>\n",
       "      <th>3</th>\n",
       "      <td>47</td>\n",
       "      <td>3</td>\n",
       "      <td>1506</td>\n",
       "      <td>5</td>\n",
       "      <td>5</td>\n",
       "      <td>92</td>\n",
       "      <td>1</td>\n",
       "      <td>-1</td>\n",
       "      <td>0</td>\n",
       "      <td>0</td>\n",
       "      <td>...</td>\n",
       "      <td>1</td>\n",
       "      <td>1</td>\n",
       "      <td>0</td>\n",
       "      <td>0</td>\n",
       "      <td>0</td>\n",
       "      <td>1</td>\n",
       "      <td>0</td>\n",
       "      <td>0</td>\n",
       "      <td>0</td>\n",
       "      <td>1</td>\n",
       "    </tr>\n",
       "    <tr>\n",
       "      <th>4</th>\n",
       "      <td>33</td>\n",
       "      <td>3</td>\n",
       "      <td>1</td>\n",
       "      <td>5</td>\n",
       "      <td>5</td>\n",
       "      <td>198</td>\n",
       "      <td>1</td>\n",
       "      <td>-1</td>\n",
       "      <td>0</td>\n",
       "      <td>0</td>\n",
       "      <td>...</td>\n",
       "      <td>0</td>\n",
       "      <td>1</td>\n",
       "      <td>0</td>\n",
       "      <td>0</td>\n",
       "      <td>0</td>\n",
       "      <td>1</td>\n",
       "      <td>0</td>\n",
       "      <td>0</td>\n",
       "      <td>0</td>\n",
       "      <td>1</td>\n",
       "    </tr>\n",
       "  </tbody>\n",
       "</table>\n",
       "<p>5 rows × 38 columns</p>\n",
       "</div>"
      ]
     },
     "execution_count": 325,
     "metadata": {},
     "output_type": "execute_result"
    }
   ],
   "execution_count": 325
  },
  {
   "metadata": {
    "ExecuteTime": {
     "end_time": "2024-12-23T06:52:33.717894Z",
     "start_time": "2024-12-23T06:52:33.693988Z"
    }
   },
   "cell_type": "code",
   "source": "df.head()",
   "outputs": [
    {
     "data": {
      "text/plain": [
       "   age  education  balance  day  month  duration  campaign  pdays  previous  \\\n",
       "0   58          2     2143    5      5       261         1     -1         0   \n",
       "1   44          1       29    5      5       151         1     -1         0   \n",
       "2   33          1        2    5      5        76         1     -1         0   \n",
       "3   47          3     1506    5      5        92         1     -1         0   \n",
       "4   33          3        1    5      5       198         1     -1         0   \n",
       "\n",
       "   y  ...  housing_yes  loan_no  loan_yes  contact_cellular  \\\n",
       "0  0  ...            1        1         0                 0   \n",
       "1  0  ...            1        1         0                 0   \n",
       "2  0  ...            1        0         1                 0   \n",
       "3  0  ...            1        1         0                 0   \n",
       "4  0  ...            0        1         0                 0   \n",
       "\n",
       "   contact_telephone  contact_unknown  poutcome_failure  poutcome_other  \\\n",
       "0                  0                1                 0               0   \n",
       "1                  0                1                 0               0   \n",
       "2                  0                1                 0               0   \n",
       "3                  0                1                 0               0   \n",
       "4                  0                1                 0               0   \n",
       "\n",
       "   poutcome_success  poutcome_unknown  \n",
       "0                 0                 1  \n",
       "1                 0                 1  \n",
       "2                 0                 1  \n",
       "3                 0                 1  \n",
       "4                 0                 1  \n",
       "\n",
       "[5 rows x 38 columns]"
      ],
      "text/html": [
       "<div>\n",
       "<style scoped>\n",
       "    .dataframe tbody tr th:only-of-type {\n",
       "        vertical-align: middle;\n",
       "    }\n",
       "\n",
       "    .dataframe tbody tr th {\n",
       "        vertical-align: top;\n",
       "    }\n",
       "\n",
       "    .dataframe thead th {\n",
       "        text-align: right;\n",
       "    }\n",
       "</style>\n",
       "<table border=\"1\" class=\"dataframe\">\n",
       "  <thead>\n",
       "    <tr style=\"text-align: right;\">\n",
       "      <th></th>\n",
       "      <th>age</th>\n",
       "      <th>education</th>\n",
       "      <th>balance</th>\n",
       "      <th>day</th>\n",
       "      <th>month</th>\n",
       "      <th>duration</th>\n",
       "      <th>campaign</th>\n",
       "      <th>pdays</th>\n",
       "      <th>previous</th>\n",
       "      <th>y</th>\n",
       "      <th>...</th>\n",
       "      <th>housing_yes</th>\n",
       "      <th>loan_no</th>\n",
       "      <th>loan_yes</th>\n",
       "      <th>contact_cellular</th>\n",
       "      <th>contact_telephone</th>\n",
       "      <th>contact_unknown</th>\n",
       "      <th>poutcome_failure</th>\n",
       "      <th>poutcome_other</th>\n",
       "      <th>poutcome_success</th>\n",
       "      <th>poutcome_unknown</th>\n",
       "    </tr>\n",
       "  </thead>\n",
       "  <tbody>\n",
       "    <tr>\n",
       "      <th>0</th>\n",
       "      <td>58</td>\n",
       "      <td>2</td>\n",
       "      <td>2143</td>\n",
       "      <td>5</td>\n",
       "      <td>5</td>\n",
       "      <td>261</td>\n",
       "      <td>1</td>\n",
       "      <td>-1</td>\n",
       "      <td>0</td>\n",
       "      <td>0</td>\n",
       "      <td>...</td>\n",
       "      <td>1</td>\n",
       "      <td>1</td>\n",
       "      <td>0</td>\n",
       "      <td>0</td>\n",
       "      <td>0</td>\n",
       "      <td>1</td>\n",
       "      <td>0</td>\n",
       "      <td>0</td>\n",
       "      <td>0</td>\n",
       "      <td>1</td>\n",
       "    </tr>\n",
       "    <tr>\n",
       "      <th>1</th>\n",
       "      <td>44</td>\n",
       "      <td>1</td>\n",
       "      <td>29</td>\n",
       "      <td>5</td>\n",
       "      <td>5</td>\n",
       "      <td>151</td>\n",
       "      <td>1</td>\n",
       "      <td>-1</td>\n",
       "      <td>0</td>\n",
       "      <td>0</td>\n",
       "      <td>...</td>\n",
       "      <td>1</td>\n",
       "      <td>1</td>\n",
       "      <td>0</td>\n",
       "      <td>0</td>\n",
       "      <td>0</td>\n",
       "      <td>1</td>\n",
       "      <td>0</td>\n",
       "      <td>0</td>\n",
       "      <td>0</td>\n",
       "      <td>1</td>\n",
       "    </tr>\n",
       "    <tr>\n",
       "      <th>2</th>\n",
       "      <td>33</td>\n",
       "      <td>1</td>\n",
       "      <td>2</td>\n",
       "      <td>5</td>\n",
       "      <td>5</td>\n",
       "      <td>76</td>\n",
       "      <td>1</td>\n",
       "      <td>-1</td>\n",
       "      <td>0</td>\n",
       "      <td>0</td>\n",
       "      <td>...</td>\n",
       "      <td>1</td>\n",
       "      <td>0</td>\n",
       "      <td>1</td>\n",
       "      <td>0</td>\n",
       "      <td>0</td>\n",
       "      <td>1</td>\n",
       "      <td>0</td>\n",
       "      <td>0</td>\n",
       "      <td>0</td>\n",
       "      <td>1</td>\n",
       "    </tr>\n",
       "    <tr>\n",
       "      <th>3</th>\n",
       "      <td>47</td>\n",
       "      <td>3</td>\n",
       "      <td>1506</td>\n",
       "      <td>5</td>\n",
       "      <td>5</td>\n",
       "      <td>92</td>\n",
       "      <td>1</td>\n",
       "      <td>-1</td>\n",
       "      <td>0</td>\n",
       "      <td>0</td>\n",
       "      <td>...</td>\n",
       "      <td>1</td>\n",
       "      <td>1</td>\n",
       "      <td>0</td>\n",
       "      <td>0</td>\n",
       "      <td>0</td>\n",
       "      <td>1</td>\n",
       "      <td>0</td>\n",
       "      <td>0</td>\n",
       "      <td>0</td>\n",
       "      <td>1</td>\n",
       "    </tr>\n",
       "    <tr>\n",
       "      <th>4</th>\n",
       "      <td>33</td>\n",
       "      <td>3</td>\n",
       "      <td>1</td>\n",
       "      <td>5</td>\n",
       "      <td>5</td>\n",
       "      <td>198</td>\n",
       "      <td>1</td>\n",
       "      <td>-1</td>\n",
       "      <td>0</td>\n",
       "      <td>0</td>\n",
       "      <td>...</td>\n",
       "      <td>0</td>\n",
       "      <td>1</td>\n",
       "      <td>0</td>\n",
       "      <td>0</td>\n",
       "      <td>0</td>\n",
       "      <td>1</td>\n",
       "      <td>0</td>\n",
       "      <td>0</td>\n",
       "      <td>0</td>\n",
       "      <td>1</td>\n",
       "    </tr>\n",
       "  </tbody>\n",
       "</table>\n",
       "<p>5 rows × 38 columns</p>\n",
       "</div>"
      ]
     },
     "execution_count": 326,
     "metadata": {},
     "output_type": "execute_result"
    }
   ],
   "execution_count": 326
  },
  {
   "metadata": {
    "ExecuteTime": {
     "end_time": "2024-12-23T06:52:33.864981Z",
     "start_time": "2024-12-23T06:52:33.852595Z"
    }
   },
   "cell_type": "code",
   "source": "df[\"month\"].unique()",
   "outputs": [
    {
     "data": {
      "text/plain": [
       "array([ 5,  6,  7,  8, 10, 11, 12,  1,  2,  3,  4,  9])"
      ]
     },
     "execution_count": 327,
     "metadata": {},
     "output_type": "execute_result"
    }
   ],
   "execution_count": 327
  },
  {
   "cell_type": "code",
   "metadata": {
    "executionInfo": {
     "elapsed": 30,
     "status": "aborted",
     "timestamp": 1734772778827,
     "user": {
      "displayName": "Binara mendis Dinuwara",
      "userId": "02094149013337095763"
     },
     "user_tz": -330
    },
    "id": "wh2Zup68LYKi",
    "ExecuteTime": {
     "end_time": "2024-12-23T06:52:34.290721Z",
     "start_time": "2024-12-23T06:52:34.135523Z"
    }
   },
   "source": [
    "df.to_csv(\"Encoded_Dataset.csv\")\n"
   ],
   "outputs": [
    {
     "ename": "PermissionError",
     "evalue": "[Errno 13] Permission denied: 'Encoded_Dataset.csv'",
     "output_type": "error",
     "traceback": [
      "\u001B[1;31m---------------------------------------------------------------------------\u001B[0m",
      "\u001B[1;31mPermissionError\u001B[0m                           Traceback (most recent call last)",
      "Cell \u001B[1;32mIn[328], line 1\u001B[0m\n\u001B[1;32m----> 1\u001B[0m \u001B[43mdf\u001B[49m\u001B[38;5;241;43m.\u001B[39;49m\u001B[43mto_csv\u001B[49m\u001B[43m(\u001B[49m\u001B[38;5;124;43m\"\u001B[39;49m\u001B[38;5;124;43mEncoded_Dataset.csv\u001B[39;49m\u001B[38;5;124;43m\"\u001B[39;49m\u001B[43m)\u001B[49m\n",
      "File \u001B[1;32m~\\AppData\\Local\\Programs\\Python\\Python311\\Lib\\site-packages\\pandas\\util\\_decorators.py:333\u001B[0m, in \u001B[0;36mdeprecate_nonkeyword_arguments.<locals>.decorate.<locals>.wrapper\u001B[1;34m(*args, **kwargs)\u001B[0m\n\u001B[0;32m    327\u001B[0m \u001B[38;5;28;01mif\u001B[39;00m \u001B[38;5;28mlen\u001B[39m(args) \u001B[38;5;241m>\u001B[39m num_allow_args:\n\u001B[0;32m    328\u001B[0m     warnings\u001B[38;5;241m.\u001B[39mwarn(\n\u001B[0;32m    329\u001B[0m         msg\u001B[38;5;241m.\u001B[39mformat(arguments\u001B[38;5;241m=\u001B[39m_format_argument_list(allow_args)),\n\u001B[0;32m    330\u001B[0m         \u001B[38;5;167;01mFutureWarning\u001B[39;00m,\n\u001B[0;32m    331\u001B[0m         stacklevel\u001B[38;5;241m=\u001B[39mfind_stack_level(),\n\u001B[0;32m    332\u001B[0m     )\n\u001B[1;32m--> 333\u001B[0m \u001B[38;5;28;01mreturn\u001B[39;00m \u001B[43mfunc\u001B[49m\u001B[43m(\u001B[49m\u001B[38;5;241;43m*\u001B[39;49m\u001B[43margs\u001B[49m\u001B[43m,\u001B[49m\u001B[43m \u001B[49m\u001B[38;5;241;43m*\u001B[39;49m\u001B[38;5;241;43m*\u001B[39;49m\u001B[43mkwargs\u001B[49m\u001B[43m)\u001B[49m\n",
      "File \u001B[1;32m~\\AppData\\Local\\Programs\\Python\\Python311\\Lib\\site-packages\\pandas\\core\\generic.py:3967\u001B[0m, in \u001B[0;36mNDFrame.to_csv\u001B[1;34m(self, path_or_buf, sep, na_rep, float_format, columns, header, index, index_label, mode, encoding, compression, quoting, quotechar, lineterminator, chunksize, date_format, doublequote, escapechar, decimal, errors, storage_options)\u001B[0m\n\u001B[0;32m   3956\u001B[0m df \u001B[38;5;241m=\u001B[39m \u001B[38;5;28mself\u001B[39m \u001B[38;5;28;01mif\u001B[39;00m \u001B[38;5;28misinstance\u001B[39m(\u001B[38;5;28mself\u001B[39m, ABCDataFrame) \u001B[38;5;28;01melse\u001B[39;00m \u001B[38;5;28mself\u001B[39m\u001B[38;5;241m.\u001B[39mto_frame()\n\u001B[0;32m   3958\u001B[0m formatter \u001B[38;5;241m=\u001B[39m DataFrameFormatter(\n\u001B[0;32m   3959\u001B[0m     frame\u001B[38;5;241m=\u001B[39mdf,\n\u001B[0;32m   3960\u001B[0m     header\u001B[38;5;241m=\u001B[39mheader,\n\u001B[1;32m   (...)\u001B[0m\n\u001B[0;32m   3964\u001B[0m     decimal\u001B[38;5;241m=\u001B[39mdecimal,\n\u001B[0;32m   3965\u001B[0m )\n\u001B[1;32m-> 3967\u001B[0m \u001B[38;5;28;01mreturn\u001B[39;00m \u001B[43mDataFrameRenderer\u001B[49m\u001B[43m(\u001B[49m\u001B[43mformatter\u001B[49m\u001B[43m)\u001B[49m\u001B[38;5;241;43m.\u001B[39;49m\u001B[43mto_csv\u001B[49m\u001B[43m(\u001B[49m\n\u001B[0;32m   3968\u001B[0m \u001B[43m    \u001B[49m\u001B[43mpath_or_buf\u001B[49m\u001B[43m,\u001B[49m\n\u001B[0;32m   3969\u001B[0m \u001B[43m    \u001B[49m\u001B[43mlineterminator\u001B[49m\u001B[38;5;241;43m=\u001B[39;49m\u001B[43mlineterminator\u001B[49m\u001B[43m,\u001B[49m\n\u001B[0;32m   3970\u001B[0m \u001B[43m    \u001B[49m\u001B[43msep\u001B[49m\u001B[38;5;241;43m=\u001B[39;49m\u001B[43msep\u001B[49m\u001B[43m,\u001B[49m\n\u001B[0;32m   3971\u001B[0m \u001B[43m    \u001B[49m\u001B[43mencoding\u001B[49m\u001B[38;5;241;43m=\u001B[39;49m\u001B[43mencoding\u001B[49m\u001B[43m,\u001B[49m\n\u001B[0;32m   3972\u001B[0m \u001B[43m    \u001B[49m\u001B[43merrors\u001B[49m\u001B[38;5;241;43m=\u001B[39;49m\u001B[43merrors\u001B[49m\u001B[43m,\u001B[49m\n\u001B[0;32m   3973\u001B[0m \u001B[43m    \u001B[49m\u001B[43mcompression\u001B[49m\u001B[38;5;241;43m=\u001B[39;49m\u001B[43mcompression\u001B[49m\u001B[43m,\u001B[49m\n\u001B[0;32m   3974\u001B[0m \u001B[43m    \u001B[49m\u001B[43mquoting\u001B[49m\u001B[38;5;241;43m=\u001B[39;49m\u001B[43mquoting\u001B[49m\u001B[43m,\u001B[49m\n\u001B[0;32m   3975\u001B[0m \u001B[43m    \u001B[49m\u001B[43mcolumns\u001B[49m\u001B[38;5;241;43m=\u001B[39;49m\u001B[43mcolumns\u001B[49m\u001B[43m,\u001B[49m\n\u001B[0;32m   3976\u001B[0m \u001B[43m    \u001B[49m\u001B[43mindex_label\u001B[49m\u001B[38;5;241;43m=\u001B[39;49m\u001B[43mindex_label\u001B[49m\u001B[43m,\u001B[49m\n\u001B[0;32m   3977\u001B[0m \u001B[43m    \u001B[49m\u001B[43mmode\u001B[49m\u001B[38;5;241;43m=\u001B[39;49m\u001B[43mmode\u001B[49m\u001B[43m,\u001B[49m\n\u001B[0;32m   3978\u001B[0m \u001B[43m    \u001B[49m\u001B[43mchunksize\u001B[49m\u001B[38;5;241;43m=\u001B[39;49m\u001B[43mchunksize\u001B[49m\u001B[43m,\u001B[49m\n\u001B[0;32m   3979\u001B[0m \u001B[43m    \u001B[49m\u001B[43mquotechar\u001B[49m\u001B[38;5;241;43m=\u001B[39;49m\u001B[43mquotechar\u001B[49m\u001B[43m,\u001B[49m\n\u001B[0;32m   3980\u001B[0m \u001B[43m    \u001B[49m\u001B[43mdate_format\u001B[49m\u001B[38;5;241;43m=\u001B[39;49m\u001B[43mdate_format\u001B[49m\u001B[43m,\u001B[49m\n\u001B[0;32m   3981\u001B[0m \u001B[43m    \u001B[49m\u001B[43mdoublequote\u001B[49m\u001B[38;5;241;43m=\u001B[39;49m\u001B[43mdoublequote\u001B[49m\u001B[43m,\u001B[49m\n\u001B[0;32m   3982\u001B[0m \u001B[43m    \u001B[49m\u001B[43mescapechar\u001B[49m\u001B[38;5;241;43m=\u001B[39;49m\u001B[43mescapechar\u001B[49m\u001B[43m,\u001B[49m\n\u001B[0;32m   3983\u001B[0m \u001B[43m    \u001B[49m\u001B[43mstorage_options\u001B[49m\u001B[38;5;241;43m=\u001B[39;49m\u001B[43mstorage_options\u001B[49m\u001B[43m,\u001B[49m\n\u001B[0;32m   3984\u001B[0m \u001B[43m\u001B[49m\u001B[43m)\u001B[49m\n",
      "File \u001B[1;32m~\\AppData\\Local\\Programs\\Python\\Python311\\Lib\\site-packages\\pandas\\io\\formats\\format.py:1014\u001B[0m, in \u001B[0;36mDataFrameRenderer.to_csv\u001B[1;34m(self, path_or_buf, encoding, sep, columns, index_label, mode, compression, quoting, quotechar, lineterminator, chunksize, date_format, doublequote, escapechar, errors, storage_options)\u001B[0m\n\u001B[0;32m    993\u001B[0m     created_buffer \u001B[38;5;241m=\u001B[39m \u001B[38;5;28;01mFalse\u001B[39;00m\n\u001B[0;32m    995\u001B[0m csv_formatter \u001B[38;5;241m=\u001B[39m CSVFormatter(\n\u001B[0;32m    996\u001B[0m     path_or_buf\u001B[38;5;241m=\u001B[39mpath_or_buf,\n\u001B[0;32m    997\u001B[0m     lineterminator\u001B[38;5;241m=\u001B[39mlineterminator,\n\u001B[1;32m   (...)\u001B[0m\n\u001B[0;32m   1012\u001B[0m     formatter\u001B[38;5;241m=\u001B[39m\u001B[38;5;28mself\u001B[39m\u001B[38;5;241m.\u001B[39mfmt,\n\u001B[0;32m   1013\u001B[0m )\n\u001B[1;32m-> 1014\u001B[0m \u001B[43mcsv_formatter\u001B[49m\u001B[38;5;241;43m.\u001B[39;49m\u001B[43msave\u001B[49m\u001B[43m(\u001B[49m\u001B[43m)\u001B[49m\n\u001B[0;32m   1016\u001B[0m \u001B[38;5;28;01mif\u001B[39;00m created_buffer:\n\u001B[0;32m   1017\u001B[0m     \u001B[38;5;28;01massert\u001B[39;00m \u001B[38;5;28misinstance\u001B[39m(path_or_buf, StringIO)\n",
      "File \u001B[1;32m~\\AppData\\Local\\Programs\\Python\\Python311\\Lib\\site-packages\\pandas\\io\\formats\\csvs.py:251\u001B[0m, in \u001B[0;36mCSVFormatter.save\u001B[1;34m(self)\u001B[0m\n\u001B[0;32m    247\u001B[0m \u001B[38;5;250m\u001B[39m\u001B[38;5;124;03m\"\"\"\u001B[39;00m\n\u001B[0;32m    248\u001B[0m \u001B[38;5;124;03mCreate the writer & save.\u001B[39;00m\n\u001B[0;32m    249\u001B[0m \u001B[38;5;124;03m\"\"\"\u001B[39;00m\n\u001B[0;32m    250\u001B[0m \u001B[38;5;66;03m# apply compression and byte/text conversion\u001B[39;00m\n\u001B[1;32m--> 251\u001B[0m \u001B[38;5;28;01mwith\u001B[39;00m \u001B[43mget_handle\u001B[49m\u001B[43m(\u001B[49m\n\u001B[0;32m    252\u001B[0m \u001B[43m    \u001B[49m\u001B[38;5;28;43mself\u001B[39;49m\u001B[38;5;241;43m.\u001B[39;49m\u001B[43mfilepath_or_buffer\u001B[49m\u001B[43m,\u001B[49m\n\u001B[0;32m    253\u001B[0m \u001B[43m    \u001B[49m\u001B[38;5;28;43mself\u001B[39;49m\u001B[38;5;241;43m.\u001B[39;49m\u001B[43mmode\u001B[49m\u001B[43m,\u001B[49m\n\u001B[0;32m    254\u001B[0m \u001B[43m    \u001B[49m\u001B[43mencoding\u001B[49m\u001B[38;5;241;43m=\u001B[39;49m\u001B[38;5;28;43mself\u001B[39;49m\u001B[38;5;241;43m.\u001B[39;49m\u001B[43mencoding\u001B[49m\u001B[43m,\u001B[49m\n\u001B[0;32m    255\u001B[0m \u001B[43m    \u001B[49m\u001B[43merrors\u001B[49m\u001B[38;5;241;43m=\u001B[39;49m\u001B[38;5;28;43mself\u001B[39;49m\u001B[38;5;241;43m.\u001B[39;49m\u001B[43merrors\u001B[49m\u001B[43m,\u001B[49m\n\u001B[0;32m    256\u001B[0m \u001B[43m    \u001B[49m\u001B[43mcompression\u001B[49m\u001B[38;5;241;43m=\u001B[39;49m\u001B[38;5;28;43mself\u001B[39;49m\u001B[38;5;241;43m.\u001B[39;49m\u001B[43mcompression\u001B[49m\u001B[43m,\u001B[49m\n\u001B[0;32m    257\u001B[0m \u001B[43m    \u001B[49m\u001B[43mstorage_options\u001B[49m\u001B[38;5;241;43m=\u001B[39;49m\u001B[38;5;28;43mself\u001B[39;49m\u001B[38;5;241;43m.\u001B[39;49m\u001B[43mstorage_options\u001B[49m\u001B[43m,\u001B[49m\n\u001B[0;32m    258\u001B[0m \u001B[43m\u001B[49m\u001B[43m)\u001B[49m \u001B[38;5;28;01mas\u001B[39;00m handles:\n\u001B[0;32m    259\u001B[0m     \u001B[38;5;66;03m# Note: self.encoding is irrelevant here\u001B[39;00m\n\u001B[0;32m    260\u001B[0m     \u001B[38;5;28mself\u001B[39m\u001B[38;5;241m.\u001B[39mwriter \u001B[38;5;241m=\u001B[39m csvlib\u001B[38;5;241m.\u001B[39mwriter(\n\u001B[0;32m    261\u001B[0m         handles\u001B[38;5;241m.\u001B[39mhandle,\n\u001B[0;32m    262\u001B[0m         lineterminator\u001B[38;5;241m=\u001B[39m\u001B[38;5;28mself\u001B[39m\u001B[38;5;241m.\u001B[39mlineterminator,\n\u001B[1;32m   (...)\u001B[0m\n\u001B[0;32m    267\u001B[0m         quotechar\u001B[38;5;241m=\u001B[39m\u001B[38;5;28mself\u001B[39m\u001B[38;5;241m.\u001B[39mquotechar,\n\u001B[0;32m    268\u001B[0m     )\n\u001B[0;32m    270\u001B[0m     \u001B[38;5;28mself\u001B[39m\u001B[38;5;241m.\u001B[39m_save()\n",
      "File \u001B[1;32m~\\AppData\\Local\\Programs\\Python\\Python311\\Lib\\site-packages\\pandas\\io\\common.py:873\u001B[0m, in \u001B[0;36mget_handle\u001B[1;34m(path_or_buf, mode, encoding, compression, memory_map, is_text, errors, storage_options)\u001B[0m\n\u001B[0;32m    868\u001B[0m \u001B[38;5;28;01melif\u001B[39;00m \u001B[38;5;28misinstance\u001B[39m(handle, \u001B[38;5;28mstr\u001B[39m):\n\u001B[0;32m    869\u001B[0m     \u001B[38;5;66;03m# Check whether the filename is to be opened in binary mode.\u001B[39;00m\n\u001B[0;32m    870\u001B[0m     \u001B[38;5;66;03m# Binary mode does not support 'encoding' and 'newline'.\u001B[39;00m\n\u001B[0;32m    871\u001B[0m     \u001B[38;5;28;01mif\u001B[39;00m ioargs\u001B[38;5;241m.\u001B[39mencoding \u001B[38;5;129;01mand\u001B[39;00m \u001B[38;5;124m\"\u001B[39m\u001B[38;5;124mb\u001B[39m\u001B[38;5;124m\"\u001B[39m \u001B[38;5;129;01mnot\u001B[39;00m \u001B[38;5;129;01min\u001B[39;00m ioargs\u001B[38;5;241m.\u001B[39mmode:\n\u001B[0;32m    872\u001B[0m         \u001B[38;5;66;03m# Encoding\u001B[39;00m\n\u001B[1;32m--> 873\u001B[0m         handle \u001B[38;5;241m=\u001B[39m \u001B[38;5;28mopen\u001B[39m(\n\u001B[0;32m    874\u001B[0m             handle,\n\u001B[0;32m    875\u001B[0m             ioargs\u001B[38;5;241m.\u001B[39mmode,\n\u001B[0;32m    876\u001B[0m             encoding\u001B[38;5;241m=\u001B[39mioargs\u001B[38;5;241m.\u001B[39mencoding,\n\u001B[0;32m    877\u001B[0m             errors\u001B[38;5;241m=\u001B[39merrors,\n\u001B[0;32m    878\u001B[0m             newline\u001B[38;5;241m=\u001B[39m\u001B[38;5;124m\"\u001B[39m\u001B[38;5;124m\"\u001B[39m,\n\u001B[0;32m    879\u001B[0m         )\n\u001B[0;32m    880\u001B[0m     \u001B[38;5;28;01melse\u001B[39;00m:\n\u001B[0;32m    881\u001B[0m         \u001B[38;5;66;03m# Binary mode\u001B[39;00m\n\u001B[0;32m    882\u001B[0m         handle \u001B[38;5;241m=\u001B[39m \u001B[38;5;28mopen\u001B[39m(handle, ioargs\u001B[38;5;241m.\u001B[39mmode)\n",
      "\u001B[1;31mPermissionError\u001B[0m: [Errno 13] Permission denied: 'Encoded_Dataset.csv'"
     ]
    }
   ],
   "execution_count": 328
  },
  {
   "metadata": {
    "ExecuteTime": {
     "end_time": "2024-12-23T06:52:34.621849700Z",
     "start_time": "2024-12-22T16:33:33.330932Z"
    }
   },
   "cell_type": "code",
   "source": [
    "Pearson_Correlation = df.corr(method='pearson')\n",
    "print(Pearson_Correlation)\n",
    "\n",
    "for col in Pearson_Correlation.columns:\n",
    "    for index in Pearson_Correlation.index:\n",
    "        if Pearson_Correlation.loc[index, col] > 0.9 and index != col:\n",
    "            print(f\"{index} and {col}: {Pearson_Correlation.loc[index, col]}\")\n"
   ],
   "outputs": [
    {
     "name": "stdout",
     "output_type": "stream",
     "text": [
      "                        age  education   balance       day     month  \\\n",
      "age                1.000000  -0.106807  0.097783 -0.009120  0.092903   \n",
      "education         -0.106807   1.000000  0.064514  0.022671  0.054729   \n",
      "balance            0.097783   0.064514  1.000000  0.004503  0.094605   \n",
      "day               -0.009120   0.022671  0.004503  1.000000  0.101989   \n",
      "month              0.092903   0.054729  0.094605  0.101989  1.000000   \n",
      "duration          -0.004648   0.001935  0.021560 -0.030206 -0.011866   \n",
      "campaign           0.004760   0.006255 -0.014578  0.162490  0.054868   \n",
      "pdays             -0.023758   0.000052  0.003435 -0.093044 -0.108940   \n",
      "previous           0.001288   0.017570  0.016674 -0.051710 -0.035600   \n",
      "y                  0.025155   0.066241  0.052838 -0.028348  0.018717   \n",
      "job_admin         -0.055717  -0.042508 -0.026726 -0.010455 -0.034056   \n",
      "job_blue-collar   -0.044002  -0.351744 -0.048757 -0.022898 -0.086619   \n",
      "job_entrepreneur   0.021792   0.053173  0.009642 -0.002312  0.025128   \n",
      "job_housemaid      0.086650  -0.116376  0.001661  0.003955  0.031249   \n",
      "job_management    -0.023571   0.426379  0.067797  0.019021  0.080438   \n",
      "job_retired        0.447378  -0.094904  0.046900 -0.010123  0.024953   \n",
      "job_self-employed -0.008093   0.068619  0.017850  0.005062  0.026396   \n",
      "job_services      -0.065780  -0.079529 -0.038151 -0.006531 -0.040318   \n",
      "job_student       -0.197302   0.061019  0.001233 -0.015894 -0.018733   \n",
      "job_technician    -0.068632   0.046353 -0.016183  0.032517  0.037859   \n",
      "job_unemployed     0.000412  -0.035868  0.009023 -0.006382 -0.040271   \n",
      "job_unknown        0.050200   0.065882  0.010784 -0.011199  0.009391   \n",
      "marital_divorced   0.164674  -0.010523 -0.021732 -0.000433  0.000281   \n",
      "marital_married    0.286257  -0.121185  0.025708  0.007102  0.062925   \n",
      "marital_single    -0.427817   0.139162 -0.012537 -0.007412 -0.068586   \n",
      "default_no         0.017879   0.010718  0.066745 -0.009424 -0.014989   \n",
      "default_yes       -0.017879  -0.010718 -0.066745  0.009424  0.014989   \n",
      "housing_no         0.185513   0.090790  0.068768  0.027982  0.173887   \n",
      "housing_yes       -0.185513  -0.090790 -0.068768 -0.027982 -0.173887   \n",
      "loan_no            0.015655   0.048574  0.084350 -0.011370 -0.021638   \n",
      "loan_yes          -0.015655  -0.048574 -0.084350  0.011370  0.021638   \n",
      "contact_cellular  -0.068375   0.115600  0.015880  0.020186  0.153677   \n",
      "contact_telephone  0.170349  -0.044168  0.037999  0.023652  0.037628   \n",
      "contact_unknown   -0.020132  -0.098023 -0.037331 -0.034103 -0.182490   \n",
      "poutcome_failure  -0.004927   0.009625  0.011857 -0.068700 -0.055958   \n",
      "poutcome_other    -0.022967   0.002446  0.008466 -0.032952 -0.062626   \n",
      "poutcome_success   0.035526   0.051218  0.035240 -0.030321  0.033700   \n",
      "poutcome_unknown  -0.000816  -0.032830 -0.030271  0.086256  0.061391   \n",
      "\n",
      "                   duration  campaign     pdays  previous         y  ...  \\\n",
      "age               -0.004648  0.004760 -0.023758  0.001288  0.025155  ...   \n",
      "education          0.001935  0.006255  0.000052  0.017570  0.066241  ...   \n",
      "balance            0.021560 -0.014578  0.003435  0.016674  0.052838  ...   \n",
      "day               -0.030206  0.162490 -0.093044 -0.051710 -0.028348  ...   \n",
      "month             -0.011866  0.054868 -0.108940 -0.035600  0.018717  ...   \n",
      "duration           1.000000 -0.084570 -0.001565  0.001203  0.394521  ...   \n",
      "campaign          -0.084570  1.000000 -0.088628 -0.032855 -0.073172  ...   \n",
      "pdays             -0.001565 -0.088628  1.000000  0.454820  0.103621  ...   \n",
      "previous           0.001203 -0.032855  0.454820  1.000000  0.093236  ...   \n",
      "y                  0.394521 -0.073172  0.103621  0.093236  1.000000  ...   \n",
      "job_admin         -0.015722 -0.021868  0.027497  0.014245  0.005637  ...   \n",
      "job_blue-collar    0.009637  0.008986  0.020063 -0.017095 -0.072083  ...   \n",
      "job_entrepreneur  -0.001327  0.002128 -0.014203 -0.008181 -0.019662  ...   \n",
      "job_housemaid     -0.008046  0.003097 -0.031350 -0.015204 -0.015195  ...   \n",
      "job_management    -0.008323  0.016686 -0.007871  0.019579  0.032919  ...   \n",
      "job_retired        0.026032 -0.030913 -0.006315  0.005818  0.079245  ...   \n",
      "job_self-employed  0.007383  0.005479 -0.010356 -0.002371  0.000855  ...   \n",
      "job_services       0.001427 -0.004671  0.005710 -0.010926 -0.027864  ...   \n",
      "job_student       -0.006504 -0.021813  0.024486  0.023556  0.076897  ...   \n",
      "job_technician    -0.009176  0.020739 -0.013478 -0.001123 -0.008970  ...   \n",
      "job_unemployed     0.020322 -0.018448 -0.010411 -0.008504  0.020390  ...   \n",
      "job_unknown       -0.006390  0.014091 -0.015366 -0.009068  0.000267  ...   \n",
      "marital_divorced   0.006100 -0.015484  0.002897 -0.004534  0.002772  ...   \n",
      "marital_married   -0.022683  0.031371 -0.027600 -0.012691 -0.060260  ...   \n",
      "marital_single     0.020328 -0.023120  0.027943  0.017006  0.063526  ...   \n",
      "default_no         0.010021 -0.016822  0.029979  0.018329  0.022419  ...   \n",
      "default_yes       -0.010021  0.016822 -0.029979 -0.018329 -0.022419  ...   \n",
      "housing_no        -0.005075  0.023599 -0.124178 -0.037076  0.139173  ...   \n",
      "housing_yes        0.005075 -0.023599  0.124178  0.037076 -0.139173  ...   \n",
      "loan_no            0.012412 -0.009980  0.022754  0.011043  0.068185  ...   \n",
      "loan_yes          -0.012412  0.009980 -0.022754 -0.011043 -0.068185  ...   \n",
      "contact_cellular   0.025543 -0.032271  0.225996  0.131717  0.135873  ...   \n",
      "contact_telephone -0.023201  0.053895  0.016006  0.028097  0.014042  ...   \n",
      "contact_unknown   -0.014379  0.004853 -0.247068 -0.154162 -0.150935  ...   \n",
      "poutcome_failure  -0.018925 -0.088131  0.701052  0.350627  0.009885  ...   \n",
      "poutcome_other    -0.001958 -0.020107  0.389791  0.306615  0.031955  ...   \n",
      "poutcome_success   0.042389 -0.057486  0.228539  0.201424  0.306788  ...   \n",
      "poutcome_unknown  -0.003491  0.107965 -0.869962 -0.532763 -0.167051  ...   \n",
      "\n",
      "                   housing_yes   loan_no  loan_yes  contact_cellular  \\\n",
      "age                  -0.185513  0.015655 -0.015655         -0.068375   \n",
      "education            -0.090790  0.048574 -0.048574          0.115600   \n",
      "balance              -0.068768  0.084350 -0.084350          0.015880   \n",
      "day                  -0.027982 -0.011370  0.011370          0.020186   \n",
      "month                -0.173887 -0.021638  0.021638          0.153677   \n",
      "duration              0.005075  0.012412 -0.012412          0.025543   \n",
      "campaign             -0.023599 -0.009980  0.009980         -0.032271   \n",
      "pdays                 0.124178  0.022754 -0.022754          0.225996   \n",
      "previous              0.037076  0.011043 -0.011043          0.131717   \n",
      "y                    -0.139173  0.068185 -0.068185          0.135873   \n",
      "job_admin             0.043046 -0.030781  0.030781          0.000660   \n",
      "job_blue-collar       0.177475 -0.018291  0.018291         -0.129316   \n",
      "job_entrepreneur      0.010600 -0.039808  0.039808         -0.002386   \n",
      "job_housemaid        -0.079380  0.017234 -0.017234         -0.015649   \n",
      "job_management       -0.063382  0.038904 -0.038904          0.101853   \n",
      "job_retired          -0.156633  0.014861 -0.014861         -0.020484   \n",
      "job_self-employed    -0.027319  0.007882 -0.007882          0.015440   \n",
      "job_services          0.070435 -0.035575  0.035575         -0.030893   \n",
      "job_student          -0.085066  0.058503 -0.058503          0.029049   \n",
      "job_technician       -0.012823 -0.014798  0.014798          0.056982   \n",
      "job_unemployed       -0.048229  0.035961 -0.035961          0.013007   \n",
      "job_unknown          -0.075023  0.031943 -0.031943         -0.032331   \n",
      "marital_divorced      0.001778 -0.016377  0.016377         -0.006786   \n",
      "marital_married       0.017681 -0.036906  0.036906         -0.043477   \n",
      "marital_single       -0.020475  0.051716 -0.051716          0.052061   \n",
      "default_no            0.006025  0.077234 -0.077234          0.010061   \n",
      "default_yes          -0.006025 -0.077234  0.077234         -0.010061   \n",
      "housing_no           -1.000000  0.041323 -0.041323          0.156071   \n",
      "housing_yes           1.000000 -0.041323  0.041323         -0.156071   \n",
      "loan_no              -0.041323  1.000000 -1.000000         -0.013604   \n",
      "loan_yes              0.041323 -1.000000  1.000000          0.013604   \n",
      "contact_cellular     -0.156071 -0.013604  0.013604          1.000000   \n",
      "contact_telephone    -0.080822  0.013183 -0.013183         -0.355403   \n",
      "contact_unknown       0.208409  0.007211 -0.007211         -0.862398   \n",
      "poutcome_failure      0.106795  0.002186 -0.002186          0.201732   \n",
      "poutcome_other        0.039710  0.009099 -0.009099          0.104321   \n",
      "poutcome_success     -0.091360  0.053713 -0.053713          0.104665   \n",
      "poutcome_unknown     -0.063755 -0.031406  0.031406         -0.264426   \n",
      "\n",
      "                   contact_telephone  contact_unknown  poutcome_failure  \\\n",
      "age                         0.170349        -0.020132         -0.004927   \n",
      "education                  -0.044168        -0.098023          0.009625   \n",
      "balance                     0.037999        -0.037331          0.011857   \n",
      "day                         0.023652        -0.034103         -0.068700   \n",
      "month                       0.037628        -0.182490         -0.055958   \n",
      "duration                   -0.023201        -0.014379         -0.018925   \n",
      "campaign                    0.053895         0.004853         -0.088131   \n",
      "pdays                       0.016006        -0.247068          0.701052   \n",
      "previous                    0.028097        -0.154162          0.350627   \n",
      "y                           0.014042        -0.150935          0.009885   \n",
      "job_admin                  -0.012291         0.005961          0.018431   \n",
      "job_blue-collar            -0.003190         0.138141          0.002254   \n",
      "job_entrepreneur           -0.004338         0.004867          0.001119   \n",
      "job_housemaid               0.039371        -0.004815         -0.016300   \n",
      "job_management             -0.030362        -0.090999          0.003276   \n",
      "job_retired                 0.107299        -0.036504         -0.005031   \n",
      "job_self-employed          -0.001716        -0.015358         -0.002390   \n",
      "job_services               -0.012178         0.039184         -0.001553   \n",
      "job_student                 0.024493        -0.043908          0.007646   \n",
      "job_technician             -0.040357        -0.038252         -0.005049   \n",
      "job_unemployed              0.008759        -0.018464         -0.012438   \n",
      "job_unknown                 0.031162         0.017228         -0.010034   \n",
      "marital_divorced           -0.017993         0.016904         -0.001884   \n",
      "marital_married             0.048970         0.019342         -0.004516   \n",
      "marital_single             -0.040468        -0.033001          0.006244   \n",
      "default_no                  0.017208        -0.019933          0.026389   \n",
      "default_yes                -0.017208         0.019933         -0.026389   \n",
      "housing_no                  0.080822        -0.208409         -0.106795   \n",
      "housing_yes                -0.080822         0.208409          0.106795   \n",
      "loan_no                     0.013183         0.007211          0.002186   \n",
      "loan_yes                   -0.013183        -0.007211         -0.002186   \n",
      "contact_cellular           -0.355403        -0.862398          0.201732   \n",
      "contact_telephone           1.000000        -0.166683          0.007537   \n",
      "contact_unknown            -0.166683         1.000000         -0.216885   \n",
      "poutcome_failure            0.007537        -0.216885          1.000000   \n",
      "poutcome_other              0.026351        -0.124318         -0.071820   \n",
      "poutcome_success            0.008470        -0.114997         -0.064838   \n",
      "poutcome_unknown           -0.023487         0.291657         -0.737932   \n",
      "\n",
      "                   poutcome_other  poutcome_success  poutcome_unknown  \n",
      "age                     -0.022967          0.035526         -0.000816  \n",
      "education                0.002446          0.051218         -0.032830  \n",
      "balance                  0.008466          0.035240         -0.030271  \n",
      "day                     -0.032952         -0.030321          0.086256  \n",
      "month                   -0.062626          0.033700          0.061391  \n",
      "duration                -0.001958          0.042389         -0.003491  \n",
      "campaign                -0.020107         -0.057486          0.107965  \n",
      "pdays                    0.389791          0.228539         -0.869962  \n",
      "previous                 0.306615          0.201424         -0.532763  \n",
      "y                        0.031955          0.306788         -0.167051  \n",
      "job_admin                0.010745          0.012056         -0.025940  \n",
      "job_blue-collar          0.001342         -0.053074          0.022194  \n",
      "job_entrepreneur        -0.013506         -0.019111          0.014901  \n",
      "job_housemaid           -0.016769         -0.009375          0.026059  \n",
      "job_management           0.002223          0.021453         -0.013755  \n",
      "job_retired             -0.004691          0.055485         -0.019368  \n",
      "job_self-employed       -0.001989          0.001494          0.002246  \n",
      "job_services             0.003077         -0.022934          0.010347  \n",
      "job_student              0.033633          0.048048         -0.045715  \n",
      "job_technician          -0.003049         -0.002929          0.006986  \n",
      "job_unemployed          -0.010725          0.015044          0.008497  \n",
      "job_unknown             -0.013678          0.002126          0.014083  \n",
      "marital_divorced         0.003887         -0.008490          0.003478  \n",
      "marital_married         -0.027570         -0.018484          0.026338  \n",
      "marital_single           0.027208          0.026105         -0.031089  \n",
      "default_no               0.014445          0.023344         -0.039490  \n",
      "default_yes             -0.014445         -0.023344          0.039490  \n",
      "housing_no              -0.039710          0.091360          0.063755  \n",
      "housing_yes              0.039710         -0.091360         -0.063755  \n",
      "loan_no                  0.009099          0.053713         -0.031406  \n",
      "loan_yes                -0.009099         -0.053713          0.031406  \n",
      "contact_cellular         0.104321          0.104665         -0.264426  \n",
      "contact_telephone        0.026351          0.008470         -0.023487  \n",
      "contact_unknown         -0.124318         -0.114997          0.291657  \n",
      "poutcome_failure        -0.071820         -0.064838         -0.737932  \n",
      "poutcome_other           1.000000         -0.038300         -0.435903  \n",
      "poutcome_success        -0.038300          1.000000         -0.393525  \n",
      "poutcome_unknown        -0.435903         -0.393525          1.000000  \n",
      "\n",
      "[38 rows x 38 columns]\n"
     ]
    }
   ],
   "execution_count": 177
  },
  {
   "metadata": {
    "ExecuteTime": {
     "end_time": "2024-12-23T06:52:34.716614500Z",
     "start_time": "2024-12-22T12:28:06.493819Z"
    }
   },
   "cell_type": "code",
   "source": [
    "df_melted = df.melt(var_name=\"Features\", value_name=\"Values\")\n",
    "\n",
    "\n",
    "plt.figure(figsize=(12, 6))\n",
    "sns.boxplot(data=df_melted, x=\"Features\", y=\"Values\")\n",
    "plt.xticks(rotation=90)\n",
    "plt.show()"
   ],
   "outputs": [
    {
     "data": {
      "text/plain": [
       "<Figure size 1200x600 with 1 Axes>"
      ],
      "image/png": "[encoded data removed]"
     },
     "metadata": {},
     "output_type": "display_data"
    }
   ],
   "execution_count": 168
  },
  {
   "metadata": {
    "ExecuteTime": {
     "end_time": "2024-12-23T06:52:34.747868800Z",
     "start_time": "2024-12-22T17:53:20.467999Z"
    }
   },
   "cell_type": "code",
   "source": [
    "from sklearn.preprocessing import MinMaxScaler\n",
    "\n",
    "features_to_normalize = ['balance', 'duration']\n",
    "scaler = MinMaxScaler()\n",
    "df[features_to_normalize] = scaler.fit_transform(df[features_to_normalize])\n",
    "\n",
    "\n",
    "df.head()"
   ],
   "outputs": [
    {
     "data": {
      "text/plain": [
       "   age  education   balance  day  month  duration  campaign  pdays  previous  \\\n",
       "0   58          2  0.092259    5      5  0.053070         1     -1         0   \n",
       "1   44          1  0.073067    5      5  0.030704         1     -1         0   \n",
       "2   33          1  0.072822    5      5  0.015453         1     -1         0   \n",
       "3   47          3  0.086476    5      5  0.018707         1     -1         0   \n",
       "4   33          3  0.072812    5      5  0.040260         1     -1         0   \n",
       "\n",
       "   y  ...  housing_yes  loan_no  loan_yes  contact_cellular  \\\n",
       "0  0  ...            1        1         0                 0   \n",
       "1  0  ...            1        1         0                 0   \n",
       "2  0  ...            1        0         1                 0   \n",
       "3  0  ...            1        1         0                 0   \n",
       "4  0  ...            0        1         0                 0   \n",
       "\n",
       "   contact_telephone  contact_unknown  poutcome_failure  poutcome_other  \\\n",
       "0                  0                1                 0               0   \n",
       "1                  0                1                 0               0   \n",
       "2                  0                1                 0               0   \n",
       "3                  0                1                 0               0   \n",
       "4                  0                1                 0               0   \n",
       "\n",
       "   poutcome_success  poutcome_unknown  \n",
       "0                 0                 1  \n",
       "1                 0                 1  \n",
       "2                 0                 1  \n",
       "3                 0                 1  \n",
       "4                 0                 1  \n",
       "\n",
       "[5 rows x 38 columns]"
      ],
      "text/html": [
       "<div>\n",
       "<style scoped>\n",
       "    .dataframe tbody tr th:only-of-type {\n",
       "        vertical-align: middle;\n",
       "    }\n",
       "\n",
       "    .dataframe tbody tr th {\n",
       "        vertical-align: top;\n",
       "    }\n",
       "\n",
       "    .dataframe thead th {\n",
       "        text-align: right;\n",
       "    }\n",
       "</style>\n",
       "<table border=\"1\" class=\"dataframe\">\n",
       "  <thead>\n",
       "    <tr style=\"text-align: right;\">\n",
       "      <th></th>\n",
       "      <th>age</th>\n",
       "      <th>education</th>\n",
       "      <th>balance</th>\n",
       "      <th>day</th>\n",
       "      <th>month</th>\n",
       "      <th>duration</th>\n",
       "      <th>campaign</th>\n",
       "      <th>pdays</th>\n",
       "      <th>previous</th>\n",
       "      <th>y</th>\n",
       "      <th>...</th>\n",
       "      <th>housing_yes</th>\n",
       "      <th>loan_no</th>\n",
       "      <th>loan_yes</th>\n",
       "      <th>contact_cellular</th>\n",
       "      <th>contact_telephone</th>\n",
       "      <th>contact_unknown</th>\n",
       "      <th>poutcome_failure</th>\n",
       "      <th>poutcome_other</th>\n",
       "      <th>poutcome_success</th>\n",
       "      <th>poutcome_unknown</th>\n",
       "    </tr>\n",
       "  </thead>\n",
       "  <tbody>\n",
       "    <tr>\n",
       "      <th>0</th>\n",
       "      <td>58</td>\n",
       "      <td>2</td>\n",
       "      <td>0.092259</td>\n",
       "      <td>5</td>\n",
       "      <td>5</td>\n",
       "      <td>0.053070</td>\n",
       "      <td>1</td>\n",
       "      <td>-1</td>\n",
       "      <td>0</td>\n",
       "      <td>0</td>\n",
       "      <td>...</td>\n",
       "      <td>1</td>\n",
       "      <td>1</td>\n",
       "      <td>0</td>\n",
       "      <td>0</td>\n",
       "      <td>0</td>\n",
       "      <td>1</td>\n",
       "      <td>0</td>\n",
       "      <td>0</td>\n",
       "      <td>0</td>\n",
       "      <td>1</td>\n",
       "    </tr>\n",
       "    <tr>\n",
       "      <th>1</th>\n",
       "      <td>44</td>\n",
       "      <td>1</td>\n",
       "      <td>0.073067</td>\n",
       "      <td>5</td>\n",
       "      <td>5</td>\n",
       "      <td>0.030704</td>\n",
       "      <td>1</td>\n",
       "      <td>-1</td>\n",
       "      <td>0</td>\n",
       "      <td>0</td>\n",
       "      <td>...</td>\n",
       "      <td>1</td>\n",
       "      <td>1</td>\n",
       "      <td>0</td>\n",
       "      <td>0</td>\n",
       "      <td>0</td>\n",
       "      <td>1</td>\n",
       "      <td>0</td>\n",
       "      <td>0</td>\n",
       "      <td>0</td>\n",
       "      <td>1</td>\n",
       "    </tr>\n",
       "    <tr>\n",
       "      <th>2</th>\n",
       "      <td>33</td>\n",
       "      <td>1</td>\n",
       "      <td>0.072822</td>\n",
       "      <td>5</td>\n",
       "      <td>5</td>\n",
       "      <td>0.015453</td>\n",
       "      <td>1</td>\n",
       "      <td>-1</td>\n",
       "      <td>0</td>\n",
       "      <td>0</td>\n",
       "      <td>...</td>\n",
       "      <td>1</td>\n",
       "      <td>0</td>\n",
       "      <td>1</td>\n",
       "      <td>0</td>\n",
       "      <td>0</td>\n",
       "      <td>1</td>\n",
       "      <td>0</td>\n",
       "      <td>0</td>\n",
       "      <td>0</td>\n",
       "      <td>1</td>\n",
       "    </tr>\n",
       "    <tr>\n",
       "      <th>3</th>\n",
       "      <td>47</td>\n",
       "      <td>3</td>\n",
       "      <td>0.086476</td>\n",
       "      <td>5</td>\n",
       "      <td>5</td>\n",
       "      <td>0.018707</td>\n",
       "      <td>1</td>\n",
       "      <td>-1</td>\n",
       "      <td>0</td>\n",
       "      <td>0</td>\n",
       "      <td>...</td>\n",
       "      <td>1</td>\n",
       "      <td>1</td>\n",
       "      <td>0</td>\n",
       "      <td>0</td>\n",
       "      <td>0</td>\n",
       "      <td>1</td>\n",
       "      <td>0</td>\n",
       "      <td>0</td>\n",
       "      <td>0</td>\n",
       "      <td>1</td>\n",
       "    </tr>\n",
       "    <tr>\n",
       "      <th>4</th>\n",
       "      <td>33</td>\n",
       "      <td>3</td>\n",
       "      <td>0.072812</td>\n",
       "      <td>5</td>\n",
       "      <td>5</td>\n",
       "      <td>0.040260</td>\n",
       "      <td>1</td>\n",
       "      <td>-1</td>\n",
       "      <td>0</td>\n",
       "      <td>0</td>\n",
       "      <td>...</td>\n",
       "      <td>0</td>\n",
       "      <td>1</td>\n",
       "      <td>0</td>\n",
       "      <td>0</td>\n",
       "      <td>0</td>\n",
       "      <td>1</td>\n",
       "      <td>0</td>\n",
       "      <td>0</td>\n",
       "      <td>0</td>\n",
       "      <td>1</td>\n",
       "    </tr>\n",
       "  </tbody>\n",
       "</table>\n",
       "<p>5 rows × 38 columns</p>\n",
       "</div>"
      ]
     },
     "execution_count": 281,
     "metadata": {},
     "output_type": "execute_result"
    }
   ],
   "execution_count": 281
  },
  {
   "metadata": {
    "ExecuteTime": {
     "end_time": "2024-12-23T07:52:20.282710Z",
     "start_time": "2024-12-23T07:52:20.254891Z"
    }
   },
   "cell_type": "code",
   "source": [
    "from sklearn.decomposition import PCA\n",
    "\n",
    "\n",
    "\n",
    "X = df[['marital_divorced', 'marital_married', 'marital_single']]\n",
    "\n",
    "pca = PCA(0.95)\n",
    "X_pca = pca.fit_transform(X)\n",
    "explained_variance = pca.explained_variance_ratio_\n",
    "print(\"Explained Variance Ratio:\",explained_variance)\n",
    "\n",
    "\n",
    "pca_columns = X_pca[:, :1]\n",
    "pca_data = np.concatenate([pca_columns], axis=1)\n",
    "pca_df = pd.DataFrame(pca_data, columns=['martial_PCA'])\n",
    "pca_df.head()"
   ],
   "outputs": [
    {
     "name": "stdout",
     "output_type": "stream",
     "text": [
      "Explained Variance Ratio: [0.72686434 0.27313566]\n"
     ]
    },
    {
     "data": {
      "text/plain": [
       "   martial_PCA\n",
       "0     0.495759\n",
       "1    -0.906466\n",
       "2     0.495759\n",
       "3     0.495759\n",
       "4    -0.906466"
      ],
      "text/html": [
       "<div>\n",
       "<style scoped>\n",
       "    .dataframe tbody tr th:only-of-type {\n",
       "        vertical-align: middle;\n",
       "    }\n",
       "\n",
       "    .dataframe tbody tr th {\n",
       "        vertical-align: top;\n",
       "    }\n",
       "\n",
       "    .dataframe thead th {\n",
       "        text-align: right;\n",
       "    }\n",
       "</style>\n",
       "<table border=\"1\" class=\"dataframe\">\n",
       "  <thead>\n",
       "    <tr style=\"text-align: right;\">\n",
       "      <th></th>\n",
       "      <th>martial_PCA</th>\n",
       "    </tr>\n",
       "  </thead>\n",
       "  <tbody>\n",
       "    <tr>\n",
       "      <th>0</th>\n",
       "      <td>0.495759</td>\n",
       "    </tr>\n",
       "    <tr>\n",
       "      <th>1</th>\n",
       "      <td>-0.906466</td>\n",
       "    </tr>\n",
       "    <tr>\n",
       "      <th>2</th>\n",
       "      <td>0.495759</td>\n",
       "    </tr>\n",
       "    <tr>\n",
       "      <th>3</th>\n",
       "      <td>0.495759</td>\n",
       "    </tr>\n",
       "    <tr>\n",
       "      <th>4</th>\n",
       "      <td>-0.906466</td>\n",
       "    </tr>\n",
       "  </tbody>\n",
       "</table>\n",
       "</div>"
      ]
     },
     "execution_count": 344,
     "metadata": {},
     "output_type": "execute_result"
    }
   ],
   "execution_count": 344
  },
  {
   "metadata": {
    "ExecuteTime": {
     "end_time": "2024-12-23T08:00:11.696623Z",
     "start_time": "2024-12-23T08:00:11.653296Z"
    }
   },
   "cell_type": "code",
   "source": [
    "X1=df[[\"default_yes\",\"default_no\"]]\n",
    "\n",
    "pca=PCA(0.95)\n",
    "X_pca=pca.fit_transform(X1)\n",
    "print(pca.explained_variance_ratio_)\n",
    "\n",
    "pca_columns = X_pca[:, :1]\n",
    "pca_data = np.concatenate([pca_columns], axis=1)\n",
    "pca_df2= pd.DataFrame(pca_data, columns=['default_PCA'])\n",
    "pca_df2.head(20)\n"
   ],
   "outputs": [
    {
     "name": "stdout",
     "output_type": "stream",
     "text": [
      "[1.]\n"
     ]
    },
    {
     "data": {
      "text/plain": [
       "    default_PCA\n",
       "0      0.025493\n",
       "1      0.025493\n",
       "2      0.025493\n",
       "3      0.025493\n",
       "4      0.025493\n",
       "5      0.025493\n",
       "6      0.025493\n",
       "7     -1.388720\n",
       "8      0.025493\n",
       "9      0.025493\n",
       "10     0.025493\n",
       "11     0.025493\n",
       "12     0.025493\n",
       "13     0.025493\n",
       "14     0.025493\n",
       "15     0.025493\n",
       "16     0.025493\n",
       "17     0.025493\n",
       "18     0.025493\n",
       "19     0.025493"
      ],
      "text/html": [
       "<div>\n",
       "<style scoped>\n",
       "    .dataframe tbody tr th:only-of-type {\n",
       "        vertical-align: middle;\n",
       "    }\n",
       "\n",
       "    .dataframe tbody tr th {\n",
       "        vertical-align: top;\n",
       "    }\n",
       "\n",
       "    .dataframe thead th {\n",
       "        text-align: right;\n",
       "    }\n",
       "</style>\n",
       "<table border=\"1\" class=\"dataframe\">\n",
       "  <thead>\n",
       "    <tr style=\"text-align: right;\">\n",
       "      <th></th>\n",
       "      <th>default_PCA</th>\n",
       "    </tr>\n",
       "  </thead>\n",
       "  <tbody>\n",
       "    <tr>\n",
       "      <th>0</th>\n",
       "      <td>0.025493</td>\n",
       "    </tr>\n",
       "    <tr>\n",
       "      <th>1</th>\n",
       "      <td>0.025493</td>\n",
       "    </tr>\n",
       "    <tr>\n",
       "      <th>2</th>\n",
       "      <td>0.025493</td>\n",
       "    </tr>\n",
       "    <tr>\n",
       "      <th>3</th>\n",
       "      <td>0.025493</td>\n",
       "    </tr>\n",
       "    <tr>\n",
       "      <th>4</th>\n",
       "      <td>0.025493</td>\n",
       "    </tr>\n",
       "    <tr>\n",
       "      <th>5</th>\n",
       "      <td>0.025493</td>\n",
       "    </tr>\n",
       "    <tr>\n",
       "      <th>6</th>\n",
       "      <td>0.025493</td>\n",
       "    </tr>\n",
       "    <tr>\n",
       "      <th>7</th>\n",
       "      <td>-1.388720</td>\n",
       "    </tr>\n",
       "    <tr>\n",
       "      <th>8</th>\n",
       "      <td>0.025493</td>\n",
       "    </tr>\n",
       "    <tr>\n",
       "      <th>9</th>\n",
       "      <td>0.025493</td>\n",
       "    </tr>\n",
       "    <tr>\n",
       "      <th>10</th>\n",
       "      <td>0.025493</td>\n",
       "    </tr>\n",
       "    <tr>\n",
       "      <th>11</th>\n",
       "      <td>0.025493</td>\n",
       "    </tr>\n",
       "    <tr>\n",
       "      <th>12</th>\n",
       "      <td>0.025493</td>\n",
       "    </tr>\n",
       "    <tr>\n",
       "      <th>13</th>\n",
       "      <td>0.025493</td>\n",
       "    </tr>\n",
       "    <tr>\n",
       "      <th>14</th>\n",
       "      <td>0.025493</td>\n",
       "    </tr>\n",
       "    <tr>\n",
       "      <th>15</th>\n",
       "      <td>0.025493</td>\n",
       "    </tr>\n",
       "    <tr>\n",
       "      <th>16</th>\n",
       "      <td>0.025493</td>\n",
       "    </tr>\n",
       "    <tr>\n",
       "      <th>17</th>\n",
       "      <td>0.025493</td>\n",
       "    </tr>\n",
       "    <tr>\n",
       "      <th>18</th>\n",
       "      <td>0.025493</td>\n",
       "    </tr>\n",
       "    <tr>\n",
       "      <th>19</th>\n",
       "      <td>0.025493</td>\n",
       "    </tr>\n",
       "  </tbody>\n",
       "</table>\n",
       "</div>"
      ]
     },
     "execution_count": 353,
     "metadata": {},
     "output_type": "execute_result"
    }
   ],
   "execution_count": 353
  },
  {
   "metadata": {
    "ExecuteTime": {
     "end_time": "2024-12-23T08:00:28.737040Z",
     "start_time": "2024-12-23T08:00:28.702713Z"
    }
   },
   "cell_type": "code",
   "source": [
    "X2=df[[\"housing_yes\",\"housing_no\"]]\n",
    "\n",
    "pca=PCA(0.95)\n",
    "X_pca2=pca.fit_transform(X2)\n",
    "print(pca.explained_variance_ratio_)\n",
    "pca_columns = X_pca[:, :1]\n",
    "pca_data = np.concatenate([pca_columns], axis=1)\n",
    "pca_df2= pd.DataFrame(pca_data, columns=['housing_PCA'])\n",
    "pca_df2.head(20)\n",
    "\n"
   ],
   "outputs": [
    {
     "name": "stdout",
     "output_type": "stream",
     "text": [
      "[1.]\n"
     ]
    },
    {
     "data": {
      "text/plain": [
       "    housing_PCA\n",
       "0      0.025493\n",
       "1      0.025493\n",
       "2      0.025493\n",
       "3      0.025493\n",
       "4      0.025493\n",
       "5      0.025493\n",
       "6      0.025493\n",
       "7     -1.388720\n",
       "8      0.025493\n",
       "9      0.025493\n",
       "10     0.025493\n",
       "11     0.025493\n",
       "12     0.025493\n",
       "13     0.025493\n",
       "14     0.025493\n",
       "15     0.025493\n",
       "16     0.025493\n",
       "17     0.025493\n",
       "18     0.025493\n",
       "19     0.025493"
      ],
      "text/html": [
       "<div>\n",
       "<style scoped>\n",
       "    .dataframe tbody tr th:only-of-type {\n",
       "        vertical-align: middle;\n",
       "    }\n",
       "\n",
       "    .dataframe tbody tr th {\n",
       "        vertical-align: top;\n",
       "    }\n",
       "\n",
       "    .dataframe thead th {\n",
       "        text-align: right;\n",
       "    }\n",
       "</style>\n",
       "<table border=\"1\" class=\"dataframe\">\n",
       "  <thead>\n",
       "    <tr style=\"text-align: right;\">\n",
       "      <th></th>\n",
       "      <th>housing_PCA</th>\n",
       "    </tr>\n",
       "  </thead>\n",
       "  <tbody>\n",
       "    <tr>\n",
       "      <th>0</th>\n",
       "      <td>0.025493</td>\n",
       "    </tr>\n",
       "    <tr>\n",
       "      <th>1</th>\n",
       "      <td>0.025493</td>\n",
       "    </tr>\n",
       "    <tr>\n",
       "      <th>2</th>\n",
       "      <td>0.025493</td>\n",
       "    </tr>\n",
       "    <tr>\n",
       "      <th>3</th>\n",
       "      <td>0.025493</td>\n",
       "    </tr>\n",
       "    <tr>\n",
       "      <th>4</th>\n",
       "      <td>0.025493</td>\n",
       "    </tr>\n",
       "    <tr>\n",
       "      <th>5</th>\n",
       "      <td>0.025493</td>\n",
       "    </tr>\n",
       "    <tr>\n",
       "      <th>6</th>\n",
       "      <td>0.025493</td>\n",
       "    </tr>\n",
       "    <tr>\n",
       "      <th>7</th>\n",
       "      <td>-1.388720</td>\n",
       "    </tr>\n",
       "    <tr>\n",
       "      <th>8</th>\n",
       "      <td>0.025493</td>\n",
       "    </tr>\n",
       "    <tr>\n",
       "      <th>9</th>\n",
       "      <td>0.025493</td>\n",
       "    </tr>\n",
       "    <tr>\n",
       "      <th>10</th>\n",
       "      <td>0.025493</td>\n",
       "    </tr>\n",
       "    <tr>\n",
       "      <th>11</th>\n",
       "      <td>0.025493</td>\n",
       "    </tr>\n",
       "    <tr>\n",
       "      <th>12</th>\n",
       "      <td>0.025493</td>\n",
       "    </tr>\n",
       "    <tr>\n",
       "      <th>13</th>\n",
       "      <td>0.025493</td>\n",
       "    </tr>\n",
       "    <tr>\n",
       "      <th>14</th>\n",
       "      <td>0.025493</td>\n",
       "    </tr>\n",
       "    <tr>\n",
       "      <th>15</th>\n",
       "      <td>0.025493</td>\n",
       "    </tr>\n",
       "    <tr>\n",
       "      <th>16</th>\n",
       "      <td>0.025493</td>\n",
       "    </tr>\n",
       "    <tr>\n",
       "      <th>17</th>\n",
       "      <td>0.025493</td>\n",
       "    </tr>\n",
       "    <tr>\n",
       "      <th>18</th>\n",
       "      <td>0.025493</td>\n",
       "    </tr>\n",
       "    <tr>\n",
       "      <th>19</th>\n",
       "      <td>0.025493</td>\n",
       "    </tr>\n",
       "  </tbody>\n",
       "</table>\n",
       "</div>"
      ]
     },
     "execution_count": 354,
     "metadata": {},
     "output_type": "execute_result"
    }
   ],
   "execution_count": 354
  },
  {
   "metadata": {
    "ExecuteTime": {
     "end_time": "2024-12-23T08:01:24.693446Z",
     "start_time": "2024-12-23T08:01:24.656906Z"
    }
   },
   "cell_type": "code",
   "source": [
    "X3=df[[\"loan_yes\",\"loan_no\"]]\n",
    "\n",
    "pca=PCA(0.95)\n",
    "X_pca3=pca.fit_transform(X3)\n",
    "print(pca.explained_variance_ratio_)\n",
    "\n",
    "pca_columns = X_pca[:, :1]\n",
    "pca_data = np.concatenate([pca_columns], axis=1)\n",
    "pca_df2= pd.DataFrame(pca_data, columns=['loan_PCA'])\n",
    "pca_df2.head(20)\n"
   ],
   "outputs": [
    {
     "name": "stdout",
     "output_type": "stream",
     "text": [
      "[1.]\n"
     ]
    },
    {
     "data": {
      "text/plain": [
       "    loan_PCA\n",
       "0   0.025493\n",
       "1   0.025493\n",
       "2   0.025493\n",
       "3   0.025493\n",
       "4   0.025493\n",
       "5   0.025493\n",
       "6   0.025493\n",
       "7  -1.388720\n",
       "8   0.025493\n",
       "9   0.025493\n",
       "10  0.025493\n",
       "11  0.025493\n",
       "12  0.025493\n",
       "13  0.025493\n",
       "14  0.025493\n",
       "15  0.025493\n",
       "16  0.025493\n",
       "17  0.025493\n",
       "18  0.025493\n",
       "19  0.025493"
      ],
      "text/html": [
       "<div>\n",
       "<style scoped>\n",
       "    .dataframe tbody tr th:only-of-type {\n",
       "        vertical-align: middle;\n",
       "    }\n",
       "\n",
       "    .dataframe tbody tr th {\n",
       "        vertical-align: top;\n",
       "    }\n",
       "\n",
       "    .dataframe thead th {\n",
       "        text-align: right;\n",
       "    }\n",
       "</style>\n",
       "<table border=\"1\" class=\"dataframe\">\n",
       "  <thead>\n",
       "    <tr style=\"text-align: right;\">\n",
       "      <th></th>\n",
       "      <th>loan_PCA</th>\n",
       "    </tr>\n",
       "  </thead>\n",
       "  <tbody>\n",
       "    <tr>\n",
       "      <th>0</th>\n",
       "      <td>0.025493</td>\n",
       "    </tr>\n",
       "    <tr>\n",
       "      <th>1</th>\n",
       "      <td>0.025493</td>\n",
       "    </tr>\n",
       "    <tr>\n",
       "      <th>2</th>\n",
       "      <td>0.025493</td>\n",
       "    </tr>\n",
       "    <tr>\n",
       "      <th>3</th>\n",
       "      <td>0.025493</td>\n",
       "    </tr>\n",
       "    <tr>\n",
       "      <th>4</th>\n",
       "      <td>0.025493</td>\n",
       "    </tr>\n",
       "    <tr>\n",
       "      <th>5</th>\n",
       "      <td>0.025493</td>\n",
       "    </tr>\n",
       "    <tr>\n",
       "      <th>6</th>\n",
       "      <td>0.025493</td>\n",
       "    </tr>\n",
       "    <tr>\n",
       "      <th>7</th>\n",
       "      <td>-1.388720</td>\n",
       "    </tr>\n",
       "    <tr>\n",
       "      <th>8</th>\n",
       "      <td>0.025493</td>\n",
       "    </tr>\n",
       "    <tr>\n",
       "      <th>9</th>\n",
       "      <td>0.025493</td>\n",
       "    </tr>\n",
       "    <tr>\n",
       "      <th>10</th>\n",
       "      <td>0.025493</td>\n",
       "    </tr>\n",
       "    <tr>\n",
       "      <th>11</th>\n",
       "      <td>0.025493</td>\n",
       "    </tr>\n",
       "    <tr>\n",
       "      <th>12</th>\n",
       "      <td>0.025493</td>\n",
       "    </tr>\n",
       "    <tr>\n",
       "      <th>13</th>\n",
       "      <td>0.025493</td>\n",
       "    </tr>\n",
       "    <tr>\n",
       "      <th>14</th>\n",
       "      <td>0.025493</td>\n",
       "    </tr>\n",
       "    <tr>\n",
       "      <th>15</th>\n",
       "      <td>0.025493</td>\n",
       "    </tr>\n",
       "    <tr>\n",
       "      <th>16</th>\n",
       "      <td>0.025493</td>\n",
       "    </tr>\n",
       "    <tr>\n",
       "      <th>17</th>\n",
       "      <td>0.025493</td>\n",
       "    </tr>\n",
       "    <tr>\n",
       "      <th>18</th>\n",
       "      <td>0.025493</td>\n",
       "    </tr>\n",
       "    <tr>\n",
       "      <th>19</th>\n",
       "      <td>0.025493</td>\n",
       "    </tr>\n",
       "  </tbody>\n",
       "</table>\n",
       "</div>"
      ]
     },
     "execution_count": 355,
     "metadata": {},
     "output_type": "execute_result"
    }
   ],
   "execution_count": 355
  },
  {
   "metadata": {
    "ExecuteTime": {
     "end_time": "2024-12-23T08:02:58.257617Z",
     "start_time": "2024-12-23T08:02:58.142029Z"
    }
   },
   "cell_type": "code",
   "source": [
    "X4=df[[\"contact_cellular\",\"contact_telephone\",\"contact_unknown\"]]\n",
    "\n",
    "pca=PCA(0.95)\n",
    "X_pca4=pca.fit_transform(X4)\n",
    "print(pca.explained_variance_ratio_)\n",
    "\n",
    "pca_columns = X_pca[:, :1]\n",
    "pca_data = np.concatenate([pca_columns], axis=1)\n",
    "pca_df2= pd.DataFrame(pca_data, columns=[['contact_cellular_PCA','contact_PCA2']])\n",
    "pca_df2.head(20)\n"
   ],
   "outputs": [
    {
     "name": "stdout",
     "output_type": "stream",
     "text": [
      "[0.81972616 0.18027384]\n"
     ]
    },
    {
     "ename": "ValueError",
     "evalue": "Shape of passed values is (45211, 1), indices imply (45211, 2)",
     "output_type": "error",
     "traceback": [
      "\u001B[1;31m---------------------------------------------------------------------------\u001B[0m",
      "\u001B[1;31mValueError\u001B[0m                                Traceback (most recent call last)",
      "Cell \u001B[1;32mIn[358], line 9\u001B[0m\n\u001B[0;32m      7\u001B[0m pca_columns \u001B[38;5;241m=\u001B[39m X_pca[:, :\u001B[38;5;241m1\u001B[39m]\n\u001B[0;32m      8\u001B[0m pca_data \u001B[38;5;241m=\u001B[39m np\u001B[38;5;241m.\u001B[39mconcatenate([pca_columns], axis\u001B[38;5;241m=\u001B[39m\u001B[38;5;241m1\u001B[39m)\n\u001B[1;32m----> 9\u001B[0m pca_df2\u001B[38;5;241m=\u001B[39m \u001B[43mpd\u001B[49m\u001B[38;5;241;43m.\u001B[39;49m\u001B[43mDataFrame\u001B[49m\u001B[43m(\u001B[49m\u001B[43mpca_data\u001B[49m\u001B[43m,\u001B[49m\u001B[43m \u001B[49m\u001B[43mcolumns\u001B[49m\u001B[38;5;241;43m=\u001B[39;49m\u001B[43m[\u001B[49m\u001B[43m[\u001B[49m\u001B[38;5;124;43m'\u001B[39;49m\u001B[38;5;124;43mcontact_cellular_PCA\u001B[39;49m\u001B[38;5;124;43m'\u001B[39;49m\u001B[43m,\u001B[49m\u001B[38;5;124;43m'\u001B[39;49m\u001B[38;5;124;43mcontact_PCA2\u001B[39;49m\u001B[38;5;124;43m'\u001B[39;49m\u001B[43m]\u001B[49m\u001B[43m]\u001B[49m\u001B[43m)\u001B[49m\n\u001B[0;32m     10\u001B[0m pca_df2\u001B[38;5;241m.\u001B[39mhead(\u001B[38;5;241m20\u001B[39m)\n",
      "File \u001B[1;32m~\\AppData\\Local\\Programs\\Python\\Python311\\Lib\\site-packages\\pandas\\core\\frame.py:827\u001B[0m, in \u001B[0;36mDataFrame.__init__\u001B[1;34m(self, data, index, columns, dtype, copy)\u001B[0m\n\u001B[0;32m    816\u001B[0m         mgr \u001B[38;5;241m=\u001B[39m dict_to_mgr(\n\u001B[0;32m    817\u001B[0m             \u001B[38;5;66;03m# error: Item \"ndarray\" of \"Union[ndarray, Series, Index]\" has no\u001B[39;00m\n\u001B[0;32m    818\u001B[0m             \u001B[38;5;66;03m# attribute \"name\"\u001B[39;00m\n\u001B[1;32m   (...)\u001B[0m\n\u001B[0;32m    824\u001B[0m             copy\u001B[38;5;241m=\u001B[39m_copy,\n\u001B[0;32m    825\u001B[0m         )\n\u001B[0;32m    826\u001B[0m     \u001B[38;5;28;01melse\u001B[39;00m:\n\u001B[1;32m--> 827\u001B[0m         mgr \u001B[38;5;241m=\u001B[39m \u001B[43mndarray_to_mgr\u001B[49m\u001B[43m(\u001B[49m\n\u001B[0;32m    828\u001B[0m \u001B[43m            \u001B[49m\u001B[43mdata\u001B[49m\u001B[43m,\u001B[49m\n\u001B[0;32m    829\u001B[0m \u001B[43m            \u001B[49m\u001B[43mindex\u001B[49m\u001B[43m,\u001B[49m\n\u001B[0;32m    830\u001B[0m \u001B[43m            \u001B[49m\u001B[43mcolumns\u001B[49m\u001B[43m,\u001B[49m\n\u001B[0;32m    831\u001B[0m \u001B[43m            \u001B[49m\u001B[43mdtype\u001B[49m\u001B[38;5;241;43m=\u001B[39;49m\u001B[43mdtype\u001B[49m\u001B[43m,\u001B[49m\n\u001B[0;32m    832\u001B[0m \u001B[43m            \u001B[49m\u001B[43mcopy\u001B[49m\u001B[38;5;241;43m=\u001B[39;49m\u001B[43mcopy\u001B[49m\u001B[43m,\u001B[49m\n\u001B[0;32m    833\u001B[0m \u001B[43m            \u001B[49m\u001B[43mtyp\u001B[49m\u001B[38;5;241;43m=\u001B[39;49m\u001B[43mmanager\u001B[49m\u001B[43m,\u001B[49m\n\u001B[0;32m    834\u001B[0m \u001B[43m        \u001B[49m\u001B[43m)\u001B[49m\n\u001B[0;32m    836\u001B[0m \u001B[38;5;66;03m# For data is list-like, or Iterable (will consume into list)\u001B[39;00m\n\u001B[0;32m    837\u001B[0m \u001B[38;5;28;01melif\u001B[39;00m is_list_like(data):\n",
      "File \u001B[1;32m~\\AppData\\Local\\Programs\\Python\\Python311\\Lib\\site-packages\\pandas\\core\\internals\\construction.py:336\u001B[0m, in \u001B[0;36mndarray_to_mgr\u001B[1;34m(values, index, columns, dtype, copy, typ)\u001B[0m\n\u001B[0;32m    331\u001B[0m \u001B[38;5;66;03m# _prep_ndarraylike ensures that values.ndim == 2 at this point\u001B[39;00m\n\u001B[0;32m    332\u001B[0m index, columns \u001B[38;5;241m=\u001B[39m _get_axes(\n\u001B[0;32m    333\u001B[0m     values\u001B[38;5;241m.\u001B[39mshape[\u001B[38;5;241m0\u001B[39m], values\u001B[38;5;241m.\u001B[39mshape[\u001B[38;5;241m1\u001B[39m], index\u001B[38;5;241m=\u001B[39mindex, columns\u001B[38;5;241m=\u001B[39mcolumns\n\u001B[0;32m    334\u001B[0m )\n\u001B[1;32m--> 336\u001B[0m \u001B[43m_check_values_indices_shape_match\u001B[49m\u001B[43m(\u001B[49m\u001B[43mvalues\u001B[49m\u001B[43m,\u001B[49m\u001B[43m \u001B[49m\u001B[43mindex\u001B[49m\u001B[43m,\u001B[49m\u001B[43m \u001B[49m\u001B[43mcolumns\u001B[49m\u001B[43m)\u001B[49m\n\u001B[0;32m    338\u001B[0m \u001B[38;5;28;01mif\u001B[39;00m typ \u001B[38;5;241m==\u001B[39m \u001B[38;5;124m\"\u001B[39m\u001B[38;5;124marray\u001B[39m\u001B[38;5;124m\"\u001B[39m:\n\u001B[0;32m    339\u001B[0m     \u001B[38;5;28;01mif\u001B[39;00m \u001B[38;5;28missubclass\u001B[39m(values\u001B[38;5;241m.\u001B[39mdtype\u001B[38;5;241m.\u001B[39mtype, \u001B[38;5;28mstr\u001B[39m):\n",
      "File \u001B[1;32m~\\AppData\\Local\\Programs\\Python\\Python311\\Lib\\site-packages\\pandas\\core\\internals\\construction.py:420\u001B[0m, in \u001B[0;36m_check_values_indices_shape_match\u001B[1;34m(values, index, columns)\u001B[0m\n\u001B[0;32m    418\u001B[0m passed \u001B[38;5;241m=\u001B[39m values\u001B[38;5;241m.\u001B[39mshape\n\u001B[0;32m    419\u001B[0m implied \u001B[38;5;241m=\u001B[39m (\u001B[38;5;28mlen\u001B[39m(index), \u001B[38;5;28mlen\u001B[39m(columns))\n\u001B[1;32m--> 420\u001B[0m \u001B[38;5;28;01mraise\u001B[39;00m \u001B[38;5;167;01mValueError\u001B[39;00m(\u001B[38;5;124mf\u001B[39m\u001B[38;5;124m\"\u001B[39m\u001B[38;5;124mShape of passed values is \u001B[39m\u001B[38;5;132;01m{\u001B[39;00mpassed\u001B[38;5;132;01m}\u001B[39;00m\u001B[38;5;124m, indices imply \u001B[39m\u001B[38;5;132;01m{\u001B[39;00mimplied\u001B[38;5;132;01m}\u001B[39;00m\u001B[38;5;124m\"\u001B[39m)\n",
      "\u001B[1;31mValueError\u001B[0m: Shape of passed values is (45211, 1), indices imply (45211, 2)"
     ]
    }
   ],
   "execution_count": 358
  },
  {
   "metadata": {},
   "cell_type": "code",
   "outputs": [],
   "execution_count": null,
   "source": [
    "X5=df[[\"poutcome_failure\",\"poutcome_other\",\"poutcome_success\",\"poutcome_unknown\"]]\n",
    "X6=df[[\"job_admin\",\"job_blue-collar\",\"job_entrepreneur\",\"job_housemaid\",\"job_management\",\"job_retired\",\"job_self-employed\",\"job_services\",\"job_student\",\"job_technician\",\"job_unemployed\",\"job_unknown\"]]"
   ]
  },
  {
   "metadata": {
    "ExecuteTime": {
     "end_time": "2024-12-23T06:52:34.779308700Z",
     "start_time": "2024-12-22T12:20:57.320584Z"
    }
   },
   "cell_type": "code",
   "source": [
    "from sklearn.ensemble import RandomForestClassifier\n",
    "from sklearn.model_selection import train_test_split\n",
    "\n",
    "X=df.drop([\"y\"], axis=1)\n",
    "Y=df[\"y\"]\n",
    "X_train,X_test,Y_train,Y_test=train_test_split(X,Y,test_size=0.2)\n",
    "\n",
    "rf=RandomForestClassifier()\n",
    "rf.fit(X_train,Y_train)\n",
    "\n",
    "from sklearn.metrics import classification_report\n",
    "print(classification_report(Y_test, rf.predict(X_test)))"
   ],
   "outputs": [
    {
     "name": "stdout",
     "output_type": "stream",
     "text": [
      "              precision    recall  f1-score   support\n",
      "\n",
      "           0       0.92      0.98      0.95      7987\n",
      "           1       0.67      0.37      0.48      1056\n",
      "\n",
      "    accuracy                           0.91      9043\n",
      "   macro avg       0.79      0.67      0.71      9043\n",
      "weighted avg       0.89      0.91      0.89      9043\n",
      "\n"
     ]
    }
   ],
   "execution_count": 162
  }
 ],
 "metadata": {
  "colab": {
   "authorship_tag": "ABX9TyMlBilPl4+HkwnYd3Ortty8",
   "provenance": []
  },
  "kernelspec": {
   "display_name": "Python 3 (ipykernel)",
   "name": "python3",
   "language": "python"
  },
  "language_info": {
   "codemirror_mode": {
    "name": "ipython",
    "version": 3
   },
   "file_extension": ".py",
   "mimetype": "text/x-python",
   "name": "python",
   "nbconvert_exporter": "python",
   "pygments_lexer": "ipython3",
   "version": "3.11.4"
  }
 },
 "nbformat": 4,
 "nbformat_minor": 0
}
