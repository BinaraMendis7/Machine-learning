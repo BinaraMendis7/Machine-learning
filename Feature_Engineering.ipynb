{
 "cells": [
  {
   "cell_type": "code",
   "metadata": {
    "executionInfo": {
     "elapsed": 437,
     "status": "ok",
     "timestamp": 1734838497880,
     "user": {
      "displayName": "Binara mendis Dinuwara",
      "userId": "02094149013337095763"
     },
     "user_tz": -330
    },
    "id": "7GQIA_4hqQ2-",
    "ExecuteTime": {
     "end_time": "2024-12-25T10:56:14.542287Z",
     "start_time": "2024-12-25T10:56:14.534602Z"
    }
   },
   "source": [
    "import pandas as pd\n",
    "import matplotlib.pyplot as plt\n",
    "import seaborn as sns\n",
    "\n"
   ],
   "outputs": [],
   "execution_count": 145
  },
  {
   "cell_type": "code",
   "metadata": {
    "executionInfo": {
     "elapsed": 377,
     "status": "ok",
     "timestamp": 1734838503376,
     "user": {
      "displayName": "Binara mendis Dinuwara",
      "userId": "02094149013337095763"
     },
     "user_tz": -330
    },
    "id": "v1hWSKCYqfH0",
    "ExecuteTime": {
     "end_time": "2024-12-25T10:56:14.754467Z",
     "start_time": "2024-12-25T10:56:14.653961Z"
    }
   },
   "source": "df=pd.read_csv(\"bank-full.csv\", delimiter=\";\")",
   "outputs": [],
   "execution_count": 146
  },
  {
   "cell_type": "code",
   "metadata": {
    "colab": {
     "base_uri": "https://localhost:8080/",
     "height": 617
    },
    "executionInfo": {
     "elapsed": 382,
     "status": "ok",
     "timestamp": 1734788427238,
     "user": {
      "displayName": "Binara mendis Dinuwara",
      "userId": "02094149013337095763"
     },
     "user_tz": -330
    },
    "id": "mK98DAN2q7Dx",
    "outputId": "c8bbf175-b7c0-45f2-ff4e-c0a882d8201e",
    "ExecuteTime": {
     "end_time": "2024-12-25T10:56:14.797833Z",
     "start_time": "2024-12-25T10:56:14.762128Z"
    }
   },
   "source": [
    "df.isnull().sum()"
   ],
   "outputs": [
    {
     "data": {
      "text/plain": [
       "age          0\n",
       "job          0\n",
       "marital      0\n",
       "education    0\n",
       "default      0\n",
       "balance      0\n",
       "housing      0\n",
       "loan         0\n",
       "contact      0\n",
       "day          0\n",
       "month        0\n",
       "duration     0\n",
       "campaign     0\n",
       "pdays        0\n",
       "previous     0\n",
       "poutcome     0\n",
       "y            0\n",
       "dtype: int64"
      ]
     },
     "execution_count": 147,
     "metadata": {},
     "output_type": "execute_result"
    }
   ],
   "execution_count": 147
  },
  {
   "cell_type": "code",
   "metadata": {
    "colab": {
     "base_uri": "https://localhost:8080/"
    },
    "executionInfo": {
     "elapsed": 33,
     "status": "ok",
     "timestamp": 1734772775165,
     "user": {
      "displayName": "Binara mendis Dinuwara",
      "userId": "02094149013337095763"
     },
     "user_tz": -330
    },
    "id": "8QSM7xrOteK2",
    "outputId": "87a04e03-a9c4-48e7-9ff2-2b6c40a7c49b",
    "ExecuteTime": {
     "end_time": "2024-12-25T10:56:15.028477Z",
     "start_time": "2024-12-25T10:56:14.976808Z"
    }
   },
   "source": [
    "for col in df.columns:\n",
    "    print(col, df[col].unique())"
   ],
   "outputs": [
    {
     "name": "stdout",
     "output_type": "stream",
     "text": [
      "age [58 44 33 47 35 28 42 43 41 29 53 57 51 45 60 56 32 25 40 39 52 46 36 49\n",
      " 59 37 50 54 55 48 24 38 31 30 27 34 23 26 61 22 21 20 66 62 83 75 67 70\n",
      " 65 68 64 69 72 71 19 76 85 63 90 82 73 74 78 80 94 79 77 86 95 81 18 89\n",
      " 84 87 92 93 88]\n",
      "job ['management' 'technician' 'entrepreneur' 'blue-collar' 'unknown'\n",
      " 'retired' 'admin.' 'services' 'self-employed' 'unemployed' 'housemaid'\n",
      " 'student']\n",
      "marital ['married' 'single' 'divorced']\n",
      "education ['tertiary' 'secondary' 'unknown' 'primary']\n",
      "default ['no' 'yes']\n",
      "balance [ 2143    29     2 ...  8205 14204 16353]\n",
      "housing ['yes' 'no']\n",
      "loan ['no' 'yes']\n",
      "contact ['unknown' 'cellular' 'telephone']\n",
      "day [ 5  6  7  8  9 12 13 14 15 16 19 20 21 23 26 27 28 29 30  2  3  4 11 17\n",
      " 18 24 25  1 10 22 31]\n",
      "month ['may' 'jun' 'jul' 'aug' 'oct' 'nov' 'dec' 'jan' 'feb' 'mar' 'apr' 'sep']\n",
      "duration [ 261  151   76 ... 1298 1246 1556]\n",
      "campaign [ 1  2  3  5  4  6  7  8  9 10 11 12 13 19 14 24 16 32 18 22 15 17 25 21\n",
      " 43 51 63 41 26 28 55 50 38 23 20 29 31 37 30 46 27 58 33 35 34 36 39 44]\n",
      "pdays [ -1 151 166  91  86 143 147  89 140 176 101 174 170 167 195 165 129 188\n",
      " 196 172 118 119 104 171 117 164 132 131 123 159 186 111 115 116 173 178\n",
      " 110 152  96 103 150 175 193 181 185 154 145 138 126 180 109 158 168  97\n",
      " 182 127 130 194 125 105 102  26 179  28 183 155 112 120 137 124 187 190\n",
      " 113 162 134 169 189   8 144 191 184 177   5  99 133  93  92  10 100 156\n",
      " 198 106 153 146 128   7 121 160 107  90  27 197 136 139 122 157 149 135\n",
      "  30 114  98 192 163  34  95 141  31 199  94 108  29 268 247 253 226 244\n",
      " 239 245 204 231 238 258 230 254 265  71 223 246 250 266 240 205 261 259\n",
      " 241 260 234 251 225 161 237 262 248 255 220 227 206 224 249 235 228 263\n",
      "   2 270 232 252 207 200 269 233 256 273 272 242 264 208 214 222 271 203\n",
      " 221 202 216 201 257 229 210 217  75 213  73  76 267 211 215  77 236  82\n",
      "   6 209 274   1 243 212 275  80 276   9 279  12 280  88 277  85  84 219\n",
      "  24  21 282  41 294  49 329 307 303 331 308 300  64 314 287 330 332 302\n",
      " 323 318 333  60 326 335 313 312 305 325 327 336 309 328 322  39 316 292\n",
      " 295 310 306 320 317 289  57 321 142 339 301 315 337 334 340 319  17  74\n",
      " 148 341 299 344 342 324 345 346 304 281 343 338  14 347  15 291 348 349\n",
      " 285 350 284  25 283 278  81   4  87  83  79  70  13 293  37  78  63  22\n",
      " 296 355  66  19  35 360 357 354 351 362 358 365 298 286 364 363  47 361\n",
      " 288 366 356 352 359 297 367 353 368  42 290  67 371 370 369  50  36 373\n",
      " 374 372 311 375 378  59 379  40  18  43  20  69  38 385  56  55  44 391\n",
      "  72 390  32  62 399 393  65 377 395 388 389 386  61 412 405 434 394 382\n",
      " 459 440 397 383  68 461 462 463 422  51 457 430 442 403 454 428 392 410\n",
      " 401 474 475 477 478  54 476 380 479  45  46 495  58  48 518  52 515 520\n",
      " 511 536 387 218  33 544 435 436 555 433 446 558 469 616 561 553 384 592\n",
      " 467 585 480 421 667 626 426 595 381 376 648 521 452 449 633 398  53 460\n",
      " 670 551 414 557 687 404 651 686 425 504 578 674 416 586 411 756 450 745\n",
      " 514 417 424 776 396 683 529 439 415 456 407 458 532 481 791 701 531 792\n",
      " 413 445 535 784 419 455 491 431 542 470 472 717 437   3 782 728 828 524\n",
      " 562 761 492 775 579 493 464 760 466 465 656 831 490 432 655 427 749 838\n",
      " 769 587 778 854 779 850 771 594 842 589 603 484 489 486 409 444 680 808\n",
      " 485 503 690 772 774 526 420 528 500 826 804 508 547 805 541 543 871 550\n",
      " 530]\n",
      "previous [  0   3   1   4   2  11  16   6   5  10  12   7  18   9  21   8  14  15\n",
      "  26  37  13  25  20  27  17  23  38  29  24  51 275  22  19  30  58  28\n",
      "  32  40  55  35  41]\n",
      "poutcome ['unknown' 'failure' 'other' 'success']\n",
      "y ['no' 'yes']\n"
     ]
    }
   ],
   "execution_count": 148
  },
  {
   "cell_type": "code",
   "metadata": {
    "colab": {
     "base_uri": "https://localhost:8080/"
    },
    "executionInfo": {
     "elapsed": 370,
     "status": "ok",
     "timestamp": 1734838513377,
     "user": {
      "displayName": "Binara mendis Dinuwara",
      "userId": "02094149013337095763"
     },
     "user_tz": -330
    },
    "id": "khFjFTk2uiM9",
    "outputId": "1806fb59-4c68-4cf5-a53f-9676e452629a",
    "ExecuteTime": {
     "end_time": "2024-12-25T10:56:15.153376Z",
     "start_time": "2024-12-25T10:56:15.132511Z"
    }
   },
   "source": [
    "df[\"job\"].replace({\"admin.\": \"admin\"}, inplace=True)\n"
   ],
   "outputs": [
    {
     "name": "stderr",
     "output_type": "stream",
     "text": [
      "C:\\Users\\binar\\AppData\\Local\\Temp\\ipykernel_16920\\1340768125.py:1: FutureWarning: A value is trying to be set on a copy of a DataFrame or Series through chained assignment using an inplace method.\n",
      "The behavior will change in pandas 3.0. This inplace method will never work because the intermediate object on which we are setting values always behaves as a copy.\n",
      "\n",
      "For example, when doing 'df[col].method(value, inplace=True)', try using 'df.method({col: value}, inplace=True)' or df[col] = df[col].method(value) instead, to perform the operation inplace on the original object.\n",
      "\n",
      "\n",
      "  df[\"job\"].replace({\"admin.\": \"admin\"}, inplace=True)\n"
     ]
    }
   ],
   "execution_count": 149
  },
  {
   "cell_type": "code",
   "metadata": {
    "colab": {
     "base_uri": "https://localhost:8080/"
    },
    "executionInfo": {
     "elapsed": 395,
     "status": "ok",
     "timestamp": 1734838533803,
     "user": {
      "displayName": "Binara mendis Dinuwara",
      "userId": "02094149013337095763"
     },
     "user_tz": -330
    },
    "id": "CRuAgb_3zHzv",
    "outputId": "2cdb27a4-7125-4390-8664-cf3a5d6c320a",
    "ExecuteTime": {
     "end_time": "2024-12-25T10:56:15.278455Z",
     "start_time": "2024-12-25T10:56:15.258923Z"
    }
   },
   "source": [
    "df[\"job\"].unique()"
   ],
   "outputs": [
    {
     "data": {
      "text/plain": [
       "array(['management', 'technician', 'entrepreneur', 'blue-collar',\n",
       "       'unknown', 'retired', 'admin', 'services', 'self-employed',\n",
       "       'unemployed', 'housemaid', 'student'], dtype=object)"
      ]
     },
     "execution_count": 150,
     "metadata": {},
     "output_type": "execute_result"
    }
   ],
   "execution_count": 150
  },
  {
   "cell_type": "code",
   "metadata": {
    "colab": {
     "base_uri": "https://localhost:8080/",
     "height": 458
    },
    "executionInfo": {
     "elapsed": 456,
     "status": "ok",
     "timestamp": 1734838538719,
     "user": {
      "displayName": "Binara mendis Dinuwara",
      "userId": "02094149013337095763"
     },
     "user_tz": -330
    },
    "id": "dfVLx2BM0DFQ",
    "outputId": "855adeb3-c874-4831-b56a-e1a20e2fc7ba",
    "ExecuteTime": {
     "end_time": "2024-12-25T10:56:15.498015Z",
     "start_time": "2024-12-25T10:56:15.453997Z"
    }
   },
   "source": [
    "df.duplicated()"
   ],
   "outputs": [
    {
     "data": {
      "text/plain": [
       "0        False\n",
       "1        False\n",
       "2        False\n",
       "3        False\n",
       "4        False\n",
       "         ...  \n",
       "45206    False\n",
       "45207    False\n",
       "45208    False\n",
       "45209    False\n",
       "45210    False\n",
       "Length: 45211, dtype: bool"
      ]
     },
     "execution_count": 151,
     "metadata": {},
     "output_type": "execute_result"
    }
   ],
   "execution_count": 151
  },
  {
   "cell_type": "code",
   "metadata": {
    "executionInfo": {
     "elapsed": 347,
     "status": "ok",
     "timestamp": 1734788453789,
     "user": {
      "displayName": "Binara mendis Dinuwara",
      "userId": "02094149013337095763"
     },
     "user_tz": -330
    },
    "id": "elAPlbkQ4afF",
    "ExecuteTime": {
     "end_time": "2024-12-25T10:56:15.619558Z",
     "start_time": "2024-12-25T10:56:15.553631Z"
    }
   },
   "source": [
    "for data in df.duplicated():\n",
    "  if data==True:\n",
    "    print(data)\n",
    "    df.drop_duplicates(inplace=True)"
   ],
   "outputs": [],
   "execution_count": 152
  },
  {
   "cell_type": "code",
   "metadata": {
    "colab": {
     "base_uri": "https://localhost:8080/",
     "height": 452
    },
    "executionInfo": {
     "elapsed": 3121,
     "status": "ok",
     "timestamp": 1734788461250,
     "user": {
      "displayName": "Binara mendis Dinuwara",
      "userId": "02094149013337095763"
     },
     "user_tz": -330
    },
    "id": "24LK1wtS4qun",
    "outputId": "7e220fcb-f8d1-4ddd-a622-2dc6fb037902",
    "ExecuteTime": {
     "end_time": "2024-12-25T10:56:16.929635Z",
     "start_time": "2024-12-25T10:56:15.719419Z"
    }
   },
   "source": [
    "sns.boxplot(df)\n",
    "plt.title(\"Before removing outliers\")\n",
    "plt.show()"
   ],
   "outputs": [
    {
     "data": {
      "text/plain": [
       "<Figure size 640x480 with 1 Axes>"
      ],
      "image/png": "[encoded data removed]"
     },
     "metadata": {},
     "output_type": "display_data"
    }
   ],
   "execution_count": 153
  },
  {
   "cell_type": "markdown",
   "metadata": {
    "id": "j1J_N_NAM4bf"
   },
   "source": [
    "Transferting categorical variables using one hot encoding and label encoding"
   ]
  },
  {
   "metadata": {
    "ExecuteTime": {
     "end_time": "2024-12-25T10:56:17.673175Z",
     "start_time": "2024-12-25T10:56:16.943607Z"
    }
   },
   "cell_type": "code",
   "source": [
    "# Loop through columns, but exclude the 'Date' column (or other non-numeric columns)\n",
    "for col in df.columns:\n",
    "    if df[col].dtype in [int, float]:  # Check if the column's data type is numeric\n",
    "        plt.figure(figsize=(8, 5))\n",
    "        plt.boxplot(df[col], vert=False, patch_artist=True, boxprops=dict(facecolor=\"lightblue\"))\n",
    "        plt.title(\"Box Plot for\"+ col)\n",
    "        plt.xlabel(\"Value\")\n",
    "        plt.show() # Add plt.show() to display each boxplot individually\n",
    "    else:\n",
    "        print(f\"Skipping boxplot for column '{col}' as it is not numeric.\")"
   ],
   "outputs": [
    {
     "data": {
      "text/plain": [
       "<Figure size 800x500 with 1 Axes>"
      ],
      "image/png": "[encoded data removed]"
     },
     "metadata": {},
     "output_type": "display_data"
    },
    {
     "name": "stdout",
     "output_type": "stream",
     "text": [
      "Skipping boxplot for column 'job' as it is not numeric.\n",
      "Skipping boxplot for column 'marital' as it is not numeric.\n",
      "Skipping boxplot for column 'education' as it is not numeric.\n",
      "Skipping boxplot for column 'default' as it is not numeric.\n"
     ]
    },
    {
     "data": {
      "text/plain": [
       "<Figure size 800x500 with 1 Axes>"
      ],
      "image/png": "[encoded data removed]"
     },
     "metadata": {},
     "output_type": "display_data"
    },
    {
     "name": "stdout",
     "output_type": "stream",
     "text": [
      "Skipping boxplot for column 'housing' as it is not numeric.\n",
      "Skipping boxplot for column 'loan' as it is not numeric.\n",
      "Skipping boxplot for column 'contact' as it is not numeric.\n"
     ]
    },
    {
     "data": {
      "text/plain": [
       "<Figure size 800x500 with 1 Axes>"
      ],
      "image/png": "[encoded data removed]"
     },
     "metadata": {},
     "output_type": "display_data"
    },
    {
     "name": "stdout",
     "output_type": "stream",
     "text": [
      "Skipping boxplot for column 'month' as it is not numeric.\n"
     ]
    },
    {
     "data": {
      "text/plain": [
       "<Figure size 800x500 with 1 Axes>"
      ],
      "image/png": "[encoded data removed]"
     },
     "metadata": {},
     "output_type": "display_data"
    },
    {
     "data": {
      "text/plain": [
       "<Figure size 800x500 with 1 Axes>"
      ],
      "image/png": "[encoded data removed]"
     },
     "metadata": {},
     "output_type": "display_data"
    },
    {
     "data": {
      "text/plain": [
       "<Figure size 800x500 with 1 Axes>"
      ],
      "image/png": "[encoded data removed]"
     },
     "metadata": {},
     "output_type": "display_data"
    },
    {
     "data": {
      "text/plain": [
       "<Figure size 800x500 with 1 Axes>"
      ],
      "image/png": "[encoded data removed]"
     },
     "metadata": {},
     "output_type": "display_data"
    },
    {
     "name": "stdout",
     "output_type": "stream",
     "text": [
      "Skipping boxplot for column 'poutcome' as it is not numeric.\n",
      "Skipping boxplot for column 'y' as it is not numeric.\n"
     ]
    }
   ],
   "execution_count": 154
  },
  {
   "metadata": {
    "ExecuteTime": {
     "end_time": "2024-12-25T10:56:17.856272Z",
     "start_time": "2024-12-25T10:56:17.838824Z"
    }
   },
   "cell_type": "code",
   "source": [
    "# Calculate IQR thresholds\n",
    "Q1 = df['age'].quantile(0.25)\n",
    "Q3 = df['age'].quantile(0.75)\n",
    "IQR = Q3 - Q1\n",
    "\n",
    "lower_bound = Q1 - 1.5 * IQR\n",
    "upper_bound = Q3 + 1.5 * IQR\n",
    "\n",
    "# Cap values\n",
    "df['age'] = df['age'].clip(lower=lower_bound, upper=upper_bound)\n",
    "\n"
   ],
   "outputs": [],
   "execution_count": 155
  },
  {
   "metadata": {
    "ExecuteTime": {
     "end_time": "2024-12-25T10:56:17.880087Z",
     "start_time": "2024-12-25T10:56:17.862911Z"
    }
   },
   "cell_type": "code",
   "source": [
    "# Calculate IQR thresholds\n",
    "Q1 = df['balance'].quantile(0.25)\n",
    "Q3 = df['balance'].quantile(0.75)\n",
    "IQR = Q3 - Q1\n",
    "\n",
    "lower_bound = Q1 - 1.5 * IQR\n",
    "upper_bound = Q3 + 1.5 * IQR\n",
    "\n",
    "# Cap values\n",
    "df['balance'] = df['balance'].clip(lower=lower_bound, upper=upper_bound)\n",
    "\n",
    "\n"
   ],
   "outputs": [],
   "execution_count": 156
  },
  {
   "metadata": {
    "ExecuteTime": {
     "end_time": "2024-12-25T10:56:18.011668Z",
     "start_time": "2024-12-25T10:56:17.996240Z"
    }
   },
   "cell_type": "code",
   "source": [
    "# Calculate IQR thresholds\n",
    "Q1 = df['campaign'].quantile(0.25)\n",
    "Q3 = df['campaign'].quantile(0.75)\n",
    "IQR = Q3 - Q1\n",
    "\n",
    "lower_bound = Q1 - 1.5 * IQR\n",
    "upper_bound = Q3 + 1.5 * IQR\n",
    "\n",
    "# Cap values\n",
    "df['campaign'] = df['campaign'].clip(lower=lower_bound, upper=upper_bound)\n"
   ],
   "outputs": [],
   "execution_count": 157
  },
  {
   "metadata": {
    "ExecuteTime": {
     "end_time": "2024-12-25T10:56:18.175347Z",
     "start_time": "2024-12-25T10:56:18.163533Z"
    }
   },
   "cell_type": "code",
   "source": [
    "# Calculate IQR thresholds\n",
    "Q1 = df['duration'].quantile(0.25)\n",
    "Q3 = df['duration'].quantile(0.75)\n",
    "IQR = Q3 - Q1\n",
    "\n",
    "lower_bound = Q1 - 1.5 * IQR\n",
    "upper_bound = Q3 + 1.5 * IQR\n",
    "\n",
    "# Cap values\n",
    "df['duration'] = df['duration'].clip(lower=lower_bound, upper=upper_bound)\n",
    "\n"
   ],
   "outputs": [],
   "execution_count": 158
  },
  {
   "metadata": {
    "ExecuteTime": {
     "end_time": "2024-12-25T10:56:18.199042Z",
     "start_time": "2024-12-25T10:56:18.179416Z"
    }
   },
   "cell_type": "code",
   "source": [
    "# Calculate IQR thresholds\n",
    "Q1 = df['pdays'].quantile(0.25)\n",
    "Q3 = df['pdays'].quantile(0.75)\n",
    "IQR = Q3 - Q1\n",
    "\n",
    "lower_bound = Q1 - 1.5 * IQR\n",
    "upper_bound = Q3 + 1.5 * IQR\n",
    "\n",
    "# Cap values\n",
    "df['pdays'] = df['pdays'].clip(lower=lower_bound, upper=upper_bound)\n",
    "\n"
   ],
   "outputs": [],
   "execution_count": 159
  },
  {
   "metadata": {
    "ExecuteTime": {
     "end_time": "2024-12-25T10:56:18.274280Z",
     "start_time": "2024-12-25T10:56:18.263898Z"
    }
   },
   "cell_type": "code",
   "source": [
    "# Calculate IQR thresholds\n",
    "Q1 = df['previous'].quantile(0.25)\n",
    "Q3 = df['previous'].quantile(0.75)\n",
    "IQR = Q3 - Q1\n",
    "\n",
    "lower_bound = Q1 - 1.5 * IQR\n",
    "upper_bound = Q3 + 1.5 * IQR\n",
    "\n",
    "# Cap values\n",
    "df['previous'] = df['previous'].clip(lower=lower_bound, upper=upper_bound)\n",
    "\n"
   ],
   "outputs": [],
   "execution_count": 160
  },
  {
   "metadata": {
    "ExecuteTime": {
     "end_time": "2024-12-25T10:56:18.857411Z",
     "start_time": "2024-12-25T10:56:18.346763Z"
    }
   },
   "cell_type": "code",
   "source": [
    "plt.figure(figsize=(8, 5))\n",
    "plt.boxplot(df['age'], vert=False, patch_artist=True, boxprops=dict(facecolor=\"lightblue\"))\n",
    "plt.title(\"Box Plot for age after removing outliers\")\n",
    "plt.xlabel(\"Value\")\n",
    "plt.show()\n",
    "plt.figure(figsize=(8, 5))\n",
    "plt.boxplot(df['age'], vert=False, patch_artist=True, boxprops=dict(facecolor=\"lightblue\"))\n",
    "plt.title(\"Box Plot for balance after removing outliers\")\n",
    "plt.xlabel(\"Value\")\n",
    "plt.show()\n",
    "plt.figure(figsize=(8, 5))\n",
    "plt.boxplot(df['campaign'], vert=False, patch_artist=True, boxprops=dict(facecolor=\"lightblue\"))\n",
    "plt.title(\"Box Plot for campaign after removing outliers\")\n",
    "plt.xlabel(\"Value\")\n",
    "plt.show()\n",
    "plt.figure(figsize=(8, 5))\n",
    "plt.boxplot(df['duration'], vert=False, patch_artist=True, boxprops=dict(facecolor=\"lightblue\"))\n",
    "plt.title(\"Box Plot for duration after removing outliers\")\n",
    "plt.xlabel(\"Value\")\n",
    "plt.show()\n",
    "plt.boxplot(df['pdays'], vert=False, patch_artist=True, boxprops=dict(facecolor=\"lightblue\"))\n",
    "plt.title(\"Box Plot for pdays after removing outliers\")\n",
    "plt.xlabel(\"Value\")\n",
    "plt.show()\n",
    "plt.boxplot(df['previous'], vert=False, patch_artist=True, boxprops=dict(facecolor=\"lightblue\"))\n",
    "plt.title(\"Box Plot for previous after removing outliers\")\n",
    "plt.xlabel(\"Value\")\n",
    "plt.show()\n"
   ],
   "outputs": [
    {
     "data": {
      "text/plain": [
       "<Figure size 800x500 with 1 Axes>"
      ],
      "image/png": "[encoded data removed]"
     },
     "metadata": {},
     "output_type": "display_data"
    },
    {
     "data": {
      "text/plain": [
       "<Figure size 800x500 with 1 Axes>"
      ],
      "image/png": "[encoded data removed]"
     },
     "metadata": {},
     "output_type": "display_data"
    },
    {
     "data": {
      "text/plain": [
       "<Figure size 800x500 with 1 Axes>"
      ],
      "image/png": "[encoded data removed]"
     },
     "metadata": {},
     "output_type": "display_data"
    },
    {
     "data": {
      "text/plain": [
       "<Figure size 800x500 with 1 Axes>"
      ],
      "image/png": "[encoded data removed]"
     },
     "metadata": {},
     "output_type": "display_data"
    },
    {
     "data": {
      "text/plain": [
       "<Figure size 640x480 with 1 Axes>"
      ],
      "image/png": "[encoded data removed]"
     },
     "metadata": {},
     "output_type": "display_data"
    },
    {
     "data": {
      "text/plain": [
       "<Figure size 640x480 with 1 Axes>"
      ],
      "image/png": "[encoded data removed]"
     },
     "metadata": {},
     "output_type": "display_data"
    }
   ],
   "execution_count": 161
  },
  {
   "metadata": {
    "ExecuteTime": {
     "end_time": "2024-12-25T10:56:18.968670Z",
     "start_time": "2024-12-25T10:56:18.938415Z"
    }
   },
   "cell_type": "code",
   "source": "df.isnull().sum()",
   "outputs": [
    {
     "data": {
      "text/plain": [
       "age          0\n",
       "job          0\n",
       "marital      0\n",
       "education    0\n",
       "default      0\n",
       "balance      0\n",
       "housing      0\n",
       "loan         0\n",
       "contact      0\n",
       "day          0\n",
       "month        0\n",
       "duration     0\n",
       "campaign     0\n",
       "pdays        0\n",
       "previous     0\n",
       "poutcome     0\n",
       "y            0\n",
       "dtype: int64"
      ]
     },
     "execution_count": 162,
     "metadata": {},
     "output_type": "execute_result"
    }
   ],
   "execution_count": 162
  },
  {
   "metadata": {
    "ExecuteTime": {
     "end_time": "2024-12-25T10:56:19.128223Z",
     "start_time": "2024-12-25T10:56:19.109877Z"
    }
   },
   "cell_type": "code",
   "source": "df['month'].unique()",
   "outputs": [
    {
     "data": {
      "text/plain": [
       "array(['may', 'jun', 'jul', 'aug', 'oct', 'nov', 'dec', 'jan', 'feb',\n",
       "       'mar', 'apr', 'sep'], dtype=object)"
      ]
     },
     "execution_count": 163,
     "metadata": {},
     "output_type": "execute_result"
    }
   ],
   "execution_count": 163
  },
  {
   "cell_type": "code",
   "metadata": {
    "executionInfo": {
     "elapsed": 26,
     "status": "ok",
     "timestamp": 1734772778221,
     "user": {
      "displayName": "Binara mendis Dinuwara",
      "userId": "02094149013337095763"
     },
     "user_tz": -330
    },
    "id": "_GCKUWk5HZ9C",
    "ExecuteTime": {
     "end_time": "2024-12-25T10:56:19.444099Z",
     "start_time": "2024-12-25T10:56:19.199220Z"
    }
   },
   "source": [
    "df.to_csv(\"Delimeted_Dataset.csv\")"
   ],
   "outputs": [],
   "execution_count": 164
  },
  {
   "cell_type": "code",
   "metadata": {
    "executionInfo": {
     "elapsed": 30,
     "status": "aborted",
     "timestamp": 1734772778827,
     "user": {
      "displayName": "Binara mendis Dinuwara",
      "userId": "02094149013337095763"
     },
     "user_tz": -330
    },
    "id": "rDA5HOnIKazj",
    "ExecuteTime": {
     "end_time": "2024-12-25T10:56:19.463386Z",
     "start_time": "2024-12-25T10:56:19.454614Z"
    }
   },
   "source": [
    "df.columns"
   ],
   "outputs": [
    {
     "data": {
      "text/plain": [
       "Index(['age', 'job', 'marital', 'education', 'default', 'balance', 'housing',\n",
       "       'loan', 'contact', 'day', 'month', 'duration', 'campaign', 'pdays',\n",
       "       'previous', 'poutcome', 'y'],\n",
       "      dtype='object')"
      ]
     },
     "execution_count": 165,
     "metadata": {},
     "output_type": "execute_result"
    }
   ],
   "execution_count": 165
  },
  {
   "metadata": {
    "ExecuteTime": {
     "end_time": "2024-12-25T10:56:19.584004Z",
     "start_time": "2024-12-25T10:56:19.560553Z"
    }
   },
   "cell_type": "code",
   "source": "df.head()",
   "outputs": [
    {
     "data": {
      "text/plain": [
       "    age           job  marital  education default  balance housing loan  \\\n",
       "0  58.0    management  married   tertiary      no     2143     yes   no   \n",
       "1  44.0    technician   single  secondary      no       29     yes   no   \n",
       "2  33.0  entrepreneur  married  secondary      no        2     yes  yes   \n",
       "3  47.0   blue-collar  married    unknown      no     1506     yes   no   \n",
       "4  33.0       unknown   single    unknown      no        1      no   no   \n",
       "\n",
       "   contact  day month  duration  campaign  pdays  previous poutcome   y  \n",
       "0  unknown    5   may       261         1     -1         0  unknown  no  \n",
       "1  unknown    5   may       151         1     -1         0  unknown  no  \n",
       "2  unknown    5   may        76         1     -1         0  unknown  no  \n",
       "3  unknown    5   may        92         1     -1         0  unknown  no  \n",
       "4  unknown    5   may       198         1     -1         0  unknown  no  "
      ],
      "text/html": [
       "<div>\n",
       "<style scoped>\n",
       "    .dataframe tbody tr th:only-of-type {\n",
       "        vertical-align: middle;\n",
       "    }\n",
       "\n",
       "    .dataframe tbody tr th {\n",
       "        vertical-align: top;\n",
       "    }\n",
       "\n",
       "    .dataframe thead th {\n",
       "        text-align: right;\n",
       "    }\n",
       "</style>\n",
       "<table border=\"1\" class=\"dataframe\">\n",
       "  <thead>\n",
       "    <tr style=\"text-align: right;\">\n",
       "      <th></th>\n",
       "      <th>age</th>\n",
       "      <th>job</th>\n",
       "      <th>marital</th>\n",
       "      <th>education</th>\n",
       "      <th>default</th>\n",
       "      <th>balance</th>\n",
       "      <th>housing</th>\n",
       "      <th>loan</th>\n",
       "      <th>contact</th>\n",
       "      <th>day</th>\n",
       "      <th>month</th>\n",
       "      <th>duration</th>\n",
       "      <th>campaign</th>\n",
       "      <th>pdays</th>\n",
       "      <th>previous</th>\n",
       "      <th>poutcome</th>\n",
       "      <th>y</th>\n",
       "    </tr>\n",
       "  </thead>\n",
       "  <tbody>\n",
       "    <tr>\n",
       "      <th>0</th>\n",
       "      <td>58.0</td>\n",
       "      <td>management</td>\n",
       "      <td>married</td>\n",
       "      <td>tertiary</td>\n",
       "      <td>no</td>\n",
       "      <td>2143</td>\n",
       "      <td>yes</td>\n",
       "      <td>no</td>\n",
       "      <td>unknown</td>\n",
       "      <td>5</td>\n",
       "      <td>may</td>\n",
       "      <td>261</td>\n",
       "      <td>1</td>\n",
       "      <td>-1</td>\n",
       "      <td>0</td>\n",
       "      <td>unknown</td>\n",
       "      <td>no</td>\n",
       "    </tr>\n",
       "    <tr>\n",
       "      <th>1</th>\n",
       "      <td>44.0</td>\n",
       "      <td>technician</td>\n",
       "      <td>single</td>\n",
       "      <td>secondary</td>\n",
       "      <td>no</td>\n",
       "      <td>29</td>\n",
       "      <td>yes</td>\n",
       "      <td>no</td>\n",
       "      <td>unknown</td>\n",
       "      <td>5</td>\n",
       "      <td>may</td>\n",
       "      <td>151</td>\n",
       "      <td>1</td>\n",
       "      <td>-1</td>\n",
       "      <td>0</td>\n",
       "      <td>unknown</td>\n",
       "      <td>no</td>\n",
       "    </tr>\n",
       "    <tr>\n",
       "      <th>2</th>\n",
       "      <td>33.0</td>\n",
       "      <td>entrepreneur</td>\n",
       "      <td>married</td>\n",
       "      <td>secondary</td>\n",
       "      <td>no</td>\n",
       "      <td>2</td>\n",
       "      <td>yes</td>\n",
       "      <td>yes</td>\n",
       "      <td>unknown</td>\n",
       "      <td>5</td>\n",
       "      <td>may</td>\n",
       "      <td>76</td>\n",
       "      <td>1</td>\n",
       "      <td>-1</td>\n",
       "      <td>0</td>\n",
       "      <td>unknown</td>\n",
       "      <td>no</td>\n",
       "    </tr>\n",
       "    <tr>\n",
       "      <th>3</th>\n",
       "      <td>47.0</td>\n",
       "      <td>blue-collar</td>\n",
       "      <td>married</td>\n",
       "      <td>unknown</td>\n",
       "      <td>no</td>\n",
       "      <td>1506</td>\n",
       "      <td>yes</td>\n",
       "      <td>no</td>\n",
       "      <td>unknown</td>\n",
       "      <td>5</td>\n",
       "      <td>may</td>\n",
       "      <td>92</td>\n",
       "      <td>1</td>\n",
       "      <td>-1</td>\n",
       "      <td>0</td>\n",
       "      <td>unknown</td>\n",
       "      <td>no</td>\n",
       "    </tr>\n",
       "    <tr>\n",
       "      <th>4</th>\n",
       "      <td>33.0</td>\n",
       "      <td>unknown</td>\n",
       "      <td>single</td>\n",
       "      <td>unknown</td>\n",
       "      <td>no</td>\n",
       "      <td>1</td>\n",
       "      <td>no</td>\n",
       "      <td>no</td>\n",
       "      <td>unknown</td>\n",
       "      <td>5</td>\n",
       "      <td>may</td>\n",
       "      <td>198</td>\n",
       "      <td>1</td>\n",
       "      <td>-1</td>\n",
       "      <td>0</td>\n",
       "      <td>unknown</td>\n",
       "      <td>no</td>\n",
       "    </tr>\n",
       "  </tbody>\n",
       "</table>\n",
       "</div>"
      ]
     },
     "execution_count": 166,
     "metadata": {},
     "output_type": "execute_result"
    }
   ],
   "execution_count": 166
  },
  {
   "metadata": {
    "ExecuteTime": {
     "end_time": "2024-12-25T10:56:19.800183Z",
     "start_time": "2024-12-25T10:56:19.719246Z"
    }
   },
   "cell_type": "code",
   "source": [
    "from sklearn.preprocessing import LabelEncoder\n",
    "import pandas as pd\n",
    "\n",
    "\n",
    "label_encoder = LabelEncoder()\n",
    "\n",
    "month_mapping = {\n",
    "    \"jan\": 1, \"feb\": 2, \"mar\": 3, \"apr\": 4, \"may\": 5, \"jun\": 6,\n",
    "    \"jul\": 7, \"aug\": 8, \"sep\": 9, \"oct\": 10, \"nov\": 11, \"dec\": 12\n",
    "}\n",
    "\n",
    "df['month'] = df['month'].str.lower().map(month_mapping)\n",
    "\n",
    "df['education'] = label_encoder.fit_transform(df['education'])\n",
    "\n",
    "\n",
    "\n",
    "df['y'] = df['y'].map({'yes': 1, 'no': 0})\n",
    "\n",
    "\n",
    "nominal_features = ['job', 'marital', 'default', 'housing', 'loan', 'contact', 'poutcome']\n",
    "df = pd.get_dummies(df, columns=nominal_features)\n",
    "df=df.astype(int)\n"
   ],
   "outputs": [],
   "execution_count": 167
  },
  {
   "metadata": {
    "ExecuteTime": {
     "end_time": "2024-12-25T10:56:19.912129Z",
     "start_time": "2024-12-25T10:56:19.877407Z"
    }
   },
   "cell_type": "code",
   "source": "df.head()",
   "outputs": [
    {
     "data": {
      "text/plain": [
       "   age  education  balance  day  month  duration  campaign  pdays  previous  \\\n",
       "0   58          2     2143    5      5       261         1     -1         0   \n",
       "1   44          1       29    5      5       151         1     -1         0   \n",
       "2   33          1        2    5      5        76         1     -1         0   \n",
       "3   47          3     1506    5      5        92         1     -1         0   \n",
       "4   33          3        1    5      5       198         1     -1         0   \n",
       "\n",
       "   y  ...  housing_yes  loan_no  loan_yes  contact_cellular  \\\n",
       "0  0  ...            1        1         0                 0   \n",
       "1  0  ...            1        1         0                 0   \n",
       "2  0  ...            1        0         1                 0   \n",
       "3  0  ...            1        1         0                 0   \n",
       "4  0  ...            0        1         0                 0   \n",
       "\n",
       "   contact_telephone  contact_unknown  poutcome_failure  poutcome_other  \\\n",
       "0                  0                1                 0               0   \n",
       "1                  0                1                 0               0   \n",
       "2                  0                1                 0               0   \n",
       "3                  0                1                 0               0   \n",
       "4                  0                1                 0               0   \n",
       "\n",
       "   poutcome_success  poutcome_unknown  \n",
       "0                 0                 1  \n",
       "1                 0                 1  \n",
       "2                 0                 1  \n",
       "3                 0                 1  \n",
       "4                 0                 1  \n",
       "\n",
       "[5 rows x 38 columns]"
      ],
      "text/html": [
       "<div>\n",
       "<style scoped>\n",
       "    .dataframe tbody tr th:only-of-type {\n",
       "        vertical-align: middle;\n",
       "    }\n",
       "\n",
       "    .dataframe tbody tr th {\n",
       "        vertical-align: top;\n",
       "    }\n",
       "\n",
       "    .dataframe thead th {\n",
       "        text-align: right;\n",
       "    }\n",
       "</style>\n",
       "<table border=\"1\" class=\"dataframe\">\n",
       "  <thead>\n",
       "    <tr style=\"text-align: right;\">\n",
       "      <th></th>\n",
       "      <th>age</th>\n",
       "      <th>education</th>\n",
       "      <th>balance</th>\n",
       "      <th>day</th>\n",
       "      <th>month</th>\n",
       "      <th>duration</th>\n",
       "      <th>campaign</th>\n",
       "      <th>pdays</th>\n",
       "      <th>previous</th>\n",
       "      <th>y</th>\n",
       "      <th>...</th>\n",
       "      <th>housing_yes</th>\n",
       "      <th>loan_no</th>\n",
       "      <th>loan_yes</th>\n",
       "      <th>contact_cellular</th>\n",
       "      <th>contact_telephone</th>\n",
       "      <th>contact_unknown</th>\n",
       "      <th>poutcome_failure</th>\n",
       "      <th>poutcome_other</th>\n",
       "      <th>poutcome_success</th>\n",
       "      <th>poutcome_unknown</th>\n",
       "    </tr>\n",
       "  </thead>\n",
       "  <tbody>\n",
       "    <tr>\n",
       "      <th>0</th>\n",
       "      <td>58</td>\n",
       "      <td>2</td>\n",
       "      <td>2143</td>\n",
       "      <td>5</td>\n",
       "      <td>5</td>\n",
       "      <td>261</td>\n",
       "      <td>1</td>\n",
       "      <td>-1</td>\n",
       "      <td>0</td>\n",
       "      <td>0</td>\n",
       "      <td>...</td>\n",
       "      <td>1</td>\n",
       "      <td>1</td>\n",
       "      <td>0</td>\n",
       "      <td>0</td>\n",
       "      <td>0</td>\n",
       "      <td>1</td>\n",
       "      <td>0</td>\n",
       "      <td>0</td>\n",
       "      <td>0</td>\n",
       "      <td>1</td>\n",
       "    </tr>\n",
       "    <tr>\n",
       "      <th>1</th>\n",
       "      <td>44</td>\n",
       "      <td>1</td>\n",
       "      <td>29</td>\n",
       "      <td>5</td>\n",
       "      <td>5</td>\n",
       "      <td>151</td>\n",
       "      <td>1</td>\n",
       "      <td>-1</td>\n",
       "      <td>0</td>\n",
       "      <td>0</td>\n",
       "      <td>...</td>\n",
       "      <td>1</td>\n",
       "      <td>1</td>\n",
       "      <td>0</td>\n",
       "      <td>0</td>\n",
       "      <td>0</td>\n",
       "      <td>1</td>\n",
       "      <td>0</td>\n",
       "      <td>0</td>\n",
       "      <td>0</td>\n",
       "      <td>1</td>\n",
       "    </tr>\n",
       "    <tr>\n",
       "      <th>2</th>\n",
       "      <td>33</td>\n",
       "      <td>1</td>\n",
       "      <td>2</td>\n",
       "      <td>5</td>\n",
       "      <td>5</td>\n",
       "      <td>76</td>\n",
       "      <td>1</td>\n",
       "      <td>-1</td>\n",
       "      <td>0</td>\n",
       "      <td>0</td>\n",
       "      <td>...</td>\n",
       "      <td>1</td>\n",
       "      <td>0</td>\n",
       "      <td>1</td>\n",
       "      <td>0</td>\n",
       "      <td>0</td>\n",
       "      <td>1</td>\n",
       "      <td>0</td>\n",
       "      <td>0</td>\n",
       "      <td>0</td>\n",
       "      <td>1</td>\n",
       "    </tr>\n",
       "    <tr>\n",
       "      <th>3</th>\n",
       "      <td>47</td>\n",
       "      <td>3</td>\n",
       "      <td>1506</td>\n",
       "      <td>5</td>\n",
       "      <td>5</td>\n",
       "      <td>92</td>\n",
       "      <td>1</td>\n",
       "      <td>-1</td>\n",
       "      <td>0</td>\n",
       "      <td>0</td>\n",
       "      <td>...</td>\n",
       "      <td>1</td>\n",
       "      <td>1</td>\n",
       "      <td>0</td>\n",
       "      <td>0</td>\n",
       "      <td>0</td>\n",
       "      <td>1</td>\n",
       "      <td>0</td>\n",
       "      <td>0</td>\n",
       "      <td>0</td>\n",
       "      <td>1</td>\n",
       "    </tr>\n",
       "    <tr>\n",
       "      <th>4</th>\n",
       "      <td>33</td>\n",
       "      <td>3</td>\n",
       "      <td>1</td>\n",
       "      <td>5</td>\n",
       "      <td>5</td>\n",
       "      <td>198</td>\n",
       "      <td>1</td>\n",
       "      <td>-1</td>\n",
       "      <td>0</td>\n",
       "      <td>0</td>\n",
       "      <td>...</td>\n",
       "      <td>0</td>\n",
       "      <td>1</td>\n",
       "      <td>0</td>\n",
       "      <td>0</td>\n",
       "      <td>0</td>\n",
       "      <td>1</td>\n",
       "      <td>0</td>\n",
       "      <td>0</td>\n",
       "      <td>0</td>\n",
       "      <td>1</td>\n",
       "    </tr>\n",
       "  </tbody>\n",
       "</table>\n",
       "<p>5 rows × 38 columns</p>\n",
       "</div>"
      ]
     },
     "execution_count": 168,
     "metadata": {},
     "output_type": "execute_result"
    }
   ],
   "execution_count": 168
  },
  {
   "metadata": {
    "ExecuteTime": {
     "end_time": "2024-12-25T10:56:20.216241Z",
     "start_time": "2024-12-25T10:56:20.195056Z"
    }
   },
   "cell_type": "code",
   "source": "df[\"month\"].unique()",
   "outputs": [
    {
     "data": {
      "text/plain": [
       "array([ 5,  6,  7,  8, 10, 11, 12,  1,  2,  3,  4,  9])"
      ]
     },
     "execution_count": 169,
     "metadata": {},
     "output_type": "execute_result"
    }
   ],
   "execution_count": 169
  },
  {
   "metadata": {
    "ExecuteTime": {
     "end_time": "2024-12-25T10:56:20.607408Z",
     "start_time": "2024-12-25T10:56:20.422313Z"
    }
   },
   "cell_type": "code",
   "source": [
    "Pearson_Correlation = df.corr(method='pearson')\n",
    "\n",
    "\n",
    "for col in Pearson_Correlation.columns:\n",
    "    for index in Pearson_Correlation.index:\n",
    "        if Pearson_Correlation.loc[index, col] > 0.9 and index != col:\n",
    "            print(f\"{index} and {col}: {Pearson_Correlation.loc[index, col]}\")\n"
   ],
   "outputs": [],
   "execution_count": 170
  },
  {
   "metadata": {
    "ExecuteTime": {
     "end_time": "2024-12-25T10:56:24.217670Z",
     "start_time": "2024-12-25T10:56:20.801387Z"
    }
   },
   "cell_type": "code",
   "source": [
    "df_melted = df.melt(var_name=\"Features\", value_name=\"Values\")\n",
    "\n",
    "\n",
    "plt.figure(figsize=(12, 6))\n",
    "sns.boxplot(data=df_melted, x=\"Features\", y=\"Values\")\n",
    "plt.xticks(rotation=90)\n",
    "plt.show()"
   ],
   "outputs": [
    {
     "data": {
      "text/plain": [
       "<Figure size 1200x600 with 1 Axes>"
      ],
      "image/png": "[encoded data removed]"
     },
     "metadata": {},
     "output_type": "display_data"
    }
   ],
   "execution_count": 171
  },
  {
   "metadata": {
    "ExecuteTime": {
     "end_time": "2024-12-25T10:56:24.276888Z",
     "start_time": "2024-12-25T10:56:24.226728Z"
    }
   },
   "cell_type": "code",
   "source": "df.head()",
   "outputs": [
    {
     "data": {
      "text/plain": [
       "   age  education  balance  day  month  duration  campaign  pdays  previous  \\\n",
       "0   58          2     2143    5      5       261         1     -1         0   \n",
       "1   44          1       29    5      5       151         1     -1         0   \n",
       "2   33          1        2    5      5        76         1     -1         0   \n",
       "3   47          3     1506    5      5        92         1     -1         0   \n",
       "4   33          3        1    5      5       198         1     -1         0   \n",
       "\n",
       "   y  ...  housing_yes  loan_no  loan_yes  contact_cellular  \\\n",
       "0  0  ...            1        1         0                 0   \n",
       "1  0  ...            1        1         0                 0   \n",
       "2  0  ...            1        0         1                 0   \n",
       "3  0  ...            1        1         0                 0   \n",
       "4  0  ...            0        1         0                 0   \n",
       "\n",
       "   contact_telephone  contact_unknown  poutcome_failure  poutcome_other  \\\n",
       "0                  0                1                 0               0   \n",
       "1                  0                1                 0               0   \n",
       "2                  0                1                 0               0   \n",
       "3                  0                1                 0               0   \n",
       "4                  0                1                 0               0   \n",
       "\n",
       "   poutcome_success  poutcome_unknown  \n",
       "0                 0                 1  \n",
       "1                 0                 1  \n",
       "2                 0                 1  \n",
       "3                 0                 1  \n",
       "4                 0                 1  \n",
       "\n",
       "[5 rows x 38 columns]"
      ],
      "text/html": [
       "<div>\n",
       "<style scoped>\n",
       "    .dataframe tbody tr th:only-of-type {\n",
       "        vertical-align: middle;\n",
       "    }\n",
       "\n",
       "    .dataframe tbody tr th {\n",
       "        vertical-align: top;\n",
       "    }\n",
       "\n",
       "    .dataframe thead th {\n",
       "        text-align: right;\n",
       "    }\n",
       "</style>\n",
       "<table border=\"1\" class=\"dataframe\">\n",
       "  <thead>\n",
       "    <tr style=\"text-align: right;\">\n",
       "      <th></th>\n",
       "      <th>age</th>\n",
       "      <th>education</th>\n",
       "      <th>balance</th>\n",
       "      <th>day</th>\n",
       "      <th>month</th>\n",
       "      <th>duration</th>\n",
       "      <th>campaign</th>\n",
       "      <th>pdays</th>\n",
       "      <th>previous</th>\n",
       "      <th>y</th>\n",
       "      <th>...</th>\n",
       "      <th>housing_yes</th>\n",
       "      <th>loan_no</th>\n",
       "      <th>loan_yes</th>\n",
       "      <th>contact_cellular</th>\n",
       "      <th>contact_telephone</th>\n",
       "      <th>contact_unknown</th>\n",
       "      <th>poutcome_failure</th>\n",
       "      <th>poutcome_other</th>\n",
       "      <th>poutcome_success</th>\n",
       "      <th>poutcome_unknown</th>\n",
       "    </tr>\n",
       "  </thead>\n",
       "  <tbody>\n",
       "    <tr>\n",
       "      <th>0</th>\n",
       "      <td>58</td>\n",
       "      <td>2</td>\n",
       "      <td>2143</td>\n",
       "      <td>5</td>\n",
       "      <td>5</td>\n",
       "      <td>261</td>\n",
       "      <td>1</td>\n",
       "      <td>-1</td>\n",
       "      <td>0</td>\n",
       "      <td>0</td>\n",
       "      <td>...</td>\n",
       "      <td>1</td>\n",
       "      <td>1</td>\n",
       "      <td>0</td>\n",
       "      <td>0</td>\n",
       "      <td>0</td>\n",
       "      <td>1</td>\n",
       "      <td>0</td>\n",
       "      <td>0</td>\n",
       "      <td>0</td>\n",
       "      <td>1</td>\n",
       "    </tr>\n",
       "    <tr>\n",
       "      <th>1</th>\n",
       "      <td>44</td>\n",
       "      <td>1</td>\n",
       "      <td>29</td>\n",
       "      <td>5</td>\n",
       "      <td>5</td>\n",
       "      <td>151</td>\n",
       "      <td>1</td>\n",
       "      <td>-1</td>\n",
       "      <td>0</td>\n",
       "      <td>0</td>\n",
       "      <td>...</td>\n",
       "      <td>1</td>\n",
       "      <td>1</td>\n",
       "      <td>0</td>\n",
       "      <td>0</td>\n",
       "      <td>0</td>\n",
       "      <td>1</td>\n",
       "      <td>0</td>\n",
       "      <td>0</td>\n",
       "      <td>0</td>\n",
       "      <td>1</td>\n",
       "    </tr>\n",
       "    <tr>\n",
       "      <th>2</th>\n",
       "      <td>33</td>\n",
       "      <td>1</td>\n",
       "      <td>2</td>\n",
       "      <td>5</td>\n",
       "      <td>5</td>\n",
       "      <td>76</td>\n",
       "      <td>1</td>\n",
       "      <td>-1</td>\n",
       "      <td>0</td>\n",
       "      <td>0</td>\n",
       "      <td>...</td>\n",
       "      <td>1</td>\n",
       "      <td>0</td>\n",
       "      <td>1</td>\n",
       "      <td>0</td>\n",
       "      <td>0</td>\n",
       "      <td>1</td>\n",
       "      <td>0</td>\n",
       "      <td>0</td>\n",
       "      <td>0</td>\n",
       "      <td>1</td>\n",
       "    </tr>\n",
       "    <tr>\n",
       "      <th>3</th>\n",
       "      <td>47</td>\n",
       "      <td>3</td>\n",
       "      <td>1506</td>\n",
       "      <td>5</td>\n",
       "      <td>5</td>\n",
       "      <td>92</td>\n",
       "      <td>1</td>\n",
       "      <td>-1</td>\n",
       "      <td>0</td>\n",
       "      <td>0</td>\n",
       "      <td>...</td>\n",
       "      <td>1</td>\n",
       "      <td>1</td>\n",
       "      <td>0</td>\n",
       "      <td>0</td>\n",
       "      <td>0</td>\n",
       "      <td>1</td>\n",
       "      <td>0</td>\n",
       "      <td>0</td>\n",
       "      <td>0</td>\n",
       "      <td>1</td>\n",
       "    </tr>\n",
       "    <tr>\n",
       "      <th>4</th>\n",
       "      <td>33</td>\n",
       "      <td>3</td>\n",
       "      <td>1</td>\n",
       "      <td>5</td>\n",
       "      <td>5</td>\n",
       "      <td>198</td>\n",
       "      <td>1</td>\n",
       "      <td>-1</td>\n",
       "      <td>0</td>\n",
       "      <td>0</td>\n",
       "      <td>...</td>\n",
       "      <td>0</td>\n",
       "      <td>1</td>\n",
       "      <td>0</td>\n",
       "      <td>0</td>\n",
       "      <td>0</td>\n",
       "      <td>1</td>\n",
       "      <td>0</td>\n",
       "      <td>0</td>\n",
       "      <td>0</td>\n",
       "      <td>1</td>\n",
       "    </tr>\n",
       "  </tbody>\n",
       "</table>\n",
       "<p>5 rows × 38 columns</p>\n",
       "</div>"
      ]
     },
     "execution_count": 172,
     "metadata": {},
     "output_type": "execute_result"
    }
   ],
   "execution_count": 172
  },
  {
   "metadata": {
    "ExecuteTime": {
     "end_time": "2024-12-25T10:56:30.859636Z",
     "start_time": "2024-12-25T10:56:24.495553Z"
    }
   },
   "cell_type": "code",
   "source": [
    "from sklearn.ensemble import RandomForestClassifier\n",
    "import matplotlib.pyplot as plt\n",
    "import numpy as np\n",
    "\n",
    "x_train=df.drop(columns=['y'])\n",
    "y_train=df['y']\n",
    "\n",
    "# Train a Random Forest Classifier\n",
    "rf = RandomForestClassifier(n_estimators=100, random_state=42)\n",
    "rf.fit(x_train, y_train)\n",
    "\n",
    "\n",
    "feature_importances = rf.feature_importances_\n",
    "\n",
    "\n",
    "features = x_train.columns\n",
    "importance_df = pd.DataFrame({'Feature': features, 'Importance': feature_importances})\n",
    "\n",
    "# Sort features by importance\n",
    "importance_df = importance_df.sort_values(by='Importance', ascending=False)\n",
    "\n",
    "\n",
    "print(importance_df)\n",
    "\n",
    "# Visualize the feature importances\n",
    "plt.figure(figsize=(10, 6))\n",
    "plt.barh(importance_df['Feature'], importance_df['Importance'], color='skyblue')\n",
    "plt.xlabel(\"Feature Importance\")\n",
    "plt.ylabel(\"Features\")\n",
    "plt.title(\"Feature Importance (Random Forest)\")\n",
    "plt.gca().invert_yaxis()\n",
    "plt.show()\n"
   ],
   "outputs": [
    {
     "name": "stdout",
     "output_type": "stream",
     "text": [
      "              Feature  Importance\n",
      "5            duration    0.259052\n",
      "0                 age    0.109542\n",
      "2             balance    0.109233\n",
      "3                 day    0.102621\n",
      "4               month    0.083462\n",
      "35   poutcome_success    0.056830\n",
      "6            campaign    0.041629\n",
      "1           education    0.029177\n",
      "36   poutcome_unknown    0.020856\n",
      "27        housing_yes    0.013191\n",
      "26         housing_no    0.011742\n",
      "18     job_technician    0.011699\n",
      "13     job_management    0.011439\n",
      "22    marital_married    0.010877\n",
      "32    contact_unknown    0.010109\n",
      "30   contact_cellular    0.009955\n",
      "9           job_admin    0.009871\n",
      "23     marital_single    0.009623\n",
      "10    job_blue-collar    0.009280\n",
      "33   poutcome_failure    0.008640\n",
      "21   marital_divorced    0.007518\n",
      "16       job_services    0.007306\n",
      "29           loan_yes    0.006716\n",
      "28            loan_no    0.006594\n",
      "34     poutcome_other    0.005821\n",
      "14        job_retired    0.005452\n",
      "15  job_self-employed    0.005069\n",
      "19     job_unemployed    0.004955\n",
      "31  contact_telephone    0.004944\n",
      "17        job_student    0.004822\n",
      "11   job_entrepreneur    0.004117\n",
      "12      job_housemaid    0.003795\n",
      "25        default_yes    0.001373\n",
      "20        job_unknown    0.001361\n",
      "24         default_no    0.001328\n",
      "8            previous    0.000000\n",
      "7               pdays    0.000000\n"
     ]
    },
    {
     "data": {
      "text/plain": [
       "<Figure size 1000x600 with 1 Axes>"
      ],
      "image/png": "[encoded data removed]"
     },
     "metadata": {},
     "output_type": "display_data"
    }
   ],
   "execution_count": 173
  },
  {
   "metadata": {
    "ExecuteTime": {
     "end_time": "2024-12-25T10:56:31.641811Z",
     "start_time": "2024-12-25T10:56:31.614684Z"
    }
   },
   "cell_type": "code",
   "source": [
    "from sklearn.preprocessing import MinMaxScaler\n",
    "\n",
    "features_to_normalize = ['pdays','balance','duration']\n",
    "scaler = MinMaxScaler()\n",
    "df[features_to_normalize] = scaler.fit_transform(df[features_to_normalize])\n",
    "\n",
    "\n",
    "df.head()"
   ],
   "outputs": [
    {
     "data": {
      "text/plain": [
       "   age  education   balance  day  month  duration  campaign  pdays  previous  \\\n",
       "0   58          2  0.756822    5      5  0.405910         1    0.0         0   \n",
       "1   44          1  0.367072    5      5  0.234837         1    0.0         0   \n",
       "2   33          1  0.362094    5      5  0.118196         1    0.0         0   \n",
       "3   47          3  0.639381    5      5  0.143079         1    0.0         0   \n",
       "4   33          3  0.361910    5      5  0.307932         1    0.0         0   \n",
       "\n",
       "   y  ...  housing_yes  loan_no  loan_yes  contact_cellular  \\\n",
       "0  0  ...            1        1         0                 0   \n",
       "1  0  ...            1        1         0                 0   \n",
       "2  0  ...            1        0         1                 0   \n",
       "3  0  ...            1        1         0                 0   \n",
       "4  0  ...            0        1         0                 0   \n",
       "\n",
       "   contact_telephone  contact_unknown  poutcome_failure  poutcome_other  \\\n",
       "0                  0                1                 0               0   \n",
       "1                  0                1                 0               0   \n",
       "2                  0                1                 0               0   \n",
       "3                  0                1                 0               0   \n",
       "4                  0                1                 0               0   \n",
       "\n",
       "   poutcome_success  poutcome_unknown  \n",
       "0                 0                 1  \n",
       "1                 0                 1  \n",
       "2                 0                 1  \n",
       "3                 0                 1  \n",
       "4                 0                 1  \n",
       "\n",
       "[5 rows x 38 columns]"
      ],
      "text/html": [
       "<div>\n",
       "<style scoped>\n",
       "    .dataframe tbody tr th:only-of-type {\n",
       "        vertical-align: middle;\n",
       "    }\n",
       "\n",
       "    .dataframe tbody tr th {\n",
       "        vertical-align: top;\n",
       "    }\n",
       "\n",
       "    .dataframe thead th {\n",
       "        text-align: right;\n",
       "    }\n",
       "</style>\n",
       "<table border=\"1\" class=\"dataframe\">\n",
       "  <thead>\n",
       "    <tr style=\"text-align: right;\">\n",
       "      <th></th>\n",
       "      <th>age</th>\n",
       "      <th>education</th>\n",
       "      <th>balance</th>\n",
       "      <th>day</th>\n",
       "      <th>month</th>\n",
       "      <th>duration</th>\n",
       "      <th>campaign</th>\n",
       "      <th>pdays</th>\n",
       "      <th>previous</th>\n",
       "      <th>y</th>\n",
       "      <th>...</th>\n",
       "      <th>housing_yes</th>\n",
       "      <th>loan_no</th>\n",
       "      <th>loan_yes</th>\n",
       "      <th>contact_cellular</th>\n",
       "      <th>contact_telephone</th>\n",
       "      <th>contact_unknown</th>\n",
       "      <th>poutcome_failure</th>\n",
       "      <th>poutcome_other</th>\n",
       "      <th>poutcome_success</th>\n",
       "      <th>poutcome_unknown</th>\n",
       "    </tr>\n",
       "  </thead>\n",
       "  <tbody>\n",
       "    <tr>\n",
       "      <th>0</th>\n",
       "      <td>58</td>\n",
       "      <td>2</td>\n",
       "      <td>0.756822</td>\n",
       "      <td>5</td>\n",
       "      <td>5</td>\n",
       "      <td>0.405910</td>\n",
       "      <td>1</td>\n",
       "      <td>0.0</td>\n",
       "      <td>0</td>\n",
       "      <td>0</td>\n",
       "      <td>...</td>\n",
       "      <td>1</td>\n",
       "      <td>1</td>\n",
       "      <td>0</td>\n",
       "      <td>0</td>\n",
       "      <td>0</td>\n",
       "      <td>1</td>\n",
       "      <td>0</td>\n",
       "      <td>0</td>\n",
       "      <td>0</td>\n",
       "      <td>1</td>\n",
       "    </tr>\n",
       "    <tr>\n",
       "      <th>1</th>\n",
       "      <td>44</td>\n",
       "      <td>1</td>\n",
       "      <td>0.367072</td>\n",
       "      <td>5</td>\n",
       "      <td>5</td>\n",
       "      <td>0.234837</td>\n",
       "      <td>1</td>\n",
       "      <td>0.0</td>\n",
       "      <td>0</td>\n",
       "      <td>0</td>\n",
       "      <td>...</td>\n",
       "      <td>1</td>\n",
       "      <td>1</td>\n",
       "      <td>0</td>\n",
       "      <td>0</td>\n",
       "      <td>0</td>\n",
       "      <td>1</td>\n",
       "      <td>0</td>\n",
       "      <td>0</td>\n",
       "      <td>0</td>\n",
       "      <td>1</td>\n",
       "    </tr>\n",
       "    <tr>\n",
       "      <th>2</th>\n",
       "      <td>33</td>\n",
       "      <td>1</td>\n",
       "      <td>0.362094</td>\n",
       "      <td>5</td>\n",
       "      <td>5</td>\n",
       "      <td>0.118196</td>\n",
       "      <td>1</td>\n",
       "      <td>0.0</td>\n",
       "      <td>0</td>\n",
       "      <td>0</td>\n",
       "      <td>...</td>\n",
       "      <td>1</td>\n",
       "      <td>0</td>\n",
       "      <td>1</td>\n",
       "      <td>0</td>\n",
       "      <td>0</td>\n",
       "      <td>1</td>\n",
       "      <td>0</td>\n",
       "      <td>0</td>\n",
       "      <td>0</td>\n",
       "      <td>1</td>\n",
       "    </tr>\n",
       "    <tr>\n",
       "      <th>3</th>\n",
       "      <td>47</td>\n",
       "      <td>3</td>\n",
       "      <td>0.639381</td>\n",
       "      <td>5</td>\n",
       "      <td>5</td>\n",
       "      <td>0.143079</td>\n",
       "      <td>1</td>\n",
       "      <td>0.0</td>\n",
       "      <td>0</td>\n",
       "      <td>0</td>\n",
       "      <td>...</td>\n",
       "      <td>1</td>\n",
       "      <td>1</td>\n",
       "      <td>0</td>\n",
       "      <td>0</td>\n",
       "      <td>0</td>\n",
       "      <td>1</td>\n",
       "      <td>0</td>\n",
       "      <td>0</td>\n",
       "      <td>0</td>\n",
       "      <td>1</td>\n",
       "    </tr>\n",
       "    <tr>\n",
       "      <th>4</th>\n",
       "      <td>33</td>\n",
       "      <td>3</td>\n",
       "      <td>0.361910</td>\n",
       "      <td>5</td>\n",
       "      <td>5</td>\n",
       "      <td>0.307932</td>\n",
       "      <td>1</td>\n",
       "      <td>0.0</td>\n",
       "      <td>0</td>\n",
       "      <td>0</td>\n",
       "      <td>...</td>\n",
       "      <td>0</td>\n",
       "      <td>1</td>\n",
       "      <td>0</td>\n",
       "      <td>0</td>\n",
       "      <td>0</td>\n",
       "      <td>1</td>\n",
       "      <td>0</td>\n",
       "      <td>0</td>\n",
       "      <td>0</td>\n",
       "      <td>1</td>\n",
       "    </tr>\n",
       "  </tbody>\n",
       "</table>\n",
       "<p>5 rows × 38 columns</p>\n",
       "</div>"
      ]
     },
     "execution_count": 174,
     "metadata": {},
     "output_type": "execute_result"
    }
   ],
   "execution_count": 174
  },
  {
   "metadata": {
    "ExecuteTime": {
     "end_time": "2024-12-25T10:56:31.862347Z",
     "start_time": "2024-12-25T10:56:31.834895Z"
    }
   },
   "cell_type": "code",
   "source": [
    "from sklearn.preprocessing import StandardScaler\n",
    "\n",
    "scaling_features=['age', 'campaign', 'previous']\n",
    "standard_scaler = StandardScaler()\n",
    "\n",
    "df[scaling_features] = standard_scaler.fit_transform(df[scaling_features])\n",
    "df.head()"
   ],
   "outputs": [
    {
     "data": {
      "text/plain": [
       "        age  education   balance  day  month  duration  campaign  pdays  \\\n",
       "0  1.651055          2  0.756822    5      5  0.405910 -0.870092    0.0   \n",
       "1  0.302248          1  0.367072    5      5  0.234837 -0.870092    0.0   \n",
       "2 -0.757528          1  0.362094    5      5  0.118196 -0.870092    0.0   \n",
       "3  0.591279          3  0.639381    5      5  0.143079 -0.870092    0.0   \n",
       "4 -0.757528          3  0.361910    5      5  0.307932 -0.870092    0.0   \n",
       "\n",
       "   previous  y  ...  housing_yes  loan_no  loan_yes  contact_cellular  \\\n",
       "0       0.0  0  ...            1        1         0                 0   \n",
       "1       0.0  0  ...            1        1         0                 0   \n",
       "2       0.0  0  ...            1        0         1                 0   \n",
       "3       0.0  0  ...            1        1         0                 0   \n",
       "4       0.0  0  ...            0        1         0                 0   \n",
       "\n",
       "   contact_telephone  contact_unknown  poutcome_failure  poutcome_other  \\\n",
       "0                  0                1                 0               0   \n",
       "1                  0                1                 0               0   \n",
       "2                  0                1                 0               0   \n",
       "3                  0                1                 0               0   \n",
       "4                  0                1                 0               0   \n",
       "\n",
       "   poutcome_success  poutcome_unknown  \n",
       "0                 0                 1  \n",
       "1                 0                 1  \n",
       "2                 0                 1  \n",
       "3                 0                 1  \n",
       "4                 0                 1  \n",
       "\n",
       "[5 rows x 38 columns]"
      ],
      "text/html": [
       "<div>\n",
       "<style scoped>\n",
       "    .dataframe tbody tr th:only-of-type {\n",
       "        vertical-align: middle;\n",
       "    }\n",
       "\n",
       "    .dataframe tbody tr th {\n",
       "        vertical-align: top;\n",
       "    }\n",
       "\n",
       "    .dataframe thead th {\n",
       "        text-align: right;\n",
       "    }\n",
       "</style>\n",
       "<table border=\"1\" class=\"dataframe\">\n",
       "  <thead>\n",
       "    <tr style=\"text-align: right;\">\n",
       "      <th></th>\n",
       "      <th>age</th>\n",
       "      <th>education</th>\n",
       "      <th>balance</th>\n",
       "      <th>day</th>\n",
       "      <th>month</th>\n",
       "      <th>duration</th>\n",
       "      <th>campaign</th>\n",
       "      <th>pdays</th>\n",
       "      <th>previous</th>\n",
       "      <th>y</th>\n",
       "      <th>...</th>\n",
       "      <th>housing_yes</th>\n",
       "      <th>loan_no</th>\n",
       "      <th>loan_yes</th>\n",
       "      <th>contact_cellular</th>\n",
       "      <th>contact_telephone</th>\n",
       "      <th>contact_unknown</th>\n",
       "      <th>poutcome_failure</th>\n",
       "      <th>poutcome_other</th>\n",
       "      <th>poutcome_success</th>\n",
       "      <th>poutcome_unknown</th>\n",
       "    </tr>\n",
       "  </thead>\n",
       "  <tbody>\n",
       "    <tr>\n",
       "      <th>0</th>\n",
       "      <td>1.651055</td>\n",
       "      <td>2</td>\n",
       "      <td>0.756822</td>\n",
       "      <td>5</td>\n",
       "      <td>5</td>\n",
       "      <td>0.405910</td>\n",
       "      <td>-0.870092</td>\n",
       "      <td>0.0</td>\n",
       "      <td>0.0</td>\n",
       "      <td>0</td>\n",
       "      <td>...</td>\n",
       "      <td>1</td>\n",
       "      <td>1</td>\n",
       "      <td>0</td>\n",
       "      <td>0</td>\n",
       "      <td>0</td>\n",
       "      <td>1</td>\n",
       "      <td>0</td>\n",
       "      <td>0</td>\n",
       "      <td>0</td>\n",
       "      <td>1</td>\n",
       "    </tr>\n",
       "    <tr>\n",
       "      <th>1</th>\n",
       "      <td>0.302248</td>\n",
       "      <td>1</td>\n",
       "      <td>0.367072</td>\n",
       "      <td>5</td>\n",
       "      <td>5</td>\n",
       "      <td>0.234837</td>\n",
       "      <td>-0.870092</td>\n",
       "      <td>0.0</td>\n",
       "      <td>0.0</td>\n",
       "      <td>0</td>\n",
       "      <td>...</td>\n",
       "      <td>1</td>\n",
       "      <td>1</td>\n",
       "      <td>0</td>\n",
       "      <td>0</td>\n",
       "      <td>0</td>\n",
       "      <td>1</td>\n",
       "      <td>0</td>\n",
       "      <td>0</td>\n",
       "      <td>0</td>\n",
       "      <td>1</td>\n",
       "    </tr>\n",
       "    <tr>\n",
       "      <th>2</th>\n",
       "      <td>-0.757528</td>\n",
       "      <td>1</td>\n",
       "      <td>0.362094</td>\n",
       "      <td>5</td>\n",
       "      <td>5</td>\n",
       "      <td>0.118196</td>\n",
       "      <td>-0.870092</td>\n",
       "      <td>0.0</td>\n",
       "      <td>0.0</td>\n",
       "      <td>0</td>\n",
       "      <td>...</td>\n",
       "      <td>1</td>\n",
       "      <td>0</td>\n",
       "      <td>1</td>\n",
       "      <td>0</td>\n",
       "      <td>0</td>\n",
       "      <td>1</td>\n",
       "      <td>0</td>\n",
       "      <td>0</td>\n",
       "      <td>0</td>\n",
       "      <td>1</td>\n",
       "    </tr>\n",
       "    <tr>\n",
       "      <th>3</th>\n",
       "      <td>0.591279</td>\n",
       "      <td>3</td>\n",
       "      <td>0.639381</td>\n",
       "      <td>5</td>\n",
       "      <td>5</td>\n",
       "      <td>0.143079</td>\n",
       "      <td>-0.870092</td>\n",
       "      <td>0.0</td>\n",
       "      <td>0.0</td>\n",
       "      <td>0</td>\n",
       "      <td>...</td>\n",
       "      <td>1</td>\n",
       "      <td>1</td>\n",
       "      <td>0</td>\n",
       "      <td>0</td>\n",
       "      <td>0</td>\n",
       "      <td>1</td>\n",
       "      <td>0</td>\n",
       "      <td>0</td>\n",
       "      <td>0</td>\n",
       "      <td>1</td>\n",
       "    </tr>\n",
       "    <tr>\n",
       "      <th>4</th>\n",
       "      <td>-0.757528</td>\n",
       "      <td>3</td>\n",
       "      <td>0.361910</td>\n",
       "      <td>5</td>\n",
       "      <td>5</td>\n",
       "      <td>0.307932</td>\n",
       "      <td>-0.870092</td>\n",
       "      <td>0.0</td>\n",
       "      <td>0.0</td>\n",
       "      <td>0</td>\n",
       "      <td>...</td>\n",
       "      <td>0</td>\n",
       "      <td>1</td>\n",
       "      <td>0</td>\n",
       "      <td>0</td>\n",
       "      <td>0</td>\n",
       "      <td>1</td>\n",
       "      <td>0</td>\n",
       "      <td>0</td>\n",
       "      <td>0</td>\n",
       "      <td>1</td>\n",
       "    </tr>\n",
       "  </tbody>\n",
       "</table>\n",
       "<p>5 rows × 38 columns</p>\n",
       "</div>"
      ]
     },
     "execution_count": 175,
     "metadata": {},
     "output_type": "execute_result"
    }
   ],
   "execution_count": 175
  },
  {
   "metadata": {
    "ExecuteTime": {
     "end_time": "2024-12-25T10:56:32.156313Z",
     "start_time": "2024-12-25T10:56:32.064842Z"
    }
   },
   "cell_type": "code",
   "source": [
    "from sklearn.decomposition import PCA\n",
    "\n",
    "\n",
    "\n",
    "X=df.drop([\"y\",\"balance\",\"age\",\"day\",\"month\",\"campaign\",\"poutcome_success\",\"pdays\",\"education\",\"previous\",'duration'],axis=1)\n",
    "\n",
    "\n",
    "pca = PCA(0.95)\n",
    "X_pca = pca.fit_transform(X)\n",
    "explained_variance = pca.explained_variance_ratio_\n",
    "print(\"Explained Variance Ratio:\",explained_variance)\n",
    "pca_columns = X_pca[:, :8]\n",
    "pca_data = np.concatenate([pca_columns], axis=1)\n",
    "pca_df = pd.DataFrame(pca_data, columns=['PCA1','PCA2','PCA3','PCA4','PCA5','PCA6','PCA7','PCA8'])\n",
    "pca_df.head()\n",
    "new_df=pd.concat([df.iloc[:,0:10], pca_df],axis=1)\n",
    "new_df.head()\n",
    "\n"
   ],
   "outputs": [
    {
     "name": "stdout",
     "output_type": "stream",
     "text": [
      "Explained Variance Ratio: [0.18981477 0.13831587 0.13047211 0.09053255 0.06708059 0.06078986\n",
      " 0.05897695 0.05010306 0.04417418 0.03361862 0.02930404 0.01896055\n",
      " 0.01884189 0.01404131 0.01182015]\n"
     ]
    },
    {
     "data": {
      "text/plain": [
       "        age  education   balance  day  month  duration  campaign  pdays  \\\n",
       "0  1.651055          2  0.756822    5      5  0.405910 -0.870092    0.0   \n",
       "1  0.302248          1  0.367072    5      5  0.234837 -0.870092    0.0   \n",
       "2 -0.757528          1  0.362094    5      5  0.118196 -0.870092    0.0   \n",
       "3  0.591279          3  0.639381    5      5  0.143079 -0.870092    0.0   \n",
       "4 -0.757528          3  0.361910    5      5  0.307932 -0.870092    0.0   \n",
       "\n",
       "   previous  y      PCA1      PCA2      PCA3      PCA4      PCA5      PCA6  \\\n",
       "0       0.0  0 -0.977435  0.490974 -0.169525 -0.370608  0.931344 -0.254142   \n",
       "1       0.0  0 -0.846006 -0.540116 -1.107939 -0.091377 -0.069491  0.645389   \n",
       "2       0.0  0 -1.143216  0.589516 -0.002114  1.109814  0.251700 -0.020617   \n",
       "3       0.0  0 -1.247110  0.619359 -0.125332 -0.306701 -0.382120 -0.258093   \n",
       "4       0.0  0  0.268562  0.149515 -1.509453 -0.077746 -0.175880 -0.182524   \n",
       "\n",
       "       PCA7      PCA8  \n",
       "0 -0.108786 -0.208366  \n",
       "1 -0.299522 -0.469378  \n",
       "2 -0.261821 -0.172624  \n",
       "3  0.275624 -0.034303  \n",
       "4 -0.176405 -0.256351  "
      ],
      "text/html": [
       "<div>\n",
       "<style scoped>\n",
       "    .dataframe tbody tr th:only-of-type {\n",
       "        vertical-align: middle;\n",
       "    }\n",
       "\n",
       "    .dataframe tbody tr th {\n",
       "        vertical-align: top;\n",
       "    }\n",
       "\n",
       "    .dataframe thead th {\n",
       "        text-align: right;\n",
       "    }\n",
       "</style>\n",
       "<table border=\"1\" class=\"dataframe\">\n",
       "  <thead>\n",
       "    <tr style=\"text-align: right;\">\n",
       "      <th></th>\n",
       "      <th>age</th>\n",
       "      <th>education</th>\n",
       "      <th>balance</th>\n",
       "      <th>day</th>\n",
       "      <th>month</th>\n",
       "      <th>duration</th>\n",
       "      <th>campaign</th>\n",
       "      <th>pdays</th>\n",
       "      <th>previous</th>\n",
       "      <th>y</th>\n",
       "      <th>PCA1</th>\n",
       "      <th>PCA2</th>\n",
       "      <th>PCA3</th>\n",
       "      <th>PCA4</th>\n",
       "      <th>PCA5</th>\n",
       "      <th>PCA6</th>\n",
       "      <th>PCA7</th>\n",
       "      <th>PCA8</th>\n",
       "    </tr>\n",
       "  </thead>\n",
       "  <tbody>\n",
       "    <tr>\n",
       "      <th>0</th>\n",
       "      <td>1.651055</td>\n",
       "      <td>2</td>\n",
       "      <td>0.756822</td>\n",
       "      <td>5</td>\n",
       "      <td>5</td>\n",
       "      <td>0.405910</td>\n",
       "      <td>-0.870092</td>\n",
       "      <td>0.0</td>\n",
       "      <td>0.0</td>\n",
       "      <td>0</td>\n",
       "      <td>-0.977435</td>\n",
       "      <td>0.490974</td>\n",
       "      <td>-0.169525</td>\n",
       "      <td>-0.370608</td>\n",
       "      <td>0.931344</td>\n",
       "      <td>-0.254142</td>\n",
       "      <td>-0.108786</td>\n",
       "      <td>-0.208366</td>\n",
       "    </tr>\n",
       "    <tr>\n",
       "      <th>1</th>\n",
       "      <td>0.302248</td>\n",
       "      <td>1</td>\n",
       "      <td>0.367072</td>\n",
       "      <td>5</td>\n",
       "      <td>5</td>\n",
       "      <td>0.234837</td>\n",
       "      <td>-0.870092</td>\n",
       "      <td>0.0</td>\n",
       "      <td>0.0</td>\n",
       "      <td>0</td>\n",
       "      <td>-0.846006</td>\n",
       "      <td>-0.540116</td>\n",
       "      <td>-1.107939</td>\n",
       "      <td>-0.091377</td>\n",
       "      <td>-0.069491</td>\n",
       "      <td>0.645389</td>\n",
       "      <td>-0.299522</td>\n",
       "      <td>-0.469378</td>\n",
       "    </tr>\n",
       "    <tr>\n",
       "      <th>2</th>\n",
       "      <td>-0.757528</td>\n",
       "      <td>1</td>\n",
       "      <td>0.362094</td>\n",
       "      <td>5</td>\n",
       "      <td>5</td>\n",
       "      <td>0.118196</td>\n",
       "      <td>-0.870092</td>\n",
       "      <td>0.0</td>\n",
       "      <td>0.0</td>\n",
       "      <td>0</td>\n",
       "      <td>-1.143216</td>\n",
       "      <td>0.589516</td>\n",
       "      <td>-0.002114</td>\n",
       "      <td>1.109814</td>\n",
       "      <td>0.251700</td>\n",
       "      <td>-0.020617</td>\n",
       "      <td>-0.261821</td>\n",
       "      <td>-0.172624</td>\n",
       "    </tr>\n",
       "    <tr>\n",
       "      <th>3</th>\n",
       "      <td>0.591279</td>\n",
       "      <td>3</td>\n",
       "      <td>0.639381</td>\n",
       "      <td>5</td>\n",
       "      <td>5</td>\n",
       "      <td>0.143079</td>\n",
       "      <td>-0.870092</td>\n",
       "      <td>0.0</td>\n",
       "      <td>0.0</td>\n",
       "      <td>0</td>\n",
       "      <td>-1.247110</td>\n",
       "      <td>0.619359</td>\n",
       "      <td>-0.125332</td>\n",
       "      <td>-0.306701</td>\n",
       "      <td>-0.382120</td>\n",
       "      <td>-0.258093</td>\n",
       "      <td>0.275624</td>\n",
       "      <td>-0.034303</td>\n",
       "    </tr>\n",
       "    <tr>\n",
       "      <th>4</th>\n",
       "      <td>-0.757528</td>\n",
       "      <td>3</td>\n",
       "      <td>0.361910</td>\n",
       "      <td>5</td>\n",
       "      <td>5</td>\n",
       "      <td>0.307932</td>\n",
       "      <td>-0.870092</td>\n",
       "      <td>0.0</td>\n",
       "      <td>0.0</td>\n",
       "      <td>0</td>\n",
       "      <td>0.268562</td>\n",
       "      <td>0.149515</td>\n",
       "      <td>-1.509453</td>\n",
       "      <td>-0.077746</td>\n",
       "      <td>-0.175880</td>\n",
       "      <td>-0.182524</td>\n",
       "      <td>-0.176405</td>\n",
       "      <td>-0.256351</td>\n",
       "    </tr>\n",
       "  </tbody>\n",
       "</table>\n",
       "</div>"
      ]
     },
     "execution_count": 176,
     "metadata": {},
     "output_type": "execute_result"
    }
   ],
   "execution_count": 176
  },
  {
   "metadata": {
    "ExecuteTime": {
     "end_time": "2024-12-25T10:56:32.565295Z",
     "start_time": "2024-12-25T10:56:32.547331Z"
    }
   },
   "cell_type": "code",
   "source": "new_df.isnull().sum()",
   "outputs": [
    {
     "data": {
      "text/plain": [
       "age          0\n",
       "education    0\n",
       "balance      0\n",
       "day          0\n",
       "month        0\n",
       "duration     0\n",
       "campaign     0\n",
       "pdays        0\n",
       "previous     0\n",
       "y            0\n",
       "PCA1         0\n",
       "PCA2         0\n",
       "PCA3         0\n",
       "PCA4         0\n",
       "PCA5         0\n",
       "PCA6         0\n",
       "PCA7         0\n",
       "PCA8         0\n",
       "dtype: int64"
      ]
     },
     "execution_count": 177,
     "metadata": {},
     "output_type": "execute_result"
    }
   ],
   "execution_count": 177
  },
  {
   "metadata": {
    "ExecuteTime": {
     "end_time": "2024-12-25T10:56:33.910068Z",
     "start_time": "2024-12-25T10:56:33.138618Z"
    }
   },
   "cell_type": "code",
   "source": "df.to_csv(\"final.csv\")",
   "outputs": [],
   "execution_count": 178
  },
  {
   "metadata": {
    "ExecuteTime": {
     "end_time": "2024-12-25T10:56:34.866130Z",
     "start_time": "2024-12-25T10:56:33.955584Z"
    }
   },
   "cell_type": "code",
   "source": "new_df.to_csv('finalPCA.csv')",
   "outputs": [],
   "execution_count": 179
  }
 ],
 "metadata": {
  "colab": {
   "authorship_tag": "ABX9TyMlBilPl4+HkwnYd3Ortty8",
   "provenance": []
  },
  "kernelspec": {
   "display_name": "Python 3 (ipykernel)",
   "name": "python3",
   "language": "python"
  },
  "language_info": {
   "codemirror_mode": {
    "name": "ipython",
    "version": 3
   },
   "file_extension": ".py",
   "mimetype": "text/x-python",
   "name": "python",
   "nbconvert_exporter": "python",
   "pygments_lexer": "ipython3",
   "version": "3.11.4"
  }
 },
 "nbformat": 4,
 "nbformat_minor": 0
}
