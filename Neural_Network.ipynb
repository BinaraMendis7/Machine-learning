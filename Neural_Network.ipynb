{
 "cells": [
  {
   "cell_type": "code",
   "id": "initial_id",
   "metadata": {
    "collapsed": true,
    "ExecuteTime": {
     "end_time": "2024-12-30T18:51:46.247700Z",
     "start_time": "2024-12-30T18:51:45.942677Z"
    }
   },
   "source": [
    "from sklearn.model_selection import train_test_split\n",
    "import pandas as pd\n",
    "from tensorflow.python.layers.core import Dense, Dropout\n",
    "\n",
    "\n",
    "df=pd.read_csv('finalPCA.csv')\n",
    "\n",
    "X=df.drop(['y'],axis=1)\n",
    "y=df['y']\n",
    "\n",
    "\n",
    "\n",
    "x_train,x_test,y_train,y_test=train_test_split(X,y,test_size=0.2,random_state=42)\n",
    "print(\"x_train.shape:\" ,x_train.shape)\n",
    "print(\"y_train.shape:\" ,y_train.shape)\n",
    "print(\"x_test.shape:\" ,x_test.shape)\n",
    "print(\"y_test.shape:\" ,y_test.shape)"
   ],
   "outputs": [
    {
     "name": "stdout",
     "output_type": "stream",
     "text": [
      "x_train.shape: (36168, 18)\n",
      "y_train.shape: (36168,)\n",
      "x_test.shape: (9043, 18)\n",
      "y_test.shape: (9043,)\n"
     ]
    }
   ],
   "execution_count": 49
  },
  {
   "metadata": {
    "ExecuteTime": {
     "end_time": "2024-12-30T18:51:46.286656Z",
     "start_time": "2024-12-30T18:51:46.250205Z"
    }
   },
   "cell_type": "code",
   "source": "df.head()",
   "id": "ef3ce1030b20b7fc",
   "outputs": [
    {
     "data": {
      "text/plain": [
       "   Unnamed: 0       age  education   balance  day  month  duration  campaign  \\\n",
       "0           0  1.651055          2  1.027653    5      5  0.147445 -0.870092   \n",
       "1           1  0.302248          1 -0.768817    5      5 -0.474910 -0.870092   \n",
       "2           2 -0.757528          1 -0.791761    5      5 -0.899243 -0.870092   \n",
       "3           3  0.591279          3  0.486333    5      5 -0.808718 -0.870092   \n",
       "4           4 -0.757528          3 -0.792611    5      5 -0.208994 -0.870092   \n",
       "\n",
       "   pdays  previous  y      PCA1      PCA2      PCA3      PCA4      PCA5  \\\n",
       "0    0.0       0.0  0 -0.977435  0.490974 -0.169525 -0.370608  0.931344   \n",
       "1    0.0       0.0  0 -0.846006 -0.540116 -1.107939 -0.091377 -0.069491   \n",
       "2    0.0       0.0  0 -1.143216  0.589516 -0.002114  1.109814  0.251700   \n",
       "3    0.0       0.0  0 -1.247110  0.619359 -0.125332 -0.306701 -0.382120   \n",
       "4    0.0       0.0  0  0.268562  0.149515 -1.509453 -0.077746 -0.175880   \n",
       "\n",
       "       PCA6      PCA7      PCA8  \n",
       "0 -0.254142 -0.108786 -0.208366  \n",
       "1  0.645389 -0.299522 -0.469378  \n",
       "2 -0.020617 -0.261821 -0.172624  \n",
       "3 -0.258093  0.275624 -0.034303  \n",
       "4 -0.182524 -0.176405 -0.256351  "
      ],
      "text/html": [
       "<div>\n",
       "<style scoped>\n",
       "    .dataframe tbody tr th:only-of-type {\n",
       "        vertical-align: middle;\n",
       "    }\n",
       "\n",
       "    .dataframe tbody tr th {\n",
       "        vertical-align: top;\n",
       "    }\n",
       "\n",
       "    .dataframe thead th {\n",
       "        text-align: right;\n",
       "    }\n",
       "</style>\n",
       "<table border=\"1\" class=\"dataframe\">\n",
       "  <thead>\n",
       "    <tr style=\"text-align: right;\">\n",
       "      <th></th>\n",
       "      <th>Unnamed: 0</th>\n",
       "      <th>age</th>\n",
       "      <th>education</th>\n",
       "      <th>balance</th>\n",
       "      <th>day</th>\n",
       "      <th>month</th>\n",
       "      <th>duration</th>\n",
       "      <th>campaign</th>\n",
       "      <th>pdays</th>\n",
       "      <th>previous</th>\n",
       "      <th>y</th>\n",
       "      <th>PCA1</th>\n",
       "      <th>PCA2</th>\n",
       "      <th>PCA3</th>\n",
       "      <th>PCA4</th>\n",
       "      <th>PCA5</th>\n",
       "      <th>PCA6</th>\n",
       "      <th>PCA7</th>\n",
       "      <th>PCA8</th>\n",
       "    </tr>\n",
       "  </thead>\n",
       "  <tbody>\n",
       "    <tr>\n",
       "      <th>0</th>\n",
       "      <td>0</td>\n",
       "      <td>1.651055</td>\n",
       "      <td>2</td>\n",
       "      <td>1.027653</td>\n",
       "      <td>5</td>\n",
       "      <td>5</td>\n",
       "      <td>0.147445</td>\n",
       "      <td>-0.870092</td>\n",
       "      <td>0.0</td>\n",
       "      <td>0.0</td>\n",
       "      <td>0</td>\n",
       "      <td>-0.977435</td>\n",
       "      <td>0.490974</td>\n",
       "      <td>-0.169525</td>\n",
       "      <td>-0.370608</td>\n",
       "      <td>0.931344</td>\n",
       "      <td>-0.254142</td>\n",
       "      <td>-0.108786</td>\n",
       "      <td>-0.208366</td>\n",
       "    </tr>\n",
       "    <tr>\n",
       "      <th>1</th>\n",
       "      <td>1</td>\n",
       "      <td>0.302248</td>\n",
       "      <td>1</td>\n",
       "      <td>-0.768817</td>\n",
       "      <td>5</td>\n",
       "      <td>5</td>\n",
       "      <td>-0.474910</td>\n",
       "      <td>-0.870092</td>\n",
       "      <td>0.0</td>\n",
       "      <td>0.0</td>\n",
       "      <td>0</td>\n",
       "      <td>-0.846006</td>\n",
       "      <td>-0.540116</td>\n",
       "      <td>-1.107939</td>\n",
       "      <td>-0.091377</td>\n",
       "      <td>-0.069491</td>\n",
       "      <td>0.645389</td>\n",
       "      <td>-0.299522</td>\n",
       "      <td>-0.469378</td>\n",
       "    </tr>\n",
       "    <tr>\n",
       "      <th>2</th>\n",
       "      <td>2</td>\n",
       "      <td>-0.757528</td>\n",
       "      <td>1</td>\n",
       "      <td>-0.791761</td>\n",
       "      <td>5</td>\n",
       "      <td>5</td>\n",
       "      <td>-0.899243</td>\n",
       "      <td>-0.870092</td>\n",
       "      <td>0.0</td>\n",
       "      <td>0.0</td>\n",
       "      <td>0</td>\n",
       "      <td>-1.143216</td>\n",
       "      <td>0.589516</td>\n",
       "      <td>-0.002114</td>\n",
       "      <td>1.109814</td>\n",
       "      <td>0.251700</td>\n",
       "      <td>-0.020617</td>\n",
       "      <td>-0.261821</td>\n",
       "      <td>-0.172624</td>\n",
       "    </tr>\n",
       "    <tr>\n",
       "      <th>3</th>\n",
       "      <td>3</td>\n",
       "      <td>0.591279</td>\n",
       "      <td>3</td>\n",
       "      <td>0.486333</td>\n",
       "      <td>5</td>\n",
       "      <td>5</td>\n",
       "      <td>-0.808718</td>\n",
       "      <td>-0.870092</td>\n",
       "      <td>0.0</td>\n",
       "      <td>0.0</td>\n",
       "      <td>0</td>\n",
       "      <td>-1.247110</td>\n",
       "      <td>0.619359</td>\n",
       "      <td>-0.125332</td>\n",
       "      <td>-0.306701</td>\n",
       "      <td>-0.382120</td>\n",
       "      <td>-0.258093</td>\n",
       "      <td>0.275624</td>\n",
       "      <td>-0.034303</td>\n",
       "    </tr>\n",
       "    <tr>\n",
       "      <th>4</th>\n",
       "      <td>4</td>\n",
       "      <td>-0.757528</td>\n",
       "      <td>3</td>\n",
       "      <td>-0.792611</td>\n",
       "      <td>5</td>\n",
       "      <td>5</td>\n",
       "      <td>-0.208994</td>\n",
       "      <td>-0.870092</td>\n",
       "      <td>0.0</td>\n",
       "      <td>0.0</td>\n",
       "      <td>0</td>\n",
       "      <td>0.268562</td>\n",
       "      <td>0.149515</td>\n",
       "      <td>-1.509453</td>\n",
       "      <td>-0.077746</td>\n",
       "      <td>-0.175880</td>\n",
       "      <td>-0.182524</td>\n",
       "      <td>-0.176405</td>\n",
       "      <td>-0.256351</td>\n",
       "    </tr>\n",
       "  </tbody>\n",
       "</table>\n",
       "</div>"
      ]
     },
     "execution_count": 50,
     "metadata": {},
     "output_type": "execute_result"
    }
   ],
   "execution_count": 50
  },
  {
   "metadata": {
    "ExecuteTime": {
     "end_time": "2024-12-30T18:55:12.427124Z",
     "start_time": "2024-12-30T18:54:11.087319Z"
    }
   },
   "cell_type": "code",
   "source": [
    "from tensorflow.keras.models import Sequential\n",
    "from tensorflow.keras.layers import Dense,Dropout\n",
    "from sklearn.model_selection import train_test_split\n",
    "from sklearn.preprocessing import StandardScaler\n",
    "from imblearn.combine import SMOTETomek\n",
    "\n",
    "\n",
    "\n",
    "X_train, X_test, y_train, y_test = train_test_split(X, y, test_size=0.2, random_state=42)\n",
    "\n",
    "model = Sequential([\n",
    "    Dense(18, input_dim=X_train.shape[1], activation='relu'),\n",
    "    Dense(32, activation='relu'),\n",
    "    Dense(64, activation='relu'),\n",
    "    Dropout(0.2),\n",
    "    Dense(1, activation='sigmoid')\n",
    "])\n",
    "\n",
    "model.compile(optimizer='adam', loss='binary_crossentropy', metrics=['accuracy'])\n",
    "\n",
    "\n",
    "smote_tomek = SMOTETomek(random_state=42)\n",
    "\n",
    "X_resampled, y_resampled = smote_tomek.fit_resample(x_train, y_train)\n",
    "scaler = StandardScaler()\n",
    "X_train_scaled = scaler.fit_transform(X_resampled)\n",
    "X_test_scaled = scaler.transform(X_test)\n",
    "history = model.fit(X_train_scaled, y_resampled, validation_data=(X_test_scaled, y_test), epochs=10, batch_size=32)\n",
    "\n",
    "\n",
    "loss, accuracy = model.evaluate(X_test, y_test)\n",
    "print(f'Test Accuracy: {accuracy:.2f}')\n"
   ],
   "id": "bc5a04499abf482d",
   "outputs": [
    {
     "name": "stderr",
     "output_type": "stream",
     "text": [
      "C:\\Users\\binar\\AppData\\Local\\Programs\\Python\\Python311\\Lib\\site-packages\\keras\\src\\layers\\core\\dense.py:87: UserWarning: Do not pass an `input_shape`/`input_dim` argument to a layer. When using Sequential models, prefer using an `Input(shape)` object as the first layer in the model instead.\n",
      "  super().__init__(activity_regularizer=activity_regularizer, **kwargs)\n"
     ]
    },
    {
     "name": "stdout",
     "output_type": "stream",
     "text": [
      "Epoch 1/10\n",
      "\u001B[1m1937/1937\u001B[0m \u001B[32m━━━━━━━━━━━━━━━━━━━━\u001B[0m\u001B[37m\u001B[0m \u001B[1m7s\u001B[0m 3ms/step - accuracy: 0.8332 - loss: 0.3742 - val_accuracy: 0.8466 - val_loss: 0.3296\n",
      "Epoch 2/10\n",
      "\u001B[1m1937/1937\u001B[0m \u001B[32m━━━━━━━━━━━━━━━━━━━━\u001B[0m\u001B[37m\u001B[0m \u001B[1m5s\u001B[0m 3ms/step - accuracy: 0.8961 - loss: 0.2604 - val_accuracy: 0.8556 - val_loss: 0.3070\n",
      "Epoch 3/10\n",
      "\u001B[1m1937/1937\u001B[0m \u001B[32m━━━━━━━━━━━━━━━━━━━━\u001B[0m\u001B[37m\u001B[0m \u001B[1m5s\u001B[0m 3ms/step - accuracy: 0.9042 - loss: 0.2382 - val_accuracy: 0.8562 - val_loss: 0.3266\n",
      "Epoch 4/10\n",
      "\u001B[1m1937/1937\u001B[0m \u001B[32m━━━━━━━━━━━━━━━━━━━━\u001B[0m\u001B[37m\u001B[0m \u001B[1m6s\u001B[0m 3ms/step - accuracy: 0.9082 - loss: 0.2255 - val_accuracy: 0.8766 - val_loss: 0.2657\n",
      "Epoch 5/10\n",
      "\u001B[1m1937/1937\u001B[0m \u001B[32m━━━━━━━━━━━━━━━━━━━━\u001B[0m\u001B[37m\u001B[0m \u001B[1m5s\u001B[0m 3ms/step - accuracy: 0.9125 - loss: 0.2144 - val_accuracy: 0.8780 - val_loss: 0.2612\n",
      "Epoch 6/10\n",
      "\u001B[1m1937/1937\u001B[0m \u001B[32m━━━━━━━━━━━━━━━━━━━━\u001B[0m\u001B[37m\u001B[0m \u001B[1m5s\u001B[0m 3ms/step - accuracy: 0.9147 - loss: 0.2060 - val_accuracy: 0.8506 - val_loss: 0.3260\n",
      "Epoch 7/10\n",
      "\u001B[1m1937/1937\u001B[0m \u001B[32m━━━━━━━━━━━━━━━━━━━━\u001B[0m\u001B[37m\u001B[0m \u001B[1m6s\u001B[0m 3ms/step - accuracy: 0.9163 - loss: 0.2013 - val_accuracy: 0.8715 - val_loss: 0.2705\n",
      "Epoch 8/10\n",
      "\u001B[1m1937/1937\u001B[0m \u001B[32m━━━━━━━━━━━━━━━━━━━━\u001B[0m\u001B[37m\u001B[0m \u001B[1m5s\u001B[0m 3ms/step - accuracy: 0.9194 - loss: 0.1968 - val_accuracy: 0.8677 - val_loss: 0.2770\n",
      "Epoch 9/10\n",
      "\u001B[1m1937/1937\u001B[0m \u001B[32m━━━━━━━━━━━━━━━━━━━━\u001B[0m\u001B[37m\u001B[0m \u001B[1m6s\u001B[0m 3ms/step - accuracy: 0.9180 - loss: 0.1952 - val_accuracy: 0.8705 - val_loss: 0.2803\n",
      "Epoch 10/10\n",
      "\u001B[1m1937/1937\u001B[0m \u001B[32m━━━━━━━━━━━━━━━━━━━━\u001B[0m\u001B[37m\u001B[0m \u001B[1m6s\u001B[0m 3ms/step - accuracy: 0.9223 - loss: 0.1900 - val_accuracy: 0.8697 - val_loss: 0.2728\n",
      "\u001B[1m283/283\u001B[0m \u001B[32m━━━━━━━━━━━━━━━━━━━━\u001B[0m\u001B[37m\u001B[0m \u001B[1m1s\u001B[0m 2ms/step - accuracy: 0.8763 - loss: 3164.1812\n",
      "Test Accuracy: 0.88\n"
     ]
    }
   ],
   "execution_count": 57
  },
  {
   "metadata": {
    "ExecuteTime": {
     "end_time": "2024-12-30T18:55:17.609185Z",
     "start_time": "2024-12-30T18:55:16.910311Z"
    }
   },
   "cell_type": "code",
   "source": [
    "from sklearn.metrics import classification_report\n",
    "print(classification_report(y_test, model.predict(X_test_scaled).round()))"
   ],
   "id": "3cea5ddf6b2d7883",
   "outputs": [
    {
     "name": "stdout",
     "output_type": "stream",
     "text": [
      "\u001B[1m283/283\u001B[0m \u001B[32m━━━━━━━━━━━━━━━━━━━━\u001B[0m\u001B[37m\u001B[0m \u001B[1m1s\u001B[0m 2ms/step\n",
      "              precision    recall  f1-score   support\n",
      "\n",
      "           0       0.97      0.88      0.92      7952\n",
      "           1       0.48      0.79      0.59      1091\n",
      "\n",
      "    accuracy                           0.87      9043\n",
      "   macro avg       0.72      0.83      0.76      9043\n",
      "weighted avg       0.91      0.87      0.88      9043\n",
      "\n"
     ]
    }
   ],
   "execution_count": 58
  },
  {
   "metadata": {
    "ExecuteTime": {
     "end_time": "2024-12-30T18:55:22.191160Z",
     "start_time": "2024-12-30T18:55:22.027582Z"
    }
   },
   "cell_type": "code",
   "source": [
    "import matplotlib.pyplot as plt\n",
    "plt.figure(figsize=(10,5))\n",
    "plt.plot(history.history['loss'], label='loss', marker='o')\n",
    "plt.plot(history.history['val_loss'], label='val_loss',marker='o')\n",
    "plt.xlabel('epoch')\n",
    "plt.ylabel('loss')\n",
    "plt.title(\"loss graphs\")\n",
    "plt.legend()\n",
    "plt.grid(True)\n",
    "plt.show()"
   ],
   "id": "b9cdf2cded068ee3",
   "outputs": [
    {
     "data": {
      "text/plain": [
       "<Figure size 1000x500 with 1 Axes>"
      ],
      "image/png": "[encoded data removed]"
     },
     "metadata": {},
     "output_type": "display_data"
    }
   ],
   "execution_count": 59
  },
  {
   "metadata": {
    "ExecuteTime": {
     "end_time": "2024-12-30T18:52:51.786407Z",
     "start_time": "2024-12-30T18:52:51.746145Z"
    }
   },
   "cell_type": "code",
   "source": [
    "from tensorflow.keras.models import Sequential\n",
    "from tensorflow.keras.layers import Dense\n",
    "from sklearn.model_selection import train_test_split\n",
    "model = Sequential([\n",
    "    Dense(18, input_dim=x_train.shape[1], activation='relu'),\n",
    "    Dense(32, activation='relu'),\n",
    "    Dense(1, activation='sigmoid')  # Sigmoid for binary classification\n",
    "])"
   ],
   "id": "f63515b11dbc9d18",
   "outputs": [
    {
     "name": "stderr",
     "output_type": "stream",
     "text": [
      "C:\\Users\\binar\\AppData\\Local\\Programs\\Python\\Python311\\Lib\\site-packages\\keras\\src\\layers\\core\\dense.py:87: UserWarning: Do not pass an `input_shape`/`input_dim` argument to a layer. When using Sequential models, prefer using an `Input(shape)` object as the first layer in the model instead.\n",
      "  super().__init__(activity_regularizer=activity_regularizer, **kwargs)\n"
     ]
    }
   ],
   "execution_count": 54
  },
  {
   "metadata": {
    "ExecuteTime": {
     "end_time": "2024-12-30T18:52:51.856675Z",
     "start_time": "2024-12-30T18:52:51.843940Z"
    }
   },
   "cell_type": "code",
   "source": [
    "model.compile(\n",
    "    optimizer='adam',\n",
    "    loss='binary_crossentropy',\n",
    "    metrics=['accuracy']\n",
    ")\n"
   ],
   "id": "c6ee992f1c8b2bc0",
   "outputs": [],
   "execution_count": 55
  }
 ],
 "metadata": {
  "kernelspec": {
   "display_name": "Python 3",
   "language": "python",
   "name": "python3"
  },
  "language_info": {
   "codemirror_mode": {
    "name": "ipython",
    "version": 2
   },
   "file_extension": ".py",
   "mimetype": "text/x-python",
   "name": "python",
   "nbconvert_exporter": "python",
   "pygments_lexer": "ipython2",
   "version": "2.7.6"
  }
 },
 "nbformat": 4,
 "nbformat_minor": 5
}
