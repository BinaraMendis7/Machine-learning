{
 "cells": [
  {
   "cell_type": "code",
   "id": "initial_id",
   "metadata": {
    "collapsed": true,
    "ExecuteTime": {
     "end_time": "2024-12-31T16:46:37.778723Z",
     "start_time": "2024-12-31T16:46:37.632588Z"
    }
   },
   "source": [
    "from sklearn.model_selection import train_test_split\n",
    "import pandas as pd\n",
    "\n",
    "\n",
    "\n",
    "df=pd.read_csv('finalPCA.csv')\n",
    "\n",
    "X=df.drop(['y'],axis=1)\n",
    "y=df['y']\n",
    "\n",
    "\n",
    "\n",
    "x_train,x_test,y_train,y_test=train_test_split(X,y,test_size=0.2,random_state=42)\n",
    "print(\"x_train.shape:\" ,x_train.shape)\n",
    "print(\"y_train.shape:\" ,y_train.shape)\n",
    "print(\"x_test.shape:\" ,x_test.shape)\n",
    "print(\"y_test.shape:\" ,y_test.shape)"
   ],
   "outputs": [
    {
     "name": "stdout",
     "output_type": "stream",
     "text": [
      "x_train.shape: (36168, 18)\n",
      "y_train.shape: (36168,)\n",
      "x_test.shape: (9043, 18)\n",
      "y_test.shape: (9043,)\n"
     ]
    }
   ],
   "execution_count": 51
  },
  {
   "metadata": {
    "ExecuteTime": {
     "end_time": "2024-12-31T16:52:04.899544Z",
     "start_time": "2024-12-31T16:46:45.717169Z"
    }
   },
   "cell_type": "code",
   "source": [
    "from tensorflow.keras.models import Sequential\n",
    "from tensorflow.keras.layers import Dense,Dropout,Flatten,Input\n",
    "from sklearn.model_selection import train_test_split\n",
    "from sklearn.preprocessing import StandardScaler\n",
    "from imblearn.combine import SMOTETomek\n",
    "\n",
    "\n",
    "\n",
    "\n",
    "X_train, X_test, y_train, y_test = train_test_split(X, y, test_size=0.2, random_state=42)\n",
    "\n",
    "model = Sequential([\n",
    "    Input(shape=(18,)),\n",
    "    Flatten(),\n",
    "    Dense(32, activation='relu'),\n",
    "    Dropout(0.4),\n",
    "    Dense(16, activation='relu'),\n",
    "    Dropout(0.4),\n",
    "    Dense(1, activation='sigmoid')\n",
    "])\n",
    "\n",
    "model.compile(optimizer='adam', loss='binary_crossentropy', metrics=['accuracy'])\n",
    "\n",
    "\n",
    "smote_tomek = SMOTETomek(random_state=42)\n",
    "\n",
    "X_resampled, y_resampled = smote_tomek.fit_resample(x_train, y_train)\n",
    "scaler = StandardScaler()\n",
    "X_train_scaled = scaler.fit_transform(X_resampled)\n",
    "X_test_scaled = scaler.transform(X_test)\n",
    "history = model.fit(X_train_scaled, y_resampled, validation_data=(X_test_scaled, y_test), epochs=100, batch_size=64)\n",
    "\n"
   ],
   "id": "bc5a04499abf482d",
   "outputs": [
    {
     "name": "stdout",
     "output_type": "stream",
     "text": [
      "Epoch 1/100\n",
      "\u001B[1m980/980\u001B[0m \u001B[32m━━━━━━━━━━━━━━━━━━━━\u001B[0m\u001B[37m\u001B[0m \u001B[1m4s\u001B[0m 3ms/step - accuracy: 0.6874 - loss: 0.5996 - val_accuracy: 0.8247 - val_loss: 0.3496\n",
      "Epoch 2/100\n",
      "\u001B[1m980/980\u001B[0m \u001B[32m━━━━━━━━━━━━━━━━━━━━\u001B[0m\u001B[37m\u001B[0m \u001B[1m3s\u001B[0m 3ms/step - accuracy: 0.8617 - loss: 0.3503 - val_accuracy: 0.8233 - val_loss: 0.3419\n",
      "Epoch 3/100\n",
      "\u001B[1m980/980\u001B[0m \u001B[32m━━━━━━━━━━━━━━━━━━━━\u001B[0m\u001B[37m\u001B[0m \u001B[1m3s\u001B[0m 3ms/step - accuracy: 0.8697 - loss: 0.3376 - val_accuracy: 0.8276 - val_loss: 0.3336\n",
      "Epoch 4/100\n",
      "\u001B[1m980/980\u001B[0m \u001B[32m━━━━━━━━━━━━━━━━━━━━\u001B[0m\u001B[37m\u001B[0m \u001B[1m3s\u001B[0m 3ms/step - accuracy: 0.8784 - loss: 0.3180 - val_accuracy: 0.8316 - val_loss: 0.3234\n",
      "Epoch 5/100\n",
      "\u001B[1m980/980\u001B[0m \u001B[32m━━━━━━━━━━━━━━━━━━━━\u001B[0m\u001B[37m\u001B[0m \u001B[1m3s\u001B[0m 3ms/step - accuracy: 0.8790 - loss: 0.3103 - val_accuracy: 0.8431 - val_loss: 0.3128\n",
      "Epoch 6/100\n",
      "\u001B[1m980/980\u001B[0m \u001B[32m━━━━━━━━━━━━━━━━━━━━\u001B[0m\u001B[37m\u001B[0m \u001B[1m3s\u001B[0m 3ms/step - accuracy: 0.8814 - loss: 0.3032 - val_accuracy: 0.8445 - val_loss: 0.3150\n",
      "Epoch 7/100\n",
      "\u001B[1m980/980\u001B[0m \u001B[32m━━━━━━━━━━━━━━━━━━━━\u001B[0m\u001B[37m\u001B[0m \u001B[1m3s\u001B[0m 3ms/step - accuracy: 0.8836 - loss: 0.3039 - val_accuracy: 0.8498 - val_loss: 0.3212\n",
      "Epoch 8/100\n",
      "\u001B[1m980/980\u001B[0m \u001B[32m━━━━━━━━━━━━━━━━━━━━\u001B[0m\u001B[37m\u001B[0m \u001B[1m3s\u001B[0m 3ms/step - accuracy: 0.8829 - loss: 0.3027 - val_accuracy: 0.8547 - val_loss: 0.3234\n",
      "Epoch 9/100\n",
      "\u001B[1m980/980\u001B[0m \u001B[32m━━━━━━━━━━━━━━━━━━━━\u001B[0m\u001B[37m\u001B[0m \u001B[1m3s\u001B[0m 3ms/step - accuracy: 0.8849 - loss: 0.2941 - val_accuracy: 0.8573 - val_loss: 0.3082\n",
      "Epoch 10/100\n",
      "\u001B[1m980/980\u001B[0m \u001B[32m━━━━━━━━━━━━━━━━━━━━\u001B[0m\u001B[37m\u001B[0m \u001B[1m3s\u001B[0m 3ms/step - accuracy: 0.8851 - loss: 0.2938 - val_accuracy: 0.8576 - val_loss: 0.3102\n",
      "Epoch 11/100\n",
      "\u001B[1m980/980\u001B[0m \u001B[32m━━━━━━━━━━━━━━━━━━━━\u001B[0m\u001B[37m\u001B[0m \u001B[1m3s\u001B[0m 3ms/step - accuracy: 0.8867 - loss: 0.2917 - val_accuracy: 0.8560 - val_loss: 0.3153\n",
      "Epoch 12/100\n",
      "\u001B[1m980/980\u001B[0m \u001B[32m━━━━━━━━━━━━━━━━━━━━\u001B[0m\u001B[37m\u001B[0m \u001B[1m3s\u001B[0m 3ms/step - accuracy: 0.8877 - loss: 0.2892 - val_accuracy: 0.8609 - val_loss: 0.2949\n",
      "Epoch 13/100\n",
      "\u001B[1m980/980\u001B[0m \u001B[32m━━━━━━━━━━━━━━━━━━━━\u001B[0m\u001B[37m\u001B[0m \u001B[1m3s\u001B[0m 3ms/step - accuracy: 0.8887 - loss: 0.2868 - val_accuracy: 0.8609 - val_loss: 0.3073\n",
      "Epoch 14/100\n",
      "\u001B[1m980/980\u001B[0m \u001B[32m━━━━━━━━━━━━━━━━━━━━\u001B[0m\u001B[37m\u001B[0m \u001B[1m3s\u001B[0m 3ms/step - accuracy: 0.8900 - loss: 0.2819 - val_accuracy: 0.8609 - val_loss: 0.2988\n",
      "Epoch 15/100\n",
      "\u001B[1m980/980\u001B[0m \u001B[32m━━━━━━━━━━━━━━━━━━━━\u001B[0m\u001B[37m\u001B[0m \u001B[1m3s\u001B[0m 3ms/step - accuracy: 0.8914 - loss: 0.2834 - val_accuracy: 0.8666 - val_loss: 0.2910\n",
      "Epoch 16/100\n",
      "\u001B[1m980/980\u001B[0m \u001B[32m━━━━━━━━━━━━━━━━━━━━\u001B[0m\u001B[37m\u001B[0m \u001B[1m3s\u001B[0m 3ms/step - accuracy: 0.8919 - loss: 0.2782 - val_accuracy: 0.8658 - val_loss: 0.2955\n",
      "Epoch 17/100\n",
      "\u001B[1m980/980\u001B[0m \u001B[32m━━━━━━━━━━━━━━━━━━━━\u001B[0m\u001B[37m\u001B[0m \u001B[1m3s\u001B[0m 3ms/step - accuracy: 0.8875 - loss: 0.2858 - val_accuracy: 0.8590 - val_loss: 0.3066\n",
      "Epoch 18/100\n",
      "\u001B[1m980/980\u001B[0m \u001B[32m━━━━━━━━━━━━━━━━━━━━\u001B[0m\u001B[37m\u001B[0m \u001B[1m3s\u001B[0m 3ms/step - accuracy: 0.8886 - loss: 0.2851 - val_accuracy: 0.8664 - val_loss: 0.2877\n",
      "Epoch 19/100\n",
      "\u001B[1m980/980\u001B[0m \u001B[32m━━━━━━━━━━━━━━━━━━━━\u001B[0m\u001B[37m\u001B[0m \u001B[1m3s\u001B[0m 3ms/step - accuracy: 0.8939 - loss: 0.2782 - val_accuracy: 0.8648 - val_loss: 0.2905\n",
      "Epoch 20/100\n",
      "\u001B[1m980/980\u001B[0m \u001B[32m━━━━━━━━━━━━━━━━━━━━\u001B[0m\u001B[37m\u001B[0m \u001B[1m3s\u001B[0m 3ms/step - accuracy: 0.8907 - loss: 0.2825 - val_accuracy: 0.8686 - val_loss: 0.2846\n",
      "Epoch 21/100\n",
      "\u001B[1m980/980\u001B[0m \u001B[32m━━━━━━━━━━━━━━━━━━━━\u001B[0m\u001B[37m\u001B[0m \u001B[1m3s\u001B[0m 3ms/step - accuracy: 0.8903 - loss: 0.2842 - val_accuracy: 0.8673 - val_loss: 0.2843\n",
      "Epoch 22/100\n",
      "\u001B[1m980/980\u001B[0m \u001B[32m━━━━━━━━━━━━━━━━━━━━\u001B[0m\u001B[37m\u001B[0m \u001B[1m3s\u001B[0m 3ms/step - accuracy: 0.8925 - loss: 0.2824 - val_accuracy: 0.8611 - val_loss: 0.2977\n",
      "Epoch 23/100\n",
      "\u001B[1m980/980\u001B[0m \u001B[32m━━━━━━━━━━━━━━━━━━━━\u001B[0m\u001B[37m\u001B[0m \u001B[1m3s\u001B[0m 3ms/step - accuracy: 0.8890 - loss: 0.2834 - val_accuracy: 0.8610 - val_loss: 0.2969\n",
      "Epoch 24/100\n",
      "\u001B[1m980/980\u001B[0m \u001B[32m━━━━━━━━━━━━━━━━━━━━\u001B[0m\u001B[37m\u001B[0m \u001B[1m3s\u001B[0m 3ms/step - accuracy: 0.8940 - loss: 0.2777 - val_accuracy: 0.8631 - val_loss: 0.3054\n",
      "Epoch 25/100\n",
      "\u001B[1m980/980\u001B[0m \u001B[32m━━━━━━━━━━━━━━━━━━━━\u001B[0m\u001B[37m\u001B[0m \u001B[1m3s\u001B[0m 3ms/step - accuracy: 0.8933 - loss: 0.2745 - val_accuracy: 0.8581 - val_loss: 0.3041\n",
      "Epoch 26/100\n",
      "\u001B[1m980/980\u001B[0m \u001B[32m━━━━━━━━━━━━━━━━━━━━\u001B[0m\u001B[37m\u001B[0m \u001B[1m3s\u001B[0m 3ms/step - accuracy: 0.8934 - loss: 0.2752 - val_accuracy: 0.8565 - val_loss: 0.3081\n",
      "Epoch 27/100\n",
      "\u001B[1m980/980\u001B[0m \u001B[32m━━━━━━━━━━━━━━━━━━━━\u001B[0m\u001B[37m\u001B[0m \u001B[1m3s\u001B[0m 3ms/step - accuracy: 0.8957 - loss: 0.2709 - val_accuracy: 0.8671 - val_loss: 0.2833\n",
      "Epoch 28/100\n",
      "\u001B[1m980/980\u001B[0m \u001B[32m━━━━━━━━━━━━━━━━━━━━\u001B[0m\u001B[37m\u001B[0m \u001B[1m3s\u001B[0m 3ms/step - accuracy: 0.8919 - loss: 0.2764 - val_accuracy: 0.8653 - val_loss: 0.2928\n",
      "Epoch 29/100\n",
      "\u001B[1m980/980\u001B[0m \u001B[32m━━━━━━━━━━━━━━━━━━━━\u001B[0m\u001B[37m\u001B[0m \u001B[1m3s\u001B[0m 3ms/step - accuracy: 0.8925 - loss: 0.2800 - val_accuracy: 0.8600 - val_loss: 0.3047\n",
      "Epoch 30/100\n",
      "\u001B[1m980/980\u001B[0m \u001B[32m━━━━━━━━━━━━━━━━━━━━\u001B[0m\u001B[37m\u001B[0m \u001B[1m3s\u001B[0m 3ms/step - accuracy: 0.8929 - loss: 0.2740 - val_accuracy: 0.8650 - val_loss: 0.2886\n",
      "Epoch 31/100\n",
      "\u001B[1m980/980\u001B[0m \u001B[32m━━━━━━━━━━━━━━━━━━━━\u001B[0m\u001B[37m\u001B[0m \u001B[1m3s\u001B[0m 3ms/step - accuracy: 0.8947 - loss: 0.2720 - val_accuracy: 0.8682 - val_loss: 0.2827\n",
      "Epoch 32/100\n",
      "\u001B[1m980/980\u001B[0m \u001B[32m━━━━━━━━━━━━━━━━━━━━\u001B[0m\u001B[37m\u001B[0m \u001B[1m3s\u001B[0m 3ms/step - accuracy: 0.8943 - loss: 0.2748 - val_accuracy: 0.8613 - val_loss: 0.2998\n",
      "Epoch 33/100\n",
      "\u001B[1m980/980\u001B[0m \u001B[32m━━━━━━━━━━━━━━━━━━━━\u001B[0m\u001B[37m\u001B[0m \u001B[1m3s\u001B[0m 3ms/step - accuracy: 0.8914 - loss: 0.2780 - val_accuracy: 0.8611 - val_loss: 0.3001\n",
      "Epoch 34/100\n",
      "\u001B[1m980/980\u001B[0m \u001B[32m━━━━━━━━━━━━━━━━━━━━\u001B[0m\u001B[37m\u001B[0m \u001B[1m3s\u001B[0m 3ms/step - accuracy: 0.8953 - loss: 0.2689 - val_accuracy: 0.8622 - val_loss: 0.3054\n",
      "Epoch 35/100\n",
      "\u001B[1m980/980\u001B[0m \u001B[32m━━━━━━━━━━━━━━━━━━━━\u001B[0m\u001B[37m\u001B[0m \u001B[1m3s\u001B[0m 3ms/step - accuracy: 0.8949 - loss: 0.2714 - val_accuracy: 0.8624 - val_loss: 0.2880\n",
      "Epoch 36/100\n",
      "\u001B[1m980/980\u001B[0m \u001B[32m━━━━━━━━━━━━━━━━━━━━\u001B[0m\u001B[37m\u001B[0m \u001B[1m3s\u001B[0m 3ms/step - accuracy: 0.8936 - loss: 0.2707 - val_accuracy: 0.8649 - val_loss: 0.2893\n",
      "Epoch 37/100\n",
      "\u001B[1m980/980\u001B[0m \u001B[32m━━━━━━━━━━━━━━━━━━━━\u001B[0m\u001B[37m\u001B[0m \u001B[1m3s\u001B[0m 3ms/step - accuracy: 0.8939 - loss: 0.2728 - val_accuracy: 0.8666 - val_loss: 0.2813\n",
      "Epoch 38/100\n",
      "\u001B[1m980/980\u001B[0m \u001B[32m━━━━━━━━━━━━━━━━━━━━\u001B[0m\u001B[37m\u001B[0m \u001B[1m3s\u001B[0m 3ms/step - accuracy: 0.8922 - loss: 0.2767 - val_accuracy: 0.8640 - val_loss: 0.2882\n",
      "Epoch 39/100\n",
      "\u001B[1m980/980\u001B[0m \u001B[32m━━━━━━━━━━━━━━━━━━━━\u001B[0m\u001B[37m\u001B[0m \u001B[1m3s\u001B[0m 3ms/step - accuracy: 0.8939 - loss: 0.2740 - val_accuracy: 0.8641 - val_loss: 0.2854\n",
      "Epoch 40/100\n",
      "\u001B[1m980/980\u001B[0m \u001B[32m━━━━━━━━━━━━━━━━━━━━\u001B[0m\u001B[37m\u001B[0m \u001B[1m3s\u001B[0m 3ms/step - accuracy: 0.8942 - loss: 0.2702 - val_accuracy: 0.8606 - val_loss: 0.2931\n",
      "Epoch 41/100\n",
      "\u001B[1m980/980\u001B[0m \u001B[32m━━━━━━━━━━━━━━━━━━━━\u001B[0m\u001B[37m\u001B[0m \u001B[1m3s\u001B[0m 3ms/step - accuracy: 0.8965 - loss: 0.2679 - val_accuracy: 0.8624 - val_loss: 0.2895\n",
      "Epoch 42/100\n",
      "\u001B[1m980/980\u001B[0m \u001B[32m━━━━━━━━━━━━━━━━━━━━\u001B[0m\u001B[37m\u001B[0m \u001B[1m4s\u001B[0m 4ms/step - accuracy: 0.8941 - loss: 0.2718 - val_accuracy: 0.8622 - val_loss: 0.2913\n",
      "Epoch 43/100\n",
      "\u001B[1m980/980\u001B[0m \u001B[32m━━━━━━━━━━━━━━━━━━━━\u001B[0m\u001B[37m\u001B[0m \u001B[1m3s\u001B[0m 3ms/step - accuracy: 0.8928 - loss: 0.2743 - val_accuracy: 0.8640 - val_loss: 0.2946\n",
      "Epoch 44/100\n",
      "\u001B[1m980/980\u001B[0m \u001B[32m━━━━━━━━━━━━━━━━━━━━\u001B[0m\u001B[37m\u001B[0m \u001B[1m3s\u001B[0m 3ms/step - accuracy: 0.8945 - loss: 0.2716 - val_accuracy: 0.8633 - val_loss: 0.2926\n",
      "Epoch 45/100\n",
      "\u001B[1m980/980\u001B[0m \u001B[32m━━━━━━━━━━━━━━━━━━━━\u001B[0m\u001B[37m\u001B[0m \u001B[1m3s\u001B[0m 3ms/step - accuracy: 0.8954 - loss: 0.2693 - val_accuracy: 0.8639 - val_loss: 0.2905\n",
      "Epoch 46/100\n",
      "\u001B[1m980/980\u001B[0m \u001B[32m━━━━━━━━━━━━━━━━━━━━\u001B[0m\u001B[37m\u001B[0m \u001B[1m3s\u001B[0m 3ms/step - accuracy: 0.8930 - loss: 0.2745 - val_accuracy: 0.8633 - val_loss: 0.2902\n",
      "Epoch 47/100\n",
      "\u001B[1m980/980\u001B[0m \u001B[32m━━━━━━━━━━━━━━━━━━━━\u001B[0m\u001B[37m\u001B[0m \u001B[1m3s\u001B[0m 3ms/step - accuracy: 0.8934 - loss: 0.2757 - val_accuracy: 0.8652 - val_loss: 0.2775\n",
      "Epoch 48/100\n",
      "\u001B[1m980/980\u001B[0m \u001B[32m━━━━━━━━━━━━━━━━━━━━\u001B[0m\u001B[37m\u001B[0m \u001B[1m3s\u001B[0m 3ms/step - accuracy: 0.8982 - loss: 0.2654 - val_accuracy: 0.8600 - val_loss: 0.2856\n",
      "Epoch 49/100\n",
      "\u001B[1m980/980\u001B[0m \u001B[32m━━━━━━━━━━━━━━━━━━━━\u001B[0m\u001B[37m\u001B[0m \u001B[1m3s\u001B[0m 3ms/step - accuracy: 0.8935 - loss: 0.2713 - val_accuracy: 0.8661 - val_loss: 0.2789\n",
      "Epoch 50/100\n",
      "\u001B[1m980/980\u001B[0m \u001B[32m━━━━━━━━━━━━━━━━━━━━\u001B[0m\u001B[37m\u001B[0m \u001B[1m3s\u001B[0m 3ms/step - accuracy: 0.8957 - loss: 0.2678 - val_accuracy: 0.8660 - val_loss: 0.2828\n",
      "Epoch 51/100\n",
      "\u001B[1m980/980\u001B[0m \u001B[32m━━━━━━━━━━━━━━━━━━━━\u001B[0m\u001B[37m\u001B[0m \u001B[1m3s\u001B[0m 3ms/step - accuracy: 0.8952 - loss: 0.2695 - val_accuracy: 0.8602 - val_loss: 0.2973\n",
      "Epoch 52/100\n",
      "\u001B[1m980/980\u001B[0m \u001B[32m━━━━━━━━━━━━━━━━━━━━\u001B[0m\u001B[37m\u001B[0m \u001B[1m3s\u001B[0m 3ms/step - accuracy: 0.8949 - loss: 0.2698 - val_accuracy: 0.8621 - val_loss: 0.2913\n",
      "Epoch 53/100\n",
      "\u001B[1m980/980\u001B[0m \u001B[32m━━━━━━━━━━━━━━━━━━━━\u001B[0m\u001B[37m\u001B[0m \u001B[1m3s\u001B[0m 3ms/step - accuracy: 0.8974 - loss: 0.2664 - val_accuracy: 0.8625 - val_loss: 0.2873\n",
      "Epoch 54/100\n",
      "\u001B[1m980/980\u001B[0m \u001B[32m━━━━━━━━━━━━━━━━━━━━\u001B[0m\u001B[37m\u001B[0m \u001B[1m3s\u001B[0m 3ms/step - accuracy: 0.8945 - loss: 0.2679 - val_accuracy: 0.8644 - val_loss: 0.2806\n",
      "Epoch 55/100\n",
      "\u001B[1m980/980\u001B[0m \u001B[32m━━━━━━━━━━━━━━━━━━━━\u001B[0m\u001B[37m\u001B[0m \u001B[1m3s\u001B[0m 3ms/step - accuracy: 0.8950 - loss: 0.2672 - val_accuracy: 0.8658 - val_loss: 0.2863\n",
      "Epoch 56/100\n",
      "\u001B[1m980/980\u001B[0m \u001B[32m━━━━━━━━━━━━━━━━━━━━\u001B[0m\u001B[37m\u001B[0m \u001B[1m3s\u001B[0m 3ms/step - accuracy: 0.8964 - loss: 0.2713 - val_accuracy: 0.8625 - val_loss: 0.2910\n",
      "Epoch 57/100\n",
      "\u001B[1m980/980\u001B[0m \u001B[32m━━━━━━━━━━━━━━━━━━━━\u001B[0m\u001B[37m\u001B[0m \u001B[1m3s\u001B[0m 3ms/step - accuracy: 0.8956 - loss: 0.2633 - val_accuracy: 0.8640 - val_loss: 0.2889\n",
      "Epoch 58/100\n",
      "\u001B[1m980/980\u001B[0m \u001B[32m━━━━━━━━━━━━━━━━━━━━\u001B[0m\u001B[37m\u001B[0m \u001B[1m3s\u001B[0m 3ms/step - accuracy: 0.8958 - loss: 0.2651 - val_accuracy: 0.8665 - val_loss: 0.2750\n",
      "Epoch 59/100\n",
      "\u001B[1m980/980\u001B[0m \u001B[32m━━━━━━━━━━━━━━━━━━━━\u001B[0m\u001B[37m\u001B[0m \u001B[1m3s\u001B[0m 3ms/step - accuracy: 0.8944 - loss: 0.2749 - val_accuracy: 0.8679 - val_loss: 0.2794\n",
      "Epoch 60/100\n",
      "\u001B[1m980/980\u001B[0m \u001B[32m━━━━━━━━━━━━━━━━━━━━\u001B[0m\u001B[37m\u001B[0m \u001B[1m3s\u001B[0m 3ms/step - accuracy: 0.8960 - loss: 0.2645 - val_accuracy: 0.8681 - val_loss: 0.2678\n",
      "Epoch 61/100\n",
      "\u001B[1m980/980\u001B[0m \u001B[32m━━━━━━━━━━━━━━━━━━━━\u001B[0m\u001B[37m\u001B[0m \u001B[1m3s\u001B[0m 3ms/step - accuracy: 0.8948 - loss: 0.2690 - val_accuracy: 0.8691 - val_loss: 0.2739\n",
      "Epoch 62/100\n",
      "\u001B[1m980/980\u001B[0m \u001B[32m━━━━━━━━━━━━━━━━━━━━\u001B[0m\u001B[37m\u001B[0m \u001B[1m3s\u001B[0m 3ms/step - accuracy: 0.8968 - loss: 0.2690 - val_accuracy: 0.8618 - val_loss: 0.2913\n",
      "Epoch 63/100\n",
      "\u001B[1m980/980\u001B[0m \u001B[32m━━━━━━━━━━━━━━━━━━━━\u001B[0m\u001B[37m\u001B[0m \u001B[1m3s\u001B[0m 3ms/step - accuracy: 0.8946 - loss: 0.2682 - val_accuracy: 0.8617 - val_loss: 0.2882\n",
      "Epoch 64/100\n",
      "\u001B[1m980/980\u001B[0m \u001B[32m━━━━━━━━━━━━━━━━━━━━\u001B[0m\u001B[37m\u001B[0m \u001B[1m3s\u001B[0m 3ms/step - accuracy: 0.8936 - loss: 0.2704 - val_accuracy: 0.8650 - val_loss: 0.2811\n",
      "Epoch 65/100\n",
      "\u001B[1m980/980\u001B[0m \u001B[32m━━━━━━━━━━━━━━━━━━━━\u001B[0m\u001B[37m\u001B[0m \u001B[1m3s\u001B[0m 4ms/step - accuracy: 0.8941 - loss: 0.2693 - val_accuracy: 0.8663 - val_loss: 0.2784\n",
      "Epoch 66/100\n",
      "\u001B[1m980/980\u001B[0m \u001B[32m━━━━━━━━━━━━━━━━━━━━\u001B[0m\u001B[37m\u001B[0m \u001B[1m3s\u001B[0m 3ms/step - accuracy: 0.8955 - loss: 0.2659 - val_accuracy: 0.8656 - val_loss: 0.2718\n",
      "Epoch 67/100\n",
      "\u001B[1m980/980\u001B[0m \u001B[32m━━━━━━━━━━━━━━━━━━━━\u001B[0m\u001B[37m\u001B[0m \u001B[1m3s\u001B[0m 3ms/step - accuracy: 0.8990 - loss: 0.2627 - val_accuracy: 0.8630 - val_loss: 0.2829\n",
      "Epoch 68/100\n",
      "\u001B[1m980/980\u001B[0m \u001B[32m━━━━━━━━━━━━━━━━━━━━\u001B[0m\u001B[37m\u001B[0m \u001B[1m3s\u001B[0m 3ms/step - accuracy: 0.8960 - loss: 0.2672 - val_accuracy: 0.8617 - val_loss: 0.2786\n",
      "Epoch 69/100\n",
      "\u001B[1m980/980\u001B[0m \u001B[32m━━━━━━━━━━━━━━━━━━━━\u001B[0m\u001B[37m\u001B[0m \u001B[1m3s\u001B[0m 3ms/step - accuracy: 0.8978 - loss: 0.2651 - val_accuracy: 0.8632 - val_loss: 0.2813\n",
      "Epoch 70/100\n",
      "\u001B[1m980/980\u001B[0m \u001B[32m━━━━━━━━━━━━━━━━━━━━\u001B[0m\u001B[37m\u001B[0m \u001B[1m3s\u001B[0m 3ms/step - accuracy: 0.8978 - loss: 0.2657 - val_accuracy: 0.8614 - val_loss: 0.2845\n",
      "Epoch 71/100\n",
      "\u001B[1m980/980\u001B[0m \u001B[32m━━━━━━━━━━━━━━━━━━━━\u001B[0m\u001B[37m\u001B[0m \u001B[1m3s\u001B[0m 3ms/step - accuracy: 0.8954 - loss: 0.2685 - val_accuracy: 0.8602 - val_loss: 0.2885\n",
      "Epoch 72/100\n",
      "\u001B[1m980/980\u001B[0m \u001B[32m━━━━━━━━━━━━━━━━━━━━\u001B[0m\u001B[37m\u001B[0m \u001B[1m3s\u001B[0m 3ms/step - accuracy: 0.8957 - loss: 0.2635 - val_accuracy: 0.8642 - val_loss: 0.2818\n",
      "Epoch 73/100\n",
      "\u001B[1m980/980\u001B[0m \u001B[32m━━━━━━━━━━━━━━━━━━━━\u001B[0m\u001B[37m\u001B[0m \u001B[1m3s\u001B[0m 3ms/step - accuracy: 0.8976 - loss: 0.2656 - val_accuracy: 0.8654 - val_loss: 0.2820\n",
      "Epoch 74/100\n",
      "\u001B[1m980/980\u001B[0m \u001B[32m━━━━━━━━━━━━━━━━━━━━\u001B[0m\u001B[37m\u001B[0m \u001B[1m3s\u001B[0m 3ms/step - accuracy: 0.8938 - loss: 0.2720 - val_accuracy: 0.8658 - val_loss: 0.2809\n",
      "Epoch 75/100\n",
      "\u001B[1m980/980\u001B[0m \u001B[32m━━━━━━━━━━━━━━━━━━━━\u001B[0m\u001B[37m\u001B[0m \u001B[1m3s\u001B[0m 3ms/step - accuracy: 0.8974 - loss: 0.2618 - val_accuracy: 0.8649 - val_loss: 0.2842\n",
      "Epoch 76/100\n",
      "\u001B[1m980/980\u001B[0m \u001B[32m━━━━━━━━━━━━━━━━━━━━\u001B[0m\u001B[37m\u001B[0m \u001B[1m3s\u001B[0m 3ms/step - accuracy: 0.8969 - loss: 0.2670 - val_accuracy: 0.8604 - val_loss: 0.2882\n",
      "Epoch 77/100\n",
      "\u001B[1m980/980\u001B[0m \u001B[32m━━━━━━━━━━━━━━━━━━━━\u001B[0m\u001B[37m\u001B[0m \u001B[1m3s\u001B[0m 3ms/step - accuracy: 0.8977 - loss: 0.2620 - val_accuracy: 0.8649 - val_loss: 0.2688\n",
      "Epoch 78/100\n",
      "\u001B[1m980/980\u001B[0m \u001B[32m━━━━━━━━━━━━━━━━━━━━\u001B[0m\u001B[37m\u001B[0m \u001B[1m3s\u001B[0m 3ms/step - accuracy: 0.8990 - loss: 0.2630 - val_accuracy: 0.8655 - val_loss: 0.2764\n",
      "Epoch 79/100\n",
      "\u001B[1m980/980\u001B[0m \u001B[32m━━━━━━━━━━━━━━━━━━━━\u001B[0m\u001B[37m\u001B[0m \u001B[1m3s\u001B[0m 3ms/step - accuracy: 0.8992 - loss: 0.2655 - val_accuracy: 0.8627 - val_loss: 0.2856\n",
      "Epoch 80/100\n",
      "\u001B[1m980/980\u001B[0m \u001B[32m━━━━━━━━━━━━━━━━━━━━\u001B[0m\u001B[37m\u001B[0m \u001B[1m3s\u001B[0m 3ms/step - accuracy: 0.8949 - loss: 0.2690 - val_accuracy: 0.8622 - val_loss: 0.2842\n",
      "Epoch 81/100\n",
      "\u001B[1m980/980\u001B[0m \u001B[32m━━━━━━━━━━━━━━━━━━━━\u001B[0m\u001B[37m\u001B[0m \u001B[1m3s\u001B[0m 3ms/step - accuracy: 0.8947 - loss: 0.2661 - val_accuracy: 0.8665 - val_loss: 0.2776\n",
      "Epoch 82/100\n",
      "\u001B[1m980/980\u001B[0m \u001B[32m━━━━━━━━━━━━━━━━━━━━\u001B[0m\u001B[37m\u001B[0m \u001B[1m3s\u001B[0m 3ms/step - accuracy: 0.8984 - loss: 0.2650 - val_accuracy: 0.8643 - val_loss: 0.2762\n",
      "Epoch 83/100\n",
      "\u001B[1m980/980\u001B[0m \u001B[32m━━━━━━━━━━━━━━━━━━━━\u001B[0m\u001B[37m\u001B[0m \u001B[1m3s\u001B[0m 3ms/step - accuracy: 0.8976 - loss: 0.2641 - val_accuracy: 0.8654 - val_loss: 0.2820\n",
      "Epoch 84/100\n",
      "\u001B[1m980/980\u001B[0m \u001B[32m━━━━━━━━━━━━━━━━━━━━\u001B[0m\u001B[37m\u001B[0m \u001B[1m3s\u001B[0m 3ms/step - accuracy: 0.8985 - loss: 0.2638 - val_accuracy: 0.8635 - val_loss: 0.2842\n",
      "Epoch 85/100\n",
      "\u001B[1m980/980\u001B[0m \u001B[32m━━━━━━━━━━━━━━━━━━━━\u001B[0m\u001B[37m\u001B[0m \u001B[1m3s\u001B[0m 3ms/step - accuracy: 0.8989 - loss: 0.2662 - val_accuracy: 0.8617 - val_loss: 0.2860\n",
      "Epoch 86/100\n",
      "\u001B[1m980/980\u001B[0m \u001B[32m━━━━━━━━━━━━━━━━━━━━\u001B[0m\u001B[37m\u001B[0m \u001B[1m3s\u001B[0m 3ms/step - accuracy: 0.8985 - loss: 0.2665 - val_accuracy: 0.8653 - val_loss: 0.2867\n",
      "Epoch 87/100\n",
      "\u001B[1m980/980\u001B[0m \u001B[32m━━━━━━━━━━━━━━━━━━━━\u001B[0m\u001B[37m\u001B[0m \u001B[1m3s\u001B[0m 3ms/step - accuracy: 0.8973 - loss: 0.2671 - val_accuracy: 0.8665 - val_loss: 0.2771\n",
      "Epoch 88/100\n",
      "\u001B[1m980/980\u001B[0m \u001B[32m━━━━━━━━━━━━━━━━━━━━\u001B[0m\u001B[37m\u001B[0m \u001B[1m3s\u001B[0m 3ms/step - accuracy: 0.8987 - loss: 0.2617 - val_accuracy: 0.8652 - val_loss: 0.2795\n",
      "Epoch 89/100\n",
      "\u001B[1m980/980\u001B[0m \u001B[32m━━━━━━━━━━━━━━━━━━━━\u001B[0m\u001B[37m\u001B[0m \u001B[1m3s\u001B[0m 3ms/step - accuracy: 0.8985 - loss: 0.2628 - val_accuracy: 0.8616 - val_loss: 0.2941\n",
      "Epoch 90/100\n",
      "\u001B[1m980/980\u001B[0m \u001B[32m━━━━━━━━━━━━━━━━━━━━\u001B[0m\u001B[37m\u001B[0m \u001B[1m3s\u001B[0m 3ms/step - accuracy: 0.8988 - loss: 0.2643 - val_accuracy: 0.8662 - val_loss: 0.2759\n",
      "Epoch 91/100\n",
      "\u001B[1m980/980\u001B[0m \u001B[32m━━━━━━━━━━━━━━━━━━━━\u001B[0m\u001B[37m\u001B[0m \u001B[1m3s\u001B[0m 3ms/step - accuracy: 0.8958 - loss: 0.2665 - val_accuracy: 0.8662 - val_loss: 0.2758\n",
      "Epoch 92/100\n",
      "\u001B[1m980/980\u001B[0m \u001B[32m━━━━━━━━━━━━━━━━━━━━\u001B[0m\u001B[37m\u001B[0m \u001B[1m3s\u001B[0m 3ms/step - accuracy: 0.8968 - loss: 0.2605 - val_accuracy: 0.8649 - val_loss: 0.2879\n",
      "Epoch 93/100\n",
      "\u001B[1m980/980\u001B[0m \u001B[32m━━━━━━━━━━━━━━━━━━━━\u001B[0m\u001B[37m\u001B[0m \u001B[1m3s\u001B[0m 3ms/step - accuracy: 0.8984 - loss: 0.2624 - val_accuracy: 0.8650 - val_loss: 0.2814\n",
      "Epoch 94/100\n",
      "\u001B[1m980/980\u001B[0m \u001B[32m━━━━━━━━━━━━━━━━━━━━\u001B[0m\u001B[37m\u001B[0m \u001B[1m3s\u001B[0m 3ms/step - accuracy: 0.8975 - loss: 0.2688 - val_accuracy: 0.8643 - val_loss: 0.2774\n",
      "Epoch 95/100\n",
      "\u001B[1m980/980\u001B[0m \u001B[32m━━━━━━━━━━━━━━━━━━━━\u001B[0m\u001B[37m\u001B[0m \u001B[1m3s\u001B[0m 3ms/step - accuracy: 0.8927 - loss: 0.2695 - val_accuracy: 0.8643 - val_loss: 0.2819\n",
      "Epoch 96/100\n",
      "\u001B[1m980/980\u001B[0m \u001B[32m━━━━━━━━━━━━━━━━━━━━\u001B[0m\u001B[37m\u001B[0m \u001B[1m3s\u001B[0m 3ms/step - accuracy: 0.8982 - loss: 0.2629 - val_accuracy: 0.8666 - val_loss: 0.2734\n",
      "Epoch 97/100\n",
      "\u001B[1m980/980\u001B[0m \u001B[32m━━━━━━━━━━━━━━━━━━━━\u001B[0m\u001B[37m\u001B[0m \u001B[1m3s\u001B[0m 3ms/step - accuracy: 0.8973 - loss: 0.2633 - val_accuracy: 0.8625 - val_loss: 0.2790\n",
      "Epoch 98/100\n",
      "\u001B[1m980/980\u001B[0m \u001B[32m━━━━━━━━━━━━━━━━━━━━\u001B[0m\u001B[37m\u001B[0m \u001B[1m3s\u001B[0m 3ms/step - accuracy: 0.8965 - loss: 0.2646 - val_accuracy: 0.8623 - val_loss: 0.2854\n",
      "Epoch 99/100\n",
      "\u001B[1m980/980\u001B[0m \u001B[32m━━━━━━━━━━━━━━━━━━━━\u001B[0m\u001B[37m\u001B[0m \u001B[1m3s\u001B[0m 3ms/step - accuracy: 0.8965 - loss: 0.2637 - val_accuracy: 0.8670 - val_loss: 0.2765\n",
      "Epoch 100/100\n",
      "\u001B[1m980/980\u001B[0m \u001B[32m━━━━━━━━━━━━━━━━━━━━\u001B[0m\u001B[37m\u001B[0m \u001B[1m4s\u001B[0m 4ms/step - accuracy: 0.8981 - loss: 0.2637 - val_accuracy: 0.8651 - val_loss: 0.2792\n"
     ]
    }
   ],
   "execution_count": 52
  },
  {
   "metadata": {
    "ExecuteTime": {
     "end_time": "2024-12-31T16:52:23.117389Z",
     "start_time": "2024-12-31T16:52:22.377680Z"
    }
   },
   "cell_type": "code",
   "source": [
    "from sklearn.metrics import classification_report\n",
    "print(classification_report(y_test, model.predict(X_test_scaled).round()))"
   ],
   "id": "3cea5ddf6b2d7883",
   "outputs": [
    {
     "name": "stdout",
     "output_type": "stream",
     "text": [
      "\u001B[1m283/283\u001B[0m \u001B[32m━━━━━━━━━━━━━━━━━━━━\u001B[0m\u001B[37m\u001B[0m \u001B[1m1s\u001B[0m 2ms/step\n",
      "              precision    recall  f1-score   support\n",
      "\n",
      "           0       0.97      0.87      0.92      7952\n",
      "           1       0.47      0.83      0.60      1091\n",
      "\n",
      "    accuracy                           0.87      9043\n",
      "   macro avg       0.72      0.85      0.76      9043\n",
      "weighted avg       0.91      0.87      0.88      9043\n",
      "\n"
     ]
    }
   ],
   "execution_count": 53
  },
  {
   "metadata": {
    "ExecuteTime": {
     "end_time": "2024-12-31T16:52:33.565431Z",
     "start_time": "2024-12-31T16:52:33.411328Z"
    }
   },
   "cell_type": "code",
   "source": [
    "import matplotlib.pyplot as plt\n",
    "plt.figure(figsize=(10,5))\n",
    "plt.plot(history.history['loss'], label='loss', marker='o')\n",
    "plt.plot(history.history['val_loss'], label='val_loss',marker='o')\n",
    "plt.xlabel('epoch')\n",
    "plt.ylabel('loss')\n",
    "plt.title(\"loss graphs\")\n",
    "plt.legend()\n",
    "plt.grid(True)\n",
    "plt.show()"
   ],
   "id": "b9cdf2cded068ee3",
   "outputs": [
    {
     "data": {
      "text/plain": [
       "<Figure size 1000x500 with 1 Axes>"
      ],
      "image/png": "[encoded data removed]"
     },
     "metadata": {},
     "output_type": "display_data"
    }
   ],
   "execution_count": 54
  },
  {
   "metadata": {
    "ExecuteTime": {
     "end_time": "2024-12-31T16:52:41.942139Z",
     "start_time": "2024-12-31T16:52:41.365718Z"
    }
   },
   "cell_type": "code",
   "source": [
    "from sklearn.metrics import confusion_matrix\n",
    "print(confusion_matrix(y_test, model.predict(X_test_scaled).round()))"
   ],
   "id": "311d20659f52592f",
   "outputs": [
    {
     "name": "stdout",
     "output_type": "stream",
     "text": [
      "\u001B[1m283/283\u001B[0m \u001B[32m━━━━━━━━━━━━━━━━━━━━\u001B[0m\u001B[37m\u001B[0m \u001B[1m0s\u001B[0m 1ms/step\n",
      "[[6922 1030]\n",
      " [ 190  901]]\n"
     ]
    }
   ],
   "execution_count": 55
  }
 ],
 "metadata": {
  "kernelspec": {
   "display_name": "Python 3",
   "language": "python",
   "name": "python3"
  },
  "language_info": {
   "codemirror_mode": {
    "name": "ipython",
    "version": 2
   },
   "file_extension": ".py",
   "mimetype": "text/x-python",
   "name": "python",
   "nbconvert_exporter": "python",
   "pygments_lexer": "ipython2",
   "version": "2.7.6"
  }
 },
 "nbformat": 4,
 "nbformat_minor": 5
}
