{
 "cells": [
  {
   "cell_type": "code",
   "id": "initial_id",
   "metadata": {
    "collapsed": true,
    "ExecuteTime": {
     "end_time": "2024-12-25T06:11:51.338753Z",
     "start_time": "2024-12-25T06:11:43.425232Z"
    }
   },
   "source": [
    "#TensorFlow\n",
    "import tensorflow as tf\n",
    "from sklearn.model_selection import train_test_split\n",
    "import pandas as pd\n",
    "print(tf.__version__)\n",
    "\n",
    "df=pd.read_csv('final.csv')\n",
    "\n",
    "X=df.drop(['y'],axis=1)\n",
    "y=df['y']\n",
    "\n",
    "\n",
    "x_train,x_test,y_train,y_test=train_test_split(X,y,test_size=0.2,random_state=42)\n",
    "print(\"x_train.shape:\" ,x_train.shape)\n",
    "print(\"y_train.shape:\" ,y_train.shape)\n",
    "print(\"x_test.shape:\" ,x_test.shape)\n",
    "print(\"y_test.shape:\" ,y_test.shape)"
   ],
   "outputs": [
    {
     "name": "stdout",
     "output_type": "stream",
     "text": [
      "2.18.0\n",
      "x_train.shape: (36168, 16)\n",
      "y_train.shape: (36168,)\n",
      "x_test.shape: (9043, 16)\n",
      "y_test.shape: (9043,)\n"
     ]
    }
   ],
   "execution_count": 1
  },
  {
   "metadata": {
    "ExecuteTime": {
     "end_time": "2024-12-25T06:11:58.243520Z",
     "start_time": "2024-12-25T06:11:58.114922Z"
    }
   },
   "cell_type": "code",
   "source": [
    "model = tf.keras.models.Sequential([\n",
    "        tf.keras.layers.Flatten(input_shape=(16,)),\n",
    "\n",
    "        tf.keras.layers.Dense(128, activation='relu'),\n",
    "        tf.keras.layers.Dropout(0.2),\n",
    "        tf.keras.layers.Dense(10, activation='softmax')\n",
    "])\n"
   ],
   "id": "f63515b11dbc9d18",
   "outputs": [
    {
     "name": "stderr",
     "output_type": "stream",
     "text": [
      "C:\\Users\\binar\\AppData\\Local\\Programs\\Python\\Python311\\Lib\\site-packages\\keras\\src\\layers\\reshaping\\flatten.py:37: UserWarning: Do not pass an `input_shape`/`input_dim` argument to a layer. When using Sequential models, prefer using an `Input(shape)` object as the first layer in the model instead.\n",
      "  super().__init__(**kwargs)\n"
     ]
    }
   ],
   "execution_count": 2
  },
  {
   "metadata": {
    "ExecuteTime": {
     "end_time": "2024-12-25T06:12:04.967005Z",
     "start_time": "2024-12-25T06:12:04.943172Z"
    }
   },
   "cell_type": "code",
   "source": [
    "model.compile(optimizer='adam',\n",
    "              loss='sparse_categorical_crossentropy',\n",
    "              metrics=['accuracy'])"
   ],
   "id": "c6ee992f1c8b2bc0",
   "outputs": [],
   "execution_count": 3
  },
  {
   "metadata": {
    "ExecuteTime": {
     "end_time": "2024-12-25T06:12:49.812353Z",
     "start_time": "2024-12-25T06:12:07.603761Z"
    }
   },
   "cell_type": "code",
   "source": "r = model.fit(x_train, y_train, batch_size=32, validation_data=(x_test, y_test), epochs=10, )",
   "id": "ef8626325536afd4",
   "outputs": [
    {
     "name": "stdout",
     "output_type": "stream",
     "text": [
      "Epoch 1/10\n",
      "\u001B[1m1131/1131\u001B[0m \u001B[32m━━━━━━━━━━━━━━━━━━━━\u001B[0m\u001B[37m\u001B[0m \u001B[1m5s\u001B[0m 4ms/step - accuracy: 0.8629 - loss: 1.0008 - val_accuracy: 0.8819 - val_loss: 0.3550\n",
      "Epoch 2/10\n",
      "\u001B[1m1131/1131\u001B[0m \u001B[32m━━━━━━━━━━━━━━━━━━━━\u001B[0m\u001B[37m\u001B[0m \u001B[1m5s\u001B[0m 3ms/step - accuracy: 0.8739 - loss: 0.3683 - val_accuracy: 0.8802 - val_loss: 0.3312\n",
      "Epoch 3/10\n",
      "\u001B[1m1131/1131\u001B[0m \u001B[32m━━━━━━━━━━━━━━━━━━━━\u001B[0m\u001B[37m\u001B[0m \u001B[1m4s\u001B[0m 3ms/step - accuracy: 0.8833 - loss: 0.3330 - val_accuracy: 0.8792 - val_loss: 0.3476\n",
      "Epoch 4/10\n",
      "\u001B[1m1131/1131\u001B[0m \u001B[32m━━━━━━━━━━━━━━━━━━━━\u001B[0m\u001B[37m\u001B[0m \u001B[1m4s\u001B[0m 3ms/step - accuracy: 0.8809 - loss: 0.3306 - val_accuracy: 0.8795 - val_loss: 0.3287\n",
      "Epoch 5/10\n",
      "\u001B[1m1131/1131\u001B[0m \u001B[32m━━━━━━━━━━━━━━━━━━━━\u001B[0m\u001B[37m\u001B[0m \u001B[1m4s\u001B[0m 3ms/step - accuracy: 0.8801 - loss: 0.3254 - val_accuracy: 0.8791 - val_loss: 0.3332\n",
      "Epoch 6/10\n",
      "\u001B[1m1131/1131\u001B[0m \u001B[32m━━━━━━━━━━━━━━━━━━━━\u001B[0m\u001B[37m\u001B[0m \u001B[1m4s\u001B[0m 4ms/step - accuracy: 0.8847 - loss: 0.3193 - val_accuracy: 0.8795 - val_loss: 0.3222\n",
      "Epoch 7/10\n",
      "\u001B[1m1131/1131\u001B[0m \u001B[32m━━━━━━━━━━━━━━━━━━━━\u001B[0m\u001B[37m\u001B[0m \u001B[1m4s\u001B[0m 3ms/step - accuracy: 0.8863 - loss: 0.3120 - val_accuracy: 0.8810 - val_loss: 0.3179\n",
      "Epoch 8/10\n",
      "\u001B[1m1131/1131\u001B[0m \u001B[32m━━━━━━━━━━━━━━━━━━━━\u001B[0m\u001B[37m\u001B[0m \u001B[1m4s\u001B[0m 4ms/step - accuracy: 0.8855 - loss: 0.3115 - val_accuracy: 0.8840 - val_loss: 0.3193\n",
      "Epoch 9/10\n",
      "\u001B[1m1131/1131\u001B[0m \u001B[32m━━━━━━━━━━━━━━━━━━━━\u001B[0m\u001B[37m\u001B[0m \u001B[1m4s\u001B[0m 3ms/step - accuracy: 0.8852 - loss: 0.3151 - val_accuracy: 0.8839 - val_loss: 0.3260\n",
      "Epoch 10/10\n",
      "\u001B[1m1131/1131\u001B[0m \u001B[32m━━━━━━━━━━━━━━━━━━━━\u001B[0m\u001B[37m\u001B[0m \u001B[1m4s\u001B[0m 4ms/step - accuracy: 0.8864 - loss: 0.3119 - val_accuracy: 0.8808 - val_loss: 0.3215\n"
     ]
    }
   ],
   "execution_count": 4
  }
 ],
 "metadata": {
  "kernelspec": {
   "display_name": "Python 3",
   "language": "python",
   "name": "python3"
  },
  "language_info": {
   "codemirror_mode": {
    "name": "ipython",
    "version": 2
   },
   "file_extension": ".py",
   "mimetype": "text/x-python",
   "name": "python",
   "nbconvert_exporter": "python",
   "pygments_lexer": "ipython2",
   "version": "2.7.6"
  }
 },
 "nbformat": 4,
 "nbformat_minor": 5
}
