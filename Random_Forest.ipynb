{
 "cells": [
  {
   "metadata": {
    "ExecuteTime": {
     "end_time": "2024-12-30T21:30:38.206142Z",
     "start_time": "2024-12-30T21:30:38.054150Z"
    }
   },
   "cell_type": "code",
   "source": [
    "import pandas as pd\n",
    "\n",
    "df=pd.read_csv('finalPCA.csv')"
   ],
   "id": "8f41c652e1d40f4c",
   "outputs": [],
   "execution_count": 3
  },
  {
   "cell_type": "code",
   "id": "initial_id",
   "metadata": {
    "collapsed": true,
    "ExecuteTime": {
     "end_time": "2024-12-30T21:33:10.555898Z",
     "start_time": "2024-12-30T21:30:38.210792Z"
    }
   },
   "source": [
    "from sklearn.ensemble import RandomForestClassifier\n",
    "from sklearn.model_selection import train_test_split\n",
    "from sklearn.metrics import accuracy_score, classification_report\n",
    "from imblearn.combine import SMOTETomek\n",
    "from collections import Counter\n",
    "from sklearn.model_selection import RandomizedSearchCV\n",
    "\n",
    "\n",
    "\n",
    "\n",
    "\n",
    "X = df.drop([\"y\"], axis=1)\n",
    "Y = df[\"y\"]\n",
    "\n",
    "X_train, X_test, Y_train, Y_test = train_test_split(X, Y, test_size=0.2, random_state=42)\n",
    "rf = RandomForestClassifier(random_state=42)\n",
    "\n",
    "\n",
    "param_grid = {\n",
    "    'n_estimators': [200,250,300],\n",
    "    'max_depth': [10, 20, 30],\n",
    "    'min_samples_split': [10,15,20],\n",
    "    'min_samples_leaf': [5,10,15],\n",
    "    'max_features': ['sqrt','log2'],\n",
    "}\n",
    "\n",
    "\n",
    "\n",
    "random_search = RandomizedSearchCV(\n",
    "    estimator=rf,\n",
    "    param_distributions=param_grid,\n",
    "    n_iter=30,\n",
    "    cv=3,\n",
    "    random_state=42,\n",
    "    n_jobs=-1\n",
    ")\n",
    "\n",
    "random_search.fit(X_train, Y_train)\n",
    "print(\"Best Hyperparameters: \", random_search.best_params_)\n",
    "\n",
    "\n",
    "\n",
    "\n"
   ],
   "outputs": [
    {
     "name": "stdout",
     "output_type": "stream",
     "text": [
      "Best Hyperparameters:  {'n_estimators': 250, 'min_samples_split': 10, 'min_samples_leaf': 5, 'max_features': 'sqrt', 'max_depth': 30}\n"
     ]
    }
   ],
   "execution_count": 4
  },
  {
   "metadata": {
    "ExecuteTime": {
     "end_time": "2024-12-30T21:35:59.022961Z",
     "start_time": "2024-12-30T21:34:56.243493Z"
    }
   },
   "cell_type": "code",
   "source": [
    "\n",
    "smote_tomek = SMOTETomek(random_state=42)\n",
    "X_resampled, y_resampled = smote_tomek.fit_resample(X_train, Y_train)\n",
    "\n",
    "print(\"Class distribution after SMOTETomek:\", Counter(y_resampled))\n",
    "\n",
    "\n",
    "rf = RandomForestClassifier(min_samples_leaf=5,n_estimators=250,min_samples_split=10,max_features=\"sqrt\",class_weight='balanced',max_depth=30,random_state=42)\n",
    "rf.fit(X_resampled, y_resampled)\n",
    "\n",
    "y_train_pred = rf.predict(X_resampled)\n",
    "training_accuracy = accuracy_score(y_resampled, y_train_pred)\n",
    "print(f\"Training Accuracy: {training_accuracy * 100:.2f}%\")\n",
    "\n",
    "\n",
    "y_val_pred = rf.predict(X_test)\n",
    "validation_accuracy = accuracy_score(Y_test, y_val_pred)\n",
    "print(f\"Validation Accuracy: {validation_accuracy * 100:.2f}%\")\n",
    "\n",
    "\n"
   ],
   "id": "740e4c9cc861d4d6",
   "outputs": [
    {
     "name": "stdout",
     "output_type": "stream",
     "text": [
      "Class distribution after SMOTETomek: Counter({0: 31365, 1: 31365})\n",
      "Training Accuracy: 97.42%\n",
      "Validation Accuracy: 89.36%\n"
     ]
    }
   ],
   "execution_count": 10
  },
  {
   "metadata": {
    "ExecuteTime": {
     "end_time": "2024-12-30T21:36:13.077264Z",
     "start_time": "2024-12-30T21:36:11.505140Z"
    }
   },
   "cell_type": "code",
   "source": [
    "thersholds=[0.4,0.3,0.2,0.8]\n",
    "for Num in thersholds:\n",
    "    y_prob = rf.predict_proba(X_test)[:, 1]\n",
    "    threshold= Num\n",
    "    y_pred = (y_prob > threshold).astype(int)\n",
    "    print(Num, end=\" \")\n",
    "    print(classification_report(Y_test, y_pred))"
   ],
   "id": "ff32413be8678917",
   "outputs": [
    {
     "name": "stdout",
     "output_type": "stream",
     "text": [
      "0.4               precision    recall  f1-score   support\n",
      "\n",
      "           0       0.98      0.88      0.93      7952\n",
      "           1       0.50      0.84      0.63      1091\n",
      "\n",
      "    accuracy                           0.88      9043\n",
      "   macro avg       0.74      0.86      0.78      9043\n",
      "weighted avg       0.92      0.88      0.89      9043\n",
      "\n",
      "0.3               precision    recall  f1-score   support\n",
      "\n",
      "           0       0.99      0.85      0.91      7952\n",
      "           1       0.45      0.91      0.61      1091\n",
      "\n",
      "    accuracy                           0.86      9043\n",
      "   macro avg       0.72      0.88      0.76      9043\n",
      "weighted avg       0.92      0.86      0.88      9043\n",
      "\n",
      "0.2               precision    recall  f1-score   support\n",
      "\n",
      "           0       0.99      0.81      0.89      7952\n",
      "           1       0.41      0.95      0.57      1091\n",
      "\n",
      "    accuracy                           0.83      9043\n",
      "   macro avg       0.70      0.88      0.73      9043\n",
      "weighted avg       0.92      0.83      0.85      9043\n",
      "\n",
      "0.8               precision    recall  f1-score   support\n",
      "\n",
      "           0       0.90      0.99      0.94      7952\n",
      "           1       0.74      0.20      0.32      1091\n",
      "\n",
      "    accuracy                           0.90      9043\n",
      "   macro avg       0.82      0.60      0.63      9043\n",
      "weighted avg       0.88      0.90      0.87      9043\n",
      "\n"
     ]
    }
   ],
   "execution_count": 11
  },
  {
   "metadata": {
    "ExecuteTime": {
     "end_time": "2024-12-30T21:37:17.337552Z",
     "start_time": "2024-12-30T21:37:16.914580Z"
    }
   },
   "cell_type": "code",
   "source": [
    "Num=0.4\n",
    "y_prob = rf.predict_proba(X_test)[:, 1]\n",
    "threshold= Num\n",
    "y_pred = (y_prob > threshold).astype(int)\n",
    "print(Num, end=\" \")\n",
    "print(classification_report(Y_test, y_pred))"
   ],
   "id": "45ce2bb59ef67eea",
   "outputs": [
    {
     "name": "stdout",
     "output_type": "stream",
     "text": [
      "0.4               precision    recall  f1-score   support\n",
      "\n",
      "           0       0.98      0.88      0.93      7952\n",
      "           1       0.50      0.84      0.63      1091\n",
      "\n",
      "    accuracy                           0.88      9043\n",
      "   macro avg       0.74      0.86      0.78      9043\n",
      "weighted avg       0.92      0.88      0.89      9043\n",
      "\n"
     ]
    }
   ],
   "execution_count": 12
  },
  {
   "metadata": {
    "ExecuteTime": {
     "end_time": "2024-12-30T21:34:41.463127Z",
     "start_time": "2024-12-30T21:34:02.172069Z"
    }
   },
   "cell_type": "code",
   "source": [
    "from sklearn.model_selection import StratifiedKFold\n",
    "from sklearn.model_selection import cross_val_score\n",
    "\n",
    "stratified_kfold = StratifiedKFold(n_splits=5, shuffle=True, random_state=42)\n",
    "rf = RandomForestClassifier(class_weight='balanced',random_state=42)\n",
    "scores = cross_val_score(rf, X, Y, cv=stratified_kfold, scoring='f1_macro')\n",
    "print(\"Stratified Cross-Validation F1-Scores:\", scores)\n",
    "print(\"Mean F1-Score:\", scores.mean())"
   ],
   "id": "4d09a387fcab1e6d",
   "outputs": [
    {
     "name": "stdout",
     "output_type": "stream",
     "text": [
      "Stratified Cross-Validation F1-Scores: [0.72952106 0.72796026 0.71720947 0.73609051 0.7303796 ]\n",
      "Mean F1-Score: 0.7282321789094428\n"
     ]
    }
   ],
   "execution_count": 8
  },
  {
   "metadata": {
    "ExecuteTime": {
     "end_time": "2024-12-30T21:38:17.427094Z",
     "start_time": "2024-12-30T21:38:17.394953Z"
    }
   },
   "cell_type": "code",
   "source": "df.head()",
   "id": "a0e772f0a43a66ec",
   "outputs": [
    {
     "data": {
      "text/plain": [
       "   Unnamed: 0  age  education  balance  day  month  duration  campaign  pdays  \\\n",
       "0           0   58          2     2143    5      5       261         1     -1   \n",
       "1           1   44          1       29    5      5       151         1     -1   \n",
       "2           2   33          1        2    5      5        76         1     -1   \n",
       "3           3   47          3     1506    5      5        92         1     -1   \n",
       "4           4   33          3        1    5      5       198         1     -1   \n",
       "\n",
       "   previous  y      PCA1      PCA2      PCA3      PCA4      PCA5      PCA6  \\\n",
       "0         0  0  1.969508  0.291367  1.114691  0.183420 -0.604762 -0.828776   \n",
       "1         0  0  1.531120  0.073696  1.320453 -2.247110  0.942523 -0.072258   \n",
       "2         0  0  3.168875 -0.476858 -1.869663  1.438016  1.659780  0.160939   \n",
       "3         0  0  2.812119 -0.016881  1.237860  0.463110 -0.865411  0.068642   \n",
       "4         0  0 -0.073835  2.991254  1.203994 -1.282372  0.628338  1.920010   \n",
       "\n",
       "       PCA7      PCA8  \n",
       "0  0.309383  1.723728  \n",
       "1 -0.377493 -1.644236  \n",
       "2 -0.038836  0.182354  \n",
       "3 -0.777813  0.041188  \n",
       "4 -1.352203  0.105009  "
      ],
      "text/html": [
       "<div>\n",
       "<style scoped>\n",
       "    .dataframe tbody tr th:only-of-type {\n",
       "        vertical-align: middle;\n",
       "    }\n",
       "\n",
       "    .dataframe tbody tr th {\n",
       "        vertical-align: top;\n",
       "    }\n",
       "\n",
       "    .dataframe thead th {\n",
       "        text-align: right;\n",
       "    }\n",
       "</style>\n",
       "<table border=\"1\" class=\"dataframe\">\n",
       "  <thead>\n",
       "    <tr style=\"text-align: right;\">\n",
       "      <th></th>\n",
       "      <th>Unnamed: 0</th>\n",
       "      <th>age</th>\n",
       "      <th>education</th>\n",
       "      <th>balance</th>\n",
       "      <th>day</th>\n",
       "      <th>month</th>\n",
       "      <th>duration</th>\n",
       "      <th>campaign</th>\n",
       "      <th>pdays</th>\n",
       "      <th>previous</th>\n",
       "      <th>y</th>\n",
       "      <th>PCA1</th>\n",
       "      <th>PCA2</th>\n",
       "      <th>PCA3</th>\n",
       "      <th>PCA4</th>\n",
       "      <th>PCA5</th>\n",
       "      <th>PCA6</th>\n",
       "      <th>PCA7</th>\n",
       "      <th>PCA8</th>\n",
       "    </tr>\n",
       "  </thead>\n",
       "  <tbody>\n",
       "    <tr>\n",
       "      <th>0</th>\n",
       "      <td>0</td>\n",
       "      <td>58</td>\n",
       "      <td>2</td>\n",
       "      <td>2143</td>\n",
       "      <td>5</td>\n",
       "      <td>5</td>\n",
       "      <td>261</td>\n",
       "      <td>1</td>\n",
       "      <td>-1</td>\n",
       "      <td>0</td>\n",
       "      <td>0</td>\n",
       "      <td>1.969508</td>\n",
       "      <td>0.291367</td>\n",
       "      <td>1.114691</td>\n",
       "      <td>0.183420</td>\n",
       "      <td>-0.604762</td>\n",
       "      <td>-0.828776</td>\n",
       "      <td>0.309383</td>\n",
       "      <td>1.723728</td>\n",
       "    </tr>\n",
       "    <tr>\n",
       "      <th>1</th>\n",
       "      <td>1</td>\n",
       "      <td>44</td>\n",
       "      <td>1</td>\n",
       "      <td>29</td>\n",
       "      <td>5</td>\n",
       "      <td>5</td>\n",
       "      <td>151</td>\n",
       "      <td>1</td>\n",
       "      <td>-1</td>\n",
       "      <td>0</td>\n",
       "      <td>0</td>\n",
       "      <td>1.531120</td>\n",
       "      <td>0.073696</td>\n",
       "      <td>1.320453</td>\n",
       "      <td>-2.247110</td>\n",
       "      <td>0.942523</td>\n",
       "      <td>-0.072258</td>\n",
       "      <td>-0.377493</td>\n",
       "      <td>-1.644236</td>\n",
       "    </tr>\n",
       "    <tr>\n",
       "      <th>2</th>\n",
       "      <td>2</td>\n",
       "      <td>33</td>\n",
       "      <td>1</td>\n",
       "      <td>2</td>\n",
       "      <td>5</td>\n",
       "      <td>5</td>\n",
       "      <td>76</td>\n",
       "      <td>1</td>\n",
       "      <td>-1</td>\n",
       "      <td>0</td>\n",
       "      <td>0</td>\n",
       "      <td>3.168875</td>\n",
       "      <td>-0.476858</td>\n",
       "      <td>-1.869663</td>\n",
       "      <td>1.438016</td>\n",
       "      <td>1.659780</td>\n",
       "      <td>0.160939</td>\n",
       "      <td>-0.038836</td>\n",
       "      <td>0.182354</td>\n",
       "    </tr>\n",
       "    <tr>\n",
       "      <th>3</th>\n",
       "      <td>3</td>\n",
       "      <td>47</td>\n",
       "      <td>3</td>\n",
       "      <td>1506</td>\n",
       "      <td>5</td>\n",
       "      <td>5</td>\n",
       "      <td>92</td>\n",
       "      <td>1</td>\n",
       "      <td>-1</td>\n",
       "      <td>0</td>\n",
       "      <td>0</td>\n",
       "      <td>2.812119</td>\n",
       "      <td>-0.016881</td>\n",
       "      <td>1.237860</td>\n",
       "      <td>0.463110</td>\n",
       "      <td>-0.865411</td>\n",
       "      <td>0.068642</td>\n",
       "      <td>-0.777813</td>\n",
       "      <td>0.041188</td>\n",
       "    </tr>\n",
       "    <tr>\n",
       "      <th>4</th>\n",
       "      <td>4</td>\n",
       "      <td>33</td>\n",
       "      <td>3</td>\n",
       "      <td>1</td>\n",
       "      <td>5</td>\n",
       "      <td>5</td>\n",
       "      <td>198</td>\n",
       "      <td>1</td>\n",
       "      <td>-1</td>\n",
       "      <td>0</td>\n",
       "      <td>0</td>\n",
       "      <td>-0.073835</td>\n",
       "      <td>2.991254</td>\n",
       "      <td>1.203994</td>\n",
       "      <td>-1.282372</td>\n",
       "      <td>0.628338</td>\n",
       "      <td>1.920010</td>\n",
       "      <td>-1.352203</td>\n",
       "      <td>0.105009</td>\n",
       "    </tr>\n",
       "  </tbody>\n",
       "</table>\n",
       "</div>"
      ]
     },
     "execution_count": 13,
     "metadata": {},
     "output_type": "execute_result"
    }
   ],
   "execution_count": 13
  }
 ],
 "metadata": {
  "kernelspec": {
   "display_name": "Python 3",
   "language": "python",
   "name": "python3"
  },
  "language_info": {
   "codemirror_mode": {
    "name": "ipython",
    "version": 2
   },
   "file_extension": ".py",
   "mimetype": "text/x-python",
   "name": "python",
   "nbconvert_exporter": "python",
   "pygments_lexer": "ipython2",
   "version": "2.7.6"
  }
 },
 "nbformat": 4,
 "nbformat_minor": 5
}
