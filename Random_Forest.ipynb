{
 "cells": [
  {
   "metadata": {
    "ExecuteTime": {
     "end_time": "2024-12-25T10:57:15.302349Z",
     "start_time": "2024-12-25T10:57:15.102611Z"
    }
   },
   "cell_type": "code",
   "source": [
    "import pandas as pd\n",
    "\n",
    "df=pd.read_csv('finalPCA.csv')"
   ],
   "id": "8f41c652e1d40f4c",
   "outputs": [],
   "execution_count": 20
  },
  {
   "cell_type": "code",
   "id": "initial_id",
   "metadata": {
    "collapsed": true,
    "ExecuteTime": {
     "end_time": "2024-12-25T10:59:58.003410Z",
     "start_time": "2024-12-25T10:57:32.101831Z"
    }
   },
   "source": [
    "from sklearn.ensemble import RandomForestClassifier\n",
    "from sklearn.model_selection import train_test_split\n",
    "from sklearn.metrics import accuracy_score, classification_report\n",
    "from imblearn.combine import SMOTETomek\n",
    "from collections import Counter\n",
    "from sklearn.model_selection import RandomizedSearchCV\n",
    "\n",
    "\n",
    "\n",
    "\n",
    "\n",
    "X = df.drop([\"y\"], axis=1)\n",
    "Y = df[\"y\"]\n",
    "\n",
    "X_train, X_test, Y_train, Y_test = train_test_split(X, Y, test_size=0.2, random_state=42)\n",
    "rf = RandomForestClassifier(random_state=42)\n",
    "\n",
    "\n",
    "param_grid = {\n",
    "    'n_estimators': [200,250,300],\n",
    "    'max_depth': [10, 20, 30],\n",
    "    'min_samples_split': [10,15,20],\n",
    "    'min_samples_leaf': [5,10,15],\n",
    "    'max_features': ['sqrt','log2'],\n",
    "}\n",
    "\n",
    "\n",
    "\n",
    "random_search = RandomizedSearchCV(\n",
    "    estimator=rf,\n",
    "    param_distributions=param_grid,\n",
    "    n_iter=30,\n",
    "    cv=3,\n",
    "    random_state=42,\n",
    "    n_jobs=-1\n",
    ")\n",
    "\n",
    "random_search.fit(X_train, Y_train)\n",
    "print(\"Best Hyperparameters: \", random_search.best_params_)\n",
    "\n",
    "\n",
    "\n",
    "\n"
   ],
   "outputs": [
    {
     "name": "stdout",
     "output_type": "stream",
     "text": [
      "Best Hyperparameters:  {'n_estimators': 200, 'min_samples_split': 15, 'min_samples_leaf': 5, 'max_features': 'log2', 'max_depth': 20}\n"
     ]
    }
   ],
   "execution_count": 22
  },
  {
   "metadata": {
    "ExecuteTime": {
     "end_time": "2024-12-25T11:03:21.289592Z",
     "start_time": "2024-12-25T11:02:30.788553Z"
    }
   },
   "cell_type": "code",
   "source": [
    "\n",
    "smote_tomek = SMOTETomek(random_state=42)\n",
    "X_resampled, y_resampled = smote_tomek.fit_resample(X_train, Y_train)\n",
    "\n",
    "print(\"Class distribution after SMOTETomek:\", Counter(y_resampled))\n",
    "\n",
    "\n",
    "rf = RandomForestClassifier(min_samples_leaf=5,n_estimators=200,min_samples_split=15,max_features=\"log2\",class_weight='balanced',max_depth=20,random_state=42)\n",
    "rf.fit(X_resampled, y_resampled)\n",
    "\n",
    "y_train_pred = rf.predict(X_resampled)\n",
    "training_accuracy = accuracy_score(y_resampled, y_train_pred)\n",
    "print(f\"Training Accuracy: {training_accuracy * 100:.2f}%\")\n",
    "\n",
    "\n",
    "y_val_pred = rf.predict(X_test)\n",
    "validation_accuracy = accuracy_score(Y_test, y_val_pred)\n",
    "print(f\"Validation Accuracy: {validation_accuracy * 100:.2f}%\")\n",
    "\n",
    "y_prob = rf.predict_proba(X_test)[:, 1]\n",
    "threshold = 0.4  # Custom threshold\n",
    "y_pred = (y_prob > threshold).astype(int)\n",
    "\n",
    "print(classification_report(Y_test, y_pred))\n"
   ],
   "id": "740e4c9cc861d4d6",
   "outputs": [
    {
     "name": "stdout",
     "output_type": "stream",
     "text": [
      "Class distribution after SMOTETomek: Counter({0: 29832, 1: 29832})\n",
      "Training Accuracy: 97.10%\n",
      "Validation Accuracy: 89.67%\n",
      "              precision    recall  f1-score   support\n",
      "\n",
      "           0       0.97      0.89      0.93      7952\n",
      "           1       0.51      0.83      0.63      1091\n",
      "\n",
      "    accuracy                           0.88      9043\n",
      "   macro avg       0.74      0.86      0.78      9043\n",
      "weighted avg       0.92      0.88      0.89      9043\n",
      "\n"
     ]
    }
   ],
   "execution_count": 24
  },
  {
   "metadata": {
    "ExecuteTime": {
     "end_time": "2024-12-25T10:51:10.436977Z",
     "start_time": "2024-12-25T10:50:30.310631Z"
    }
   },
   "cell_type": "code",
   "source": [
    "from sklearn.model_selection import StratifiedKFold\n",
    "from sklearn.model_selection import cross_val_score\n",
    "\n",
    "stratified_kfold = StratifiedKFold(n_splits=5, shuffle=True, random_state=42)\n",
    "rf = RandomForestClassifier(class_weight='balanced',random_state=42)\n",
    "scores = cross_val_score(rf, X, Y, cv=stratified_kfold, scoring='f1_macro')\n",
    "print(\"Stratified Cross-Validation F1-Scores:\", scores)\n",
    "print(\"Mean F1-Score:\", scores.mean())"
   ],
   "id": "4d09a387fcab1e6d",
   "outputs": [
    {
     "name": "stdout",
     "output_type": "stream",
     "text": [
      "Stratified Cross-Validation F1-Scores: [0.73558631 0.73696711 0.72815943 0.74254025 0.73222176]\n",
      "Mean F1-Score: 0.7350949722936242\n"
     ]
    }
   ],
   "execution_count": 18
  },
  {
   "metadata": {
    "ExecuteTime": {
     "end_time": "2024-12-25T10:57:20.665512Z",
     "start_time": "2024-12-25T10:57:20.634298Z"
    }
   },
   "cell_type": "code",
   "source": "df.head()",
   "id": "a0e772f0a43a66ec",
   "outputs": [
    {
     "data": {
      "text/plain": [
       "   Unnamed: 0       age  education   balance  day  month  duration  campaign  \\\n",
       "0           0  1.651055          2  0.756822    5      5  0.405910 -0.870092   \n",
       "1           1  0.302248          1  0.367072    5      5  0.234837 -0.870092   \n",
       "2           2 -0.757528          1  0.362094    5      5  0.118196 -0.870092   \n",
       "3           3  0.591279          3  0.639381    5      5  0.143079 -0.870092   \n",
       "4           4 -0.757528          3  0.361910    5      5  0.307932 -0.870092   \n",
       "\n",
       "   pdays  previous  y      PCA1      PCA2      PCA3      PCA4      PCA5  \\\n",
       "0    0.0       0.0  0 -0.977435  0.490974 -0.169525 -0.370608  0.931344   \n",
       "1    0.0       0.0  0 -0.846006 -0.540116 -1.107939 -0.091377 -0.069491   \n",
       "2    0.0       0.0  0 -1.143216  0.589516 -0.002114  1.109814  0.251700   \n",
       "3    0.0       0.0  0 -1.247110  0.619359 -0.125332 -0.306701 -0.382120   \n",
       "4    0.0       0.0  0  0.268562  0.149515 -1.509453 -0.077746 -0.175880   \n",
       "\n",
       "       PCA6      PCA7      PCA8  \n",
       "0 -0.254142 -0.108786 -0.208366  \n",
       "1  0.645389 -0.299522 -0.469378  \n",
       "2 -0.020617 -0.261821 -0.172624  \n",
       "3 -0.258093  0.275624 -0.034303  \n",
       "4 -0.182524 -0.176405 -0.256351  "
      ],
      "text/html": [
       "<div>\n",
       "<style scoped>\n",
       "    .dataframe tbody tr th:only-of-type {\n",
       "        vertical-align: middle;\n",
       "    }\n",
       "\n",
       "    .dataframe tbody tr th {\n",
       "        vertical-align: top;\n",
       "    }\n",
       "\n",
       "    .dataframe thead th {\n",
       "        text-align: right;\n",
       "    }\n",
       "</style>\n",
       "<table border=\"1\" class=\"dataframe\">\n",
       "  <thead>\n",
       "    <tr style=\"text-align: right;\">\n",
       "      <th></th>\n",
       "      <th>Unnamed: 0</th>\n",
       "      <th>age</th>\n",
       "      <th>education</th>\n",
       "      <th>balance</th>\n",
       "      <th>day</th>\n",
       "      <th>month</th>\n",
       "      <th>duration</th>\n",
       "      <th>campaign</th>\n",
       "      <th>pdays</th>\n",
       "      <th>previous</th>\n",
       "      <th>y</th>\n",
       "      <th>PCA1</th>\n",
       "      <th>PCA2</th>\n",
       "      <th>PCA3</th>\n",
       "      <th>PCA4</th>\n",
       "      <th>PCA5</th>\n",
       "      <th>PCA6</th>\n",
       "      <th>PCA7</th>\n",
       "      <th>PCA8</th>\n",
       "    </tr>\n",
       "  </thead>\n",
       "  <tbody>\n",
       "    <tr>\n",
       "      <th>0</th>\n",
       "      <td>0</td>\n",
       "      <td>1.651055</td>\n",
       "      <td>2</td>\n",
       "      <td>0.756822</td>\n",
       "      <td>5</td>\n",
       "      <td>5</td>\n",
       "      <td>0.405910</td>\n",
       "      <td>-0.870092</td>\n",
       "      <td>0.0</td>\n",
       "      <td>0.0</td>\n",
       "      <td>0</td>\n",
       "      <td>-0.977435</td>\n",
       "      <td>0.490974</td>\n",
       "      <td>-0.169525</td>\n",
       "      <td>-0.370608</td>\n",
       "      <td>0.931344</td>\n",
       "      <td>-0.254142</td>\n",
       "      <td>-0.108786</td>\n",
       "      <td>-0.208366</td>\n",
       "    </tr>\n",
       "    <tr>\n",
       "      <th>1</th>\n",
       "      <td>1</td>\n",
       "      <td>0.302248</td>\n",
       "      <td>1</td>\n",
       "      <td>0.367072</td>\n",
       "      <td>5</td>\n",
       "      <td>5</td>\n",
       "      <td>0.234837</td>\n",
       "      <td>-0.870092</td>\n",
       "      <td>0.0</td>\n",
       "      <td>0.0</td>\n",
       "      <td>0</td>\n",
       "      <td>-0.846006</td>\n",
       "      <td>-0.540116</td>\n",
       "      <td>-1.107939</td>\n",
       "      <td>-0.091377</td>\n",
       "      <td>-0.069491</td>\n",
       "      <td>0.645389</td>\n",
       "      <td>-0.299522</td>\n",
       "      <td>-0.469378</td>\n",
       "    </tr>\n",
       "    <tr>\n",
       "      <th>2</th>\n",
       "      <td>2</td>\n",
       "      <td>-0.757528</td>\n",
       "      <td>1</td>\n",
       "      <td>0.362094</td>\n",
       "      <td>5</td>\n",
       "      <td>5</td>\n",
       "      <td>0.118196</td>\n",
       "      <td>-0.870092</td>\n",
       "      <td>0.0</td>\n",
       "      <td>0.0</td>\n",
       "      <td>0</td>\n",
       "      <td>-1.143216</td>\n",
       "      <td>0.589516</td>\n",
       "      <td>-0.002114</td>\n",
       "      <td>1.109814</td>\n",
       "      <td>0.251700</td>\n",
       "      <td>-0.020617</td>\n",
       "      <td>-0.261821</td>\n",
       "      <td>-0.172624</td>\n",
       "    </tr>\n",
       "    <tr>\n",
       "      <th>3</th>\n",
       "      <td>3</td>\n",
       "      <td>0.591279</td>\n",
       "      <td>3</td>\n",
       "      <td>0.639381</td>\n",
       "      <td>5</td>\n",
       "      <td>5</td>\n",
       "      <td>0.143079</td>\n",
       "      <td>-0.870092</td>\n",
       "      <td>0.0</td>\n",
       "      <td>0.0</td>\n",
       "      <td>0</td>\n",
       "      <td>-1.247110</td>\n",
       "      <td>0.619359</td>\n",
       "      <td>-0.125332</td>\n",
       "      <td>-0.306701</td>\n",
       "      <td>-0.382120</td>\n",
       "      <td>-0.258093</td>\n",
       "      <td>0.275624</td>\n",
       "      <td>-0.034303</td>\n",
       "    </tr>\n",
       "    <tr>\n",
       "      <th>4</th>\n",
       "      <td>4</td>\n",
       "      <td>-0.757528</td>\n",
       "      <td>3</td>\n",
       "      <td>0.361910</td>\n",
       "      <td>5</td>\n",
       "      <td>5</td>\n",
       "      <td>0.307932</td>\n",
       "      <td>-0.870092</td>\n",
       "      <td>0.0</td>\n",
       "      <td>0.0</td>\n",
       "      <td>0</td>\n",
       "      <td>0.268562</td>\n",
       "      <td>0.149515</td>\n",
       "      <td>-1.509453</td>\n",
       "      <td>-0.077746</td>\n",
       "      <td>-0.175880</td>\n",
       "      <td>-0.182524</td>\n",
       "      <td>-0.176405</td>\n",
       "      <td>-0.256351</td>\n",
       "    </tr>\n",
       "  </tbody>\n",
       "</table>\n",
       "</div>"
      ]
     },
     "execution_count": 21,
     "metadata": {},
     "output_type": "execute_result"
    }
   ],
   "execution_count": 21
  }
 ],
 "metadata": {
  "kernelspec": {
   "display_name": "Python 3",
   "language": "python",
   "name": "python3"
  },
  "language_info": {
   "codemirror_mode": {
    "name": "ipython",
    "version": 2
   },
   "file_extension": ".py",
   "mimetype": "text/x-python",
   "name": "python",
   "nbconvert_exporter": "python",
   "pygments_lexer": "ipython2",
   "version": "2.7.6"
  }
 },
 "nbformat": 4,
 "nbformat_minor": 5
}
