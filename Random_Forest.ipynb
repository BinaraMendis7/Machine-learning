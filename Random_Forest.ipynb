{
 "cells": [
  {
   "metadata": {
    "ExecuteTime": {
     "end_time": "2025-01-01T06:36:06.593365Z",
     "start_time": "2025-01-01T06:36:06.425166Z"
    }
   },
   "cell_type": "code",
   "source": [
    "import pandas as pd\n",
    "\n",
    "df=pd.read_csv('finalPCA.csv')"
   ],
   "id": "8f41c652e1d40f4c",
   "outputs": [],
   "execution_count": 33
  },
  {
   "cell_type": "code",
   "id": "initial_id",
   "metadata": {
    "collapsed": true,
    "ExecuteTime": {
     "end_time": "2025-01-01T06:38:42.853585Z",
     "start_time": "2025-01-01T06:36:06.603941Z"
    }
   },
   "source": [
    "from sklearn.ensemble import RandomForestClassifier\n",
    "from sklearn.model_selection import train_test_split\n",
    "from sklearn.metrics import accuracy_score, classification_report, confusion_matrix\n",
    "from imblearn.combine import SMOTETomek\n",
    "from collections import Counter\n",
    "from sklearn.model_selection import RandomizedSearchCV\n",
    "\n",
    "\n",
    "\n",
    "\n",
    "\n",
    "X = df.drop([\"y\"], axis=1)\n",
    "Y = df[\"y\"]\n",
    "\n",
    "X_train, X_test, Y_train, Y_test = train_test_split(X, Y, test_size=0.2, random_state=42)\n",
    "rf = RandomForestClassifier(random_state=42)\n",
    "\n",
    "\n",
    "param_grid = {\n",
    "    'n_estimators': [200,250,300],\n",
    "    'max_depth': [10, 20, 30],\n",
    "    'min_samples_split': [10,15,20],\n",
    "    'min_samples_leaf': [5,10,15],\n",
    "    'max_features': ['sqrt','log2'],\n",
    "}\n",
    "\n",
    "\n",
    "\n",
    "random_search = RandomizedSearchCV(\n",
    "    estimator=rf,\n",
    "    param_distributions=param_grid,\n",
    "    n_iter=30,\n",
    "    cv=3,\n",
    "    random_state=42,\n",
    "    n_jobs=-1\n",
    ")\n",
    "\n",
    "random_search.fit(X_train, Y_train)\n",
    "print(\"Best Hyperparameters: \", random_search.best_params_)\n",
    "\n",
    "\n",
    "\n",
    "\n"
   ],
   "outputs": [
    {
     "name": "stdout",
     "output_type": "stream",
     "text": [
      "Best Hyperparameters:  {'n_estimators': 200, 'min_samples_split': 15, 'min_samples_leaf': 5, 'max_features': 'log2', 'max_depth': 20}\n"
     ]
    }
   ],
   "execution_count": 34
  },
  {
   "metadata": {
    "ExecuteTime": {
     "end_time": "2025-01-01T06:38:42.984254Z",
     "start_time": "2025-01-01T06:38:42.964172Z"
    }
   },
   "cell_type": "code",
   "source": [
    "count_zeros = df['y'].value_counts().get(0, 0)\n",
    "count_ones = df['y'].value_counts().get(1, 0)\n",
    "print(\"Negative class: \", count_zeros)\n",
    "print(\"Positive class: \", count_ones)"
   ],
   "id": "998dcaf56f82dd54",
   "outputs": [
    {
     "name": "stdout",
     "output_type": "stream",
     "text": [
      "Negative class:  39922\n",
      "Positive class:  5289\n"
     ]
    }
   ],
   "execution_count": 35
  },
  {
   "metadata": {
    "ExecuteTime": {
     "end_time": "2025-01-01T06:39:30.016811Z",
     "start_time": "2025-01-01T06:38:43.006091Z"
    }
   },
   "cell_type": "code",
   "source": [
    "\n",
    "smote_tomek = SMOTETomek(random_state=42)\n",
    "X_resampled, y_resampled = smote_tomek.fit_resample(X_train, Y_train)\n",
    "\n",
    "print(\"Class distribution after SMOTETomek:\", Counter(y_resampled))\n",
    "\n",
    "\n",
    "rf = RandomForestClassifier(min_samples_leaf=5,n_estimators=200,min_samples_split=15,max_features=\"log2\",class_weight='balanced',max_depth=20,random_state=42)\n",
    "rf.fit(X_resampled, y_resampled)\n",
    "\n",
    "y_train_pred = rf.predict(X_resampled)\n",
    "training_accuracy = accuracy_score(y_resampled, y_train_pred)\n",
    "print(f\"Training Accuracy: {training_accuracy * 100:.2f}%\")\n",
    "\n",
    "\n",
    "y_val_pred = rf.predict(X_test)\n",
    "validation_accuracy = accuracy_score(Y_test, y_val_pred)\n",
    "print(f\"Validation Accuracy: {validation_accuracy * 100:.2f}%\")\n",
    "\n",
    "\n"
   ],
   "id": "740e4c9cc861d4d6",
   "outputs": [
    {
     "name": "stdout",
     "output_type": "stream",
     "text": [
      "Class distribution after SMOTETomek: Counter({0: 31354, 1: 31354})\n",
      "Training Accuracy: 96.89%\n",
      "Validation Accuracy: 89.23%\n"
     ]
    }
   ],
   "execution_count": 36
  },
  {
   "metadata": {
    "ExecuteTime": {
     "end_time": "2025-01-01T06:39:31.227043Z",
     "start_time": "2025-01-01T06:39:30.066682Z"
    }
   },
   "cell_type": "code",
   "source": [
    "\n",
    "thersholds=[0.4,0.3,0.2,0.8]\n",
    "for Num in thersholds:\n",
    "    y_prob = rf.predict_proba(X_test)[:, 1]\n",
    "    threshold= Num\n",
    "    y_pred = (y_prob > threshold).astype(int)\n",
    "    print(Num, end=\" \")\n",
    "    print(classification_report(Y_test, y_pred))\n",
    "\n"
   ],
   "id": "ff32413be8678917",
   "outputs": [
    {
     "name": "stdout",
     "output_type": "stream",
     "text": [
      "0.4               precision    recall  f1-score   support\n",
      "\n",
      "           0       0.98      0.89      0.93      7952\n",
      "           1       0.50      0.84      0.63      1091\n",
      "\n",
      "    accuracy                           0.88      9043\n",
      "   macro avg       0.74      0.86      0.78      9043\n",
      "weighted avg       0.92      0.88      0.89      9043\n",
      "\n",
      "0.3               precision    recall  f1-score   support\n",
      "\n",
      "           0       0.98      0.85      0.91      7952\n",
      "           1       0.46      0.90      0.61      1091\n",
      "\n",
      "    accuracy                           0.86      9043\n",
      "   macro avg       0.72      0.88      0.76      9043\n",
      "weighted avg       0.92      0.86      0.88      9043\n",
      "\n",
      "0.2               precision    recall  f1-score   support\n",
      "\n",
      "           0       0.99      0.81      0.89      7952\n",
      "           1       0.41      0.95      0.57      1091\n",
      "\n",
      "    accuracy                           0.83      9043\n",
      "   macro avg       0.70      0.88      0.73      9043\n",
      "weighted avg       0.92      0.83      0.85      9043\n",
      "\n",
      "0.8               precision    recall  f1-score   support\n",
      "\n",
      "           0       0.90      0.99      0.94      7952\n",
      "           1       0.74      0.20      0.31      1091\n",
      "\n",
      "    accuracy                           0.89      9043\n",
      "   macro avg       0.82      0.59      0.63      9043\n",
      "weighted avg       0.88      0.89      0.87      9043\n",
      "\n"
     ]
    }
   ],
   "execution_count": 37
  },
  {
   "metadata": {
    "ExecuteTime": {
     "end_time": "2025-01-01T06:39:31.548989Z",
     "start_time": "2025-01-01T06:39:31.266004Z"
    }
   },
   "cell_type": "code",
   "source": [
    "Num=0.4\n",
    "y_prob = rf.predict_proba(X_test)[:, 1]\n",
    "threshold= Num\n",
    "y_pred = (y_prob > threshold).astype(int)\n",
    "print(Num, end=\" \")\n",
    "print(classification_report(Y_test, y_pred))"
   ],
   "id": "45ce2bb59ef67eea",
   "outputs": [
    {
     "name": "stdout",
     "output_type": "stream",
     "text": [
      "0.4               precision    recall  f1-score   support\n",
      "\n",
      "           0       0.98      0.89      0.93      7952\n",
      "           1       0.50      0.84      0.63      1091\n",
      "\n",
      "    accuracy                           0.88      9043\n",
      "   macro avg       0.74      0.86      0.78      9043\n",
      "weighted avg       0.92      0.88      0.89      9043\n",
      "\n"
     ]
    }
   ],
   "execution_count": 38
  },
  {
   "metadata": {
    "ExecuteTime": {
     "end_time": "2025-01-01T06:39:31.610176Z",
     "start_time": "2025-01-01T06:39:31.596425Z"
    }
   },
   "cell_type": "code",
   "source": [
    "from sklearn.metrics import confusion_matrix\n",
    "print(confusion_matrix(Y_test, y_pred))"
   ],
   "id": "207e587e734c988f",
   "outputs": [
    {
     "name": "stdout",
     "output_type": "stream",
     "text": [
      "[[7050  902]\n",
      " [ 172  919]]\n"
     ]
    }
   ],
   "execution_count": 39
  },
  {
   "metadata": {
    "ExecuteTime": {
     "end_time": "2025-01-01T06:40:10.645354Z",
     "start_time": "2025-01-01T06:39:31.662050Z"
    }
   },
   "cell_type": "code",
   "source": [
    "from sklearn.model_selection import StratifiedKFold\n",
    "from sklearn.model_selection import cross_val_score\n",
    "\n",
    "stratified_kfold = StratifiedKFold(n_splits=5, shuffle=True, random_state=42)\n",
    "rf = RandomForestClassifier(class_weight='balanced',random_state=42)\n",
    "scores = cross_val_score(rf, X, Y, cv=stratified_kfold, scoring='f1_macro')\n",
    "print(\"Cross-Validation scores:\", scores)\n",
    "print(\"Mean:\", scores.mean())"
   ],
   "id": "4d09a387fcab1e6d",
   "outputs": [
    {
     "name": "stdout",
     "output_type": "stream",
     "text": [
      "Cross-Validation scores: [0.73570973 0.73392247 0.73157678 0.74098158 0.73347746]\n",
      "Mean: 0.735133602323593\n"
     ]
    }
   ],
   "execution_count": 40
  }
 ],
 "metadata": {
  "kernelspec": {
   "display_name": "Python 3",
   "language": "python",
   "name": "python3"
  },
  "language_info": {
   "codemirror_mode": {
    "name": "ipython",
    "version": 2
   },
   "file_extension": ".py",
   "mimetype": "text/x-python",
   "name": "python",
   "nbconvert_exporter": "python",
   "pygments_lexer": "ipython2",
   "version": "2.7.6"
  }
 },
 "nbformat": 4,
 "nbformat_minor": 5
}
