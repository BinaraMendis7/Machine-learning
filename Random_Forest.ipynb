{
 "cells": [
  {
   "cell_type": "code",
   "id": "initial_id",
   "metadata": {
    "collapsed": true,
    "jupyter": {
     "is_executing": true
    },
    "ExecuteTime": {
     "start_time": "2024-12-25T06:13:23.915510Z"
    }
   },
   "source": [
    "from sklearn.ensemble import RandomForestClassifier\n",
    "from sklearn.model_selection import train_test_split\n",
    "from sklearn.metrics import accuracy_score, classification_report\n",
    "from imblearn.combine import SMOTETomek\n",
    "from collections import Counter\n",
    "from sklearn.model_selection import RandomizedSearchCV\n",
    "import pandas as pd\n",
    "\n",
    "df=pd.read_csv('final.csv')\n",
    "\n",
    "\n",
    "\n",
    "\n",
    "X = df.drop([\"y\"], axis=1)\n",
    "Y = df[\"y\"]\n",
    "\n",
    "X_train, X_test, Y_train, Y_test = train_test_split(X, Y, test_size=0.2, random_state=42)\n",
    "rf = RandomForestClassifier(random_state=42)\n",
    "\n",
    "\n",
    "param_grid = {\n",
    "    'n_estimators': [200,250,300],\n",
    "    'max_depth': [10, 20, 30, None],\n",
    "    'min_samples_split': [10,15,20],\n",
    "    'min_samples_leaf': [5,10,15],\n",
    "    'max_features': ['sqrt','log2'],\n",
    "}\n",
    "\n",
    "\n",
    "\n",
    "random_search = RandomizedSearchCV(\n",
    "    estimator=rf,\n",
    "    param_distributions=param_grid,\n",
    "    n_iter=30,\n",
    "    cv=3,\n",
    "    random_state=42,\n",
    "    n_jobs=-1\n",
    ")\n",
    "\n",
    "random_search.fit(X_train, Y_train)\n",
    "print(\"Best Hyperparameters: \", random_search.best_params_)\n",
    "\n",
    "\n",
    "\n",
    "\n"
   ],
   "outputs": [],
   "execution_count": null
  },
  {
   "metadata": {},
   "cell_type": "code",
   "outputs": [],
   "execution_count": null,
   "source": [
    "\n",
    "smote_tomek = SMOTETomek(random_state=42)\n",
    "X_resampled, y_resampled = smote_tomek.fit_resample(X_train, Y_train)\n",
    "\n",
    "print(\"Class distribution after SMOTETomek:\", Counter(y_resampled))\n",
    "\n",
    "\n",
    "rf = RandomForestClassifier(min_samples_leaf=10,n_estimators=200,min_samples_split=15,max_features=\"log2\",class_weight='balanced',random_state=42)\n",
    "rf.fit(X_resampled, y_resampled)\n",
    "\n",
    "y_train_pred = rf.predict(X_resampled)\n",
    "training_accuracy = accuracy_score(y_resampled, y_train_pred)\n",
    "print(f\"Training Accuracy: {training_accuracy * 100:.2f}%\")\n",
    "\n",
    "\n",
    "y_val_pred = rf.predict(X_test)\n",
    "validation_accuracy = accuracy_score(Y_test, y_val_pred)\n",
    "print(f\"Validation Accuracy: {validation_accuracy * 100:.2f}%\")\n",
    "\n",
    "y_prob = rf.predict_proba(X_test)[:, 1]\n",
    "threshold = 0.4  # Custom threshold\n",
    "y_pred = (y_prob > threshold).astype(int)\n",
    "\n",
    "print(classification_report(Y_test, y_pred))\n"
   ],
   "id": "cf1af47996a734e8"
  },
  {
   "metadata": {},
   "cell_type": "code",
   "outputs": [],
   "execution_count": null,
   "source": [
    "from sklearn.model_selection import StratifiedKFold\n",
    "from sklearn.model_selection import cross_val_score\n",
    "\n",
    "stratified_kfold = StratifiedKFold(n_splits=5, shuffle=True, random_state=42)\n",
    "rf = RandomForestClassifier(class_weight='balanced',random_state=42)\n",
    "scores = cross_val_score(rf, X, Y, cv=stratified_kfold, scoring='f1_macro')\n",
    "print(\"Stratified Cross-Validation F1-Scores:\", scores)\n",
    "print(\"Mean F1-Score:\", scores.mean())\n"
   ],
   "id": "1279b776bdafa990"
  }
 ],
 "metadata": {
  "kernelspec": {
   "display_name": "Python 3",
   "language": "python",
   "name": "python3"
  },
  "language_info": {
   "codemirror_mode": {
    "name": "ipython",
    "version": 2
   },
   "file_extension": ".py",
   "mimetype": "text/x-python",
   "name": "python",
   "nbconvert_exporter": "python",
   "pygments_lexer": "ipython2",
   "version": "2.7.6"
  }
 },
 "nbformat": 4,
 "nbformat_minor": 5
}
